{
 "cells": [
  {
   "cell_type": "code",
   "execution_count": 22,
   "id": "d566ab76",
   "metadata": {},
   "outputs": [],
   "source": [
    "import sys\n",
    "import os\n",
    "import vamb\n",
    "import torch\n",
    "import pickle\n",
    "import numpy as np\n",
    "import pandas as pd\n",
    "import matplotlib.pyplot as plt\n",
    "from collections import defaultdict"
   ]
  },
  {
   "cell_type": "markdown",
   "id": "832c83bd",
   "metadata": {},
   "source": [
    "## Ground truth experiment"
   ]
  },
  {
   "cell_type": "code",
   "execution_count": 10,
   "id": "52771f45",
   "metadata": {},
   "outputs": [],
   "source": [
    "PATH_VAMB = '/Users/nmb127/Documents/vamb'\n",
    "PATH_VAMB_DATA = '/Users/nmb127/Documents/vamb_data'"
   ]
  },
  {
   "cell_type": "code",
   "execution_count": 11,
   "id": "e01eb325",
   "metadata": {},
   "outputs": [],
   "source": [
    "def parse_logfile(filepath):\n",
    "    results = defaultdict(list)\n",
    "    with open(f'{PATH_VAMB}/{filepath}') as f:\n",
    "        for line in f:\n",
    "            if line.startswith('loss_vamb'):\n",
    "                for metric in line.split(', '):\n",
    "                    k, v = metric.split(' ')\n",
    "                    results[k].append(float(v))\n",
    "    return results"
   ]
  },
  {
   "cell_type": "code",
   "execution_count": 33,
   "id": "176dbbba",
   "metadata": {},
   "outputs": [],
   "source": [
    "def filterclusters(clusters, lengthof):\n",
    "    filtered_bins = dict()\n",
    "    for medoid, contigs in clusters.items():\n",
    "        binsize = sum(lengthof[contig] for contig in contigs)\n",
    "    \n",
    "        if binsize >= 200000:\n",
    "            filtered_bins[medoid] = contigs\n",
    "    \n",
    "    return filtered_bins"
   ]
  },
  {
   "cell_type": "code",
   "execution_count": 437,
   "id": "c75ac8a3",
   "metadata": {},
   "outputs": [],
   "source": [
    "contig_path = f'{PATH_VAMB_DATA}/data/airways/contigs.fna'\n",
    "with vamb.vambtools.Reader(contig_path, 'rb') as filehandle:\n",
    "    tnfs, CONTIGNAMES, LENGTHS = vamb.parsecontigs.read_contigs(filehandle)\n",
    "rpkms = vamb.vambtools.read_npz(f'{PATH_VAMB_DATA}/vamb_on_airways/depths.npz')\n",
    "_, MASK = vamb.encode.make_dataloader(rpkms, tnfs)"
   ]
  },
  {
   "cell_type": "code",
   "execution_count": 436,
   "id": "161caa97",
   "metadata": {},
   "outputs": [],
   "source": [
    "def dataset_info(contig_path, depths_path, reference_path, taxonomy_path):\n",
    "    with vamb.vambtools.Reader(contig_path, 'rb') as filehandle:\n",
    "        tnfs, CONTIGNAMES, LENGTHS = vamb.parsecontigs.read_contigs(filehandle)\n",
    "    rpkms = vamb.vambtools.read_npz(depths_path)\n",
    "    _, MASK = vamb.encode.make_dataloader(rpkms, tnfs)\n",
    "    with open(reference_path) as reference_file:\n",
    "        REFERENCE = vamb.benchmark.Reference.from_file(reference_file)\n",
    "    with open(taxonomy_path) as taxonomy_file:\n",
    "        REFERENCE.load_tax_file(taxonomy_file)\n",
    "    return CONTIGNAMES, MASK, LENGTHS, REFERENCE"
   ]
  },
  {
   "cell_type": "code",
   "execution_count": 451,
   "id": "7704fe55",
   "metadata": {},
   "outputs": [
    {
     "data": {
      "text/plain": [
       "'/Users/nmb127/Documents/vamb_data/data/airways/reference.tsv'"
      ]
     },
     "execution_count": 451,
     "metadata": {},
     "output_type": "execute_result"
    }
   ],
   "source": [
    "reference_path"
   ]
  },
  {
   "cell_type": "code",
   "execution_count": 17,
   "id": "314a9076",
   "metadata": {},
   "outputs": [
    {
     "name": "stdout",
     "output_type": "stream",
     "text": [
      "S23C236194\tOTU_97.38699.0\tCP013953.1\t405835\t408637\r\n",
      "S23C27593\tOTU_97.44406.0\tCP015430.1\t1591817\t1594726\r\n",
      "S23C53437\tOTU_97.35057.0\tCP012974.1\t260542\t266700\r\n",
      "S23C191539\tOTU_97.16597.0\tCP010116.1\t1675948\t1678686\r\n",
      "S23C111210\tOTU_97.20680.0\tCP013619.1\t408162\t411064\r\n",
      "S23C216129\tOTU_97.409.0\tCP013957.1\t103779\t106015\r\n",
      "S23C2782\tOTU_97.45246.0\tCP007573.1\t1941619\t1956892\r\n",
      "S23C9729\tOTU_97.44851.0\tCP015426.1\t1099587\t1121671\r\n",
      "S23C36165\tOTU_97.409.0\tCP013957.1\t427732\t429801\r\n",
      "S23C90379\tOTU_97.2104.0\tCP019196.1\t300725\t303071\r\n"
     ]
    }
   ],
   "source": [
    "reference_path = f'{PATH_VAMB_DATA}/data/airways/reference.tsv'\n",
    "\n",
    "!head $reference_path # show first 10 lines of reference file\n",
    "\n",
    "with open(reference_path) as reference_file:\n",
    "    REFERENCE = vamb.benchmark.Reference.from_file(reference_file)"
   ]
  },
  {
   "cell_type": "code",
   "execution_count": 165,
   "id": "ee06a08f",
   "metadata": {},
   "outputs": [
    {
     "name": "stdout",
     "output_type": "stream",
     "text": [
      "OTU_97.39766.0\tCorynebacterium pseudotuberculosis\tCorynebacterium\r\n",
      "OTU_97.7195.0\tAcinetobacter baumannii\tAcinetobacter\r\n",
      "OTU_97.34725.0\tStaphylococcus aureus\tStaphylococcus\r\n",
      "OTU_97.1051.0\tCorynebacterium ulcerans\tCorynebacterium\r\n",
      "OTU_97.34663.0\tStaphylococcus aureus\tStaphylococcus\r\n",
      "OTU_97.8581.0\tCorynebacterium doosanense\tCorynebacterium\r\n",
      "OTU_97.8702.0\tFlavobacterium psychrophilum\tFlavobacterium\r\n",
      "OTU_97.31374.1\tCorynebacterium ulcerans\tCorynebacterium\r\n",
      "OTU_97.479.0\tFlavobacterium gilvum\tFlavobacterium\r\n",
      "OTU_97.37290.0\tStaphylococcus equorum\tStaphylococcus\r\n"
     ]
    }
   ],
   "source": [
    "taxonomy_path = '/Users/nmb127/Documents/vamb_data/data/airways/taxonomy.tsv'\n",
    "\n",
    "!head $taxonomy_path # show first 10 lines of reference file\n",
    "\n",
    "with open(taxonomy_path) as taxonomy_file:\n",
    "    reference.load_tax_file(taxonomy_file)"
   ]
  },
  {
   "cell_type": "code",
   "execution_count": 448,
   "id": "27c8240a",
   "metadata": {},
   "outputs": [],
   "source": [
    "def save_clusters(filepath, cluster_path, indices=None):\n",
    "    print(filepath)\n",
    "    latent_labels = np.load(f'{PATH_VAMB}/{filepath}')\n",
    "    print(latent_labels.shape)\n",
    "    if indices:\n",
    "        print(len(indices))\n",
    "        contignames, mask, lengths = \\\n",
    "            np.array(CONTIGNAMES)[indices], np.array(MASK)[indices], np.array(LENGTHS)[indices]\n",
    "    else:\n",
    "        contignames, mask, lengths = CONTIGNAMES, MASK, LENGTHS\n",
    "    \n",
    "    filtered_labels = [n for (n,m) in zip(contignames, mask) if m]\n",
    "    cluster_iterator = vamb.cluster.cluster(latent_labels, labels=filtered_labels)\n",
    "    clusters = dict(cluster_iterator)\n",
    "\n",
    "    medoid, contigs = next(iter(clusters.items()))\n",
    "    print('First key:', medoid, '(of type:', type(medoid), ')')\n",
    "    print('Type of values:', type(contigs))\n",
    "    print('First element of value:', next(iter(contigs)), 'of type:', type(next(iter(contigs))))\n",
    "\n",
    "    lengthof = dict(zip(contignames, lengths))\n",
    "    filtered_bins = filterclusters(vamb.vambtools.binsplit(clusters, 'C'), lengthof)\n",
    "    print('Number of bins before splitting and filtering:', len(clusters))\n",
    "    print('Number of bins after splitting and filtering:', len(filtered_bins))\n",
    "\n",
    "    with open(f'{PATH_VAMB}/{cluster_path}', 'w') as file:\n",
    "        vamb.vambtools.write_clusters(file, filtered_bins)\n",
    "\n",
    "\n",
    "def bin_saved_clusters(cluster_path):\n",
    "    with open(f'{PATH_VAMB}/{cluster_path}') as clusters_file:\n",
    "        vamb_clusters = vamb.vambtools.read_clusters(clusters_file)\n",
    "        vamb_clusters_clean = {k: [i.strip() for i in v] for k, v in vamb_clusters.items()}\n",
    "        vamb_bins = vamb.benchmark.Binning(vamb_clusters_clean, REFERENCE, minsize=200000)\n",
    "    return vamb_bins\n"
   ]
  },
  {
   "cell_type": "code",
   "execution_count": 362,
   "id": "8388be2e",
   "metadata": {},
   "outputs": [
    {
     "data": {
      "text/plain": [
       "(78, 78)"
      ]
     },
     "execution_count": 362,
     "metadata": {},
     "output_type": "execute_result"
    }
   ],
   "source": [
    "lengthof = dict(zip(CONTIGNAMES, LENGTHS))\n",
    "\n",
    "with open(f'{PATH_VAMB}/clusters.tsv') as clusters_file:\n",
    "    vamb_clusters = vamb.vambtools.read_clusters(clusters_file)\n",
    "    vamb_clusters_clean = {k: [i.strip() for i in v] for k, v in vamb_clusters.items()}\n",
    "    filtered_bins = filterclusters(vamb.vambtools.binsplit(vamb_clusters_clean, 'C'), lengthof)\n",
    "    vamb_bins = vamb.benchmark.Binning(filtered_bins, REFERENCE, minsize=200_000)\n",
    "\n",
    "with open(f'{PATH_VAMB}/clusters.tsv') as clusters_file:\n",
    "    vamb_clusters = vamb.benchmark.Binning.from_file(clusters_file, REFERENCE, minsize=200_000, binsplit_separator='C')\n",
    "\n",
    "(vamb_clusters.counters[0][(0.9, 0.95)],\n",
    "vamb_bins.counters[0][(0.9, 0.95)])"
   ]
  },
  {
   "cell_type": "code",
   "execution_count": 374,
   "id": "de7d28de",
   "metadata": {},
   "outputs": [
    {
     "data": {
      "text/plain": [
       "(56, 56)"
      ]
     },
     "execution_count": 374,
     "metadata": {},
     "output_type": "execute_result"
    }
   ],
   "source": [
    "lengthof = dict(zip(CONTIGNAMES, LENGTHS))\n",
    "\n",
    "with open(f'{PATH_VAMB}/clusters_vamb_batchstep.tsv') as clusters_file:\n",
    "    vamb_clusters = vamb.vambtools.read_clusters(clusters_file)\n",
    "    vamb_clusters_clean = {k: [i.strip() for i in v] for k, v in vamb_clusters.items()}\n",
    "    filtered_bins = filterclusters(vamb.vambtools.binsplit(vamb_clusters_clean, 'C'), lengthof)\n",
    "    vamb_bins = vamb.benchmark.Binning(filtered_bins, REFERENCE, minsize=200_000)\n",
    "\n",
    "with open(f'{PATH_VAMB}/clusters_vamb_batchstep.tsv') as clusters_file:\n",
    "    vamb_clusters = vamb.benchmark.Binning.from_file(clusters_file, REFERENCE, minsize=200_000, binsplit_separator='C')\n",
    "\n",
    "(vamb_clusters.counters[0][(0.9, 0.95)],\n",
    "vamb_bins.counters[0][(0.9, 0.95)])\n"
   ]
  },
  {
   "cell_type": "code",
   "execution_count": 395,
   "id": "4b684e27",
   "metadata": {},
   "outputs": [
    {
     "name": "stdout",
     "output_type": "stream",
     "text": [
      "latent_trained_vamb.npy\n",
      "(187685, 32)\n",
      "First key: S4C262502 (of type: <class 'str'> )\n",
      "Type of values: <class 'set'>\n",
      "First element of value: S4C262502 of type: <class 'str'>\n",
      "Number of bins before splitting and filtering: 69890\n",
      "Number of bins after splitting and filtering: 481\n"
     ]
    }
   ],
   "source": [
    "save_clusters('latent_trained_vamb.npy', 'clusters_vamb_batchstep.tsv')"
   ]
  },
  {
   "cell_type": "code",
   "execution_count": 449,
   "id": "1b461df3",
   "metadata": {},
   "outputs": [
    {
     "name": "stdout",
     "output_type": "stream",
     "text": [
      "latent.npz\n",
      "(81602, 32)\n"
     ]
    },
    {
     "ename": "ValueError",
     "evalue": "Got 187685 labels for 81602 points",
     "output_type": "error",
     "traceback": [
      "\u001b[0;31m---------------------------------------------------------------------------\u001b[0m",
      "\u001b[0;31mValueError\u001b[0m                                Traceback (most recent call last)",
      "\u001b[0;32m/var/folders/5b/1dk8bnws25l6w502hfdc8xw80000gn/T/ipykernel_12840/3605135839.py\u001b[0m in \u001b[0;36m<module>\u001b[0;34m\u001b[0m\n\u001b[0;32m----> 1\u001b[0;31m \u001b[0msave_clusters\u001b[0m\u001b[0;34m(\u001b[0m\u001b[0;34m'latent.npz'\u001b[0m\u001b[0;34m,\u001b[0m \u001b[0;34m'clusters_vamb_results.tsv'\u001b[0m\u001b[0;34m)\u001b[0m\u001b[0;34m\u001b[0m\u001b[0;34m\u001b[0m\u001b[0m\n\u001b[0m",
      "\u001b[0;32m/var/folders/5b/1dk8bnws25l6w502hfdc8xw80000gn/T/ipykernel_12840/2329434870.py\u001b[0m in \u001b[0;36msave_clusters\u001b[0;34m(filepath, cluster_path, indices)\u001b[0m\n\u001b[1;32m     12\u001b[0m     \u001b[0mfiltered_labels\u001b[0m \u001b[0;34m=\u001b[0m \u001b[0;34m[\u001b[0m\u001b[0mn\u001b[0m \u001b[0;32mfor\u001b[0m \u001b[0;34m(\u001b[0m\u001b[0mn\u001b[0m\u001b[0;34m,\u001b[0m\u001b[0mm\u001b[0m\u001b[0;34m)\u001b[0m \u001b[0;32min\u001b[0m \u001b[0mzip\u001b[0m\u001b[0;34m(\u001b[0m\u001b[0mcontignames\u001b[0m\u001b[0;34m,\u001b[0m \u001b[0mmask\u001b[0m\u001b[0;34m)\u001b[0m \u001b[0;32mif\u001b[0m \u001b[0mm\u001b[0m\u001b[0;34m]\u001b[0m\u001b[0;34m\u001b[0m\u001b[0;34m\u001b[0m\u001b[0m\n\u001b[1;32m     13\u001b[0m     \u001b[0mcluster_iterator\u001b[0m \u001b[0;34m=\u001b[0m \u001b[0mvamb\u001b[0m\u001b[0;34m.\u001b[0m\u001b[0mcluster\u001b[0m\u001b[0;34m.\u001b[0m\u001b[0mcluster\u001b[0m\u001b[0;34m(\u001b[0m\u001b[0mlatent_labels\u001b[0m\u001b[0;34m,\u001b[0m \u001b[0mlabels\u001b[0m\u001b[0;34m=\u001b[0m\u001b[0mfiltered_labels\u001b[0m\u001b[0;34m)\u001b[0m\u001b[0;34m\u001b[0m\u001b[0;34m\u001b[0m\u001b[0m\n\u001b[0;32m---> 14\u001b[0;31m     \u001b[0mclusters\u001b[0m \u001b[0;34m=\u001b[0m \u001b[0mdict\u001b[0m\u001b[0;34m(\u001b[0m\u001b[0mcluster_iterator\u001b[0m\u001b[0;34m)\u001b[0m\u001b[0;34m\u001b[0m\u001b[0;34m\u001b[0m\u001b[0m\n\u001b[0m\u001b[1;32m     15\u001b[0m \u001b[0;34m\u001b[0m\u001b[0m\n\u001b[1;32m     16\u001b[0m     \u001b[0mmedoid\u001b[0m\u001b[0;34m,\u001b[0m \u001b[0mcontigs\u001b[0m \u001b[0;34m=\u001b[0m \u001b[0mnext\u001b[0m\u001b[0;34m(\u001b[0m\u001b[0miter\u001b[0m\u001b[0;34m(\u001b[0m\u001b[0mclusters\u001b[0m\u001b[0;34m.\u001b[0m\u001b[0mitems\u001b[0m\u001b[0;34m(\u001b[0m\u001b[0;34m)\u001b[0m\u001b[0;34m)\u001b[0m\u001b[0;34m)\u001b[0m\u001b[0;34m\u001b[0m\u001b[0;34m\u001b[0m\u001b[0m\n",
      "\u001b[0;32m~/Documents/vamb/vamb/cluster.py\u001b[0m in \u001b[0;36mcluster\u001b[0;34m(matrix, labels, maxsteps, windowsize, minsuccesses, destroy, normalized, cuda)\u001b[0m\n\u001b[1;32m    453\u001b[0m     \"\"\"\n\u001b[1;32m    454\u001b[0m     \u001b[0;32mif\u001b[0m \u001b[0mlabels\u001b[0m \u001b[0;32mis\u001b[0m \u001b[0;32mnot\u001b[0m \u001b[0;32mNone\u001b[0m \u001b[0;32mand\u001b[0m \u001b[0mlen\u001b[0m\u001b[0;34m(\u001b[0m\u001b[0mmatrix\u001b[0m\u001b[0;34m)\u001b[0m \u001b[0;34m!=\u001b[0m \u001b[0mlen\u001b[0m\u001b[0;34m(\u001b[0m\u001b[0mlabels\u001b[0m\u001b[0;34m)\u001b[0m\u001b[0;34m:\u001b[0m\u001b[0;34m\u001b[0m\u001b[0;34m\u001b[0m\u001b[0m\n\u001b[0;32m--> 455\u001b[0;31m         \u001b[0;32mraise\u001b[0m \u001b[0mValueError\u001b[0m\u001b[0;34m(\u001b[0m\u001b[0;34m\"Got {} labels for {} points\"\u001b[0m\u001b[0;34m.\u001b[0m\u001b[0mformat\u001b[0m\u001b[0;34m(\u001b[0m\u001b[0mlen\u001b[0m\u001b[0;34m(\u001b[0m\u001b[0mlabels\u001b[0m\u001b[0;34m)\u001b[0m\u001b[0;34m,\u001b[0m \u001b[0mlen\u001b[0m\u001b[0;34m(\u001b[0m\u001b[0mmatrix\u001b[0m\u001b[0;34m)\u001b[0m\u001b[0;34m)\u001b[0m\u001b[0;34m)\u001b[0m\u001b[0;34m\u001b[0m\u001b[0;34m\u001b[0m\u001b[0m\n\u001b[0m\u001b[1;32m    456\u001b[0m \u001b[0;34m\u001b[0m\u001b[0m\n\u001b[1;32m    457\u001b[0m     \u001b[0mit\u001b[0m \u001b[0;34m=\u001b[0m \u001b[0mClusterGenerator\u001b[0m\u001b[0;34m(\u001b[0m\u001b[0mmatrix\u001b[0m\u001b[0;34m,\u001b[0m \u001b[0mmaxsteps\u001b[0m\u001b[0;34m,\u001b[0m \u001b[0mwindowsize\u001b[0m\u001b[0;34m,\u001b[0m \u001b[0mminsuccesses\u001b[0m\u001b[0;34m,\u001b[0m \u001b[0mdestroy\u001b[0m\u001b[0;34m,\u001b[0m \u001b[0mnormalized\u001b[0m\u001b[0;34m,\u001b[0m \u001b[0mcuda\u001b[0m\u001b[0;34m)\u001b[0m\u001b[0;34m\u001b[0m\u001b[0;34m\u001b[0m\u001b[0m\n",
      "\u001b[0;31mValueError\u001b[0m: Got 187685 labels for 81602 points"
     ]
    }
   ],
   "source": [
    "save_clusters('latent.npz', 'clusters_vamb_results.tsv')"
   ]
  },
  {
   "cell_type": "code",
   "execution_count": 391,
   "id": "27c6b3ca",
   "metadata": {},
   "outputs": [
    {
     "data": {
      "text/plain": [
       "78"
      ]
     },
     "execution_count": 391,
     "metadata": {},
     "output_type": "execute_result"
    }
   ],
   "source": [
    "vamb_bins_batch = bin_saved_clusters('clusters_vamb_results.tsv')\n",
    "vamb_bins_batch.counters[0][(0.9, 0.95)]"
   ]
  },
  {
   "cell_type": "code",
   "execution_count": 396,
   "id": "f4b36ed0",
   "metadata": {},
   "outputs": [
    {
     "data": {
      "text/plain": [
       "79"
      ]
     },
     "execution_count": 396,
     "metadata": {},
     "output_type": "execute_result"
    }
   ],
   "source": [
    "vamb_bins_batch = bin_saved_clusters('clusters_vamb_batchstep.tsv')\n",
    "vamb_bins_batch.counters[0][(0.9, 0.95)]"
   ]
  },
  {
   "cell_type": "code",
   "execution_count": 435,
   "id": "eb9537da",
   "metadata": {},
   "outputs": [
    {
     "name": "stdout",
     "output_type": "stream",
     "text": [
      "latent_trained_vamb_gi.npy\n",
      "(81602, 32)\n"
     ]
    },
    {
     "ename": "ValueError",
     "evalue": "Got 187685 labels for 81602 points",
     "output_type": "error",
     "traceback": [
      "\u001b[0;31m---------------------------------------------------------------------------\u001b[0m",
      "\u001b[0;31mValueError\u001b[0m                                Traceback (most recent call last)",
      "\u001b[0;32m/var/folders/5b/1dk8bnws25l6w502hfdc8xw80000gn/T/ipykernel_12840/918914713.py\u001b[0m in \u001b[0;36m<module>\u001b[0;34m\u001b[0m\n\u001b[0;32m----> 1\u001b[0;31m \u001b[0msave_clusters\u001b[0m\u001b[0;34m(\u001b[0m\u001b[0;34m'latent_trained_vamb_gi.npy'\u001b[0m\u001b[0;34m,\u001b[0m \u001b[0;34m'clusters_gi.tsv'\u001b[0m\u001b[0;34m)\u001b[0m\u001b[0;34m\u001b[0m\u001b[0;34m\u001b[0m\u001b[0m\n\u001b[0m\u001b[1;32m      2\u001b[0m \u001b[0mvamb_gi\u001b[0m \u001b[0;34m=\u001b[0m \u001b[0mbin_saved_clusters\u001b[0m\u001b[0;34m(\u001b[0m\u001b[0;34m'clusters_gi.tsv'\u001b[0m\u001b[0;34m)\u001b[0m\u001b[0;34m\u001b[0m\u001b[0;34m\u001b[0m\u001b[0m\n\u001b[1;32m      3\u001b[0m \u001b[0mvamb_gi\u001b[0m\u001b[0;34m.\u001b[0m\u001b[0mcounters\u001b[0m\u001b[0;34m[\u001b[0m\u001b[0;36m0\u001b[0m\u001b[0;34m]\u001b[0m\u001b[0;34m[\u001b[0m\u001b[0;34m(\u001b[0m\u001b[0;36m0.9\u001b[0m\u001b[0;34m,\u001b[0m \u001b[0;36m0.95\u001b[0m\u001b[0;34m)\u001b[0m\u001b[0;34m]\u001b[0m\u001b[0;34m\u001b[0m\u001b[0;34m\u001b[0m\u001b[0m\n",
      "\u001b[0;32m/var/folders/5b/1dk8bnws25l6w502hfdc8xw80000gn/T/ipykernel_12840/1042524104.py\u001b[0m in \u001b[0;36msave_clusters\u001b[0;34m(filepath, cluster_path, indices)\u001b[0m\n\u001b[1;32m     11\u001b[0m     \u001b[0mfiltered_labels\u001b[0m \u001b[0;34m=\u001b[0m \u001b[0;34m[\u001b[0m\u001b[0mn\u001b[0m \u001b[0;32mfor\u001b[0m \u001b[0;34m(\u001b[0m\u001b[0mn\u001b[0m\u001b[0;34m,\u001b[0m\u001b[0mm\u001b[0m\u001b[0;34m)\u001b[0m \u001b[0;32min\u001b[0m \u001b[0mzip\u001b[0m\u001b[0;34m(\u001b[0m\u001b[0mcontignames\u001b[0m\u001b[0;34m,\u001b[0m \u001b[0mmask\u001b[0m\u001b[0;34m)\u001b[0m \u001b[0;32mif\u001b[0m \u001b[0mm\u001b[0m\u001b[0;34m]\u001b[0m\u001b[0;34m\u001b[0m\u001b[0;34m\u001b[0m\u001b[0m\n\u001b[1;32m     12\u001b[0m     \u001b[0mcluster_iterator\u001b[0m \u001b[0;34m=\u001b[0m \u001b[0mvamb\u001b[0m\u001b[0;34m.\u001b[0m\u001b[0mcluster\u001b[0m\u001b[0;34m.\u001b[0m\u001b[0mcluster\u001b[0m\u001b[0;34m(\u001b[0m\u001b[0mlatent_labels\u001b[0m\u001b[0;34m,\u001b[0m \u001b[0mlabels\u001b[0m\u001b[0;34m=\u001b[0m\u001b[0mfiltered_labels\u001b[0m\u001b[0;34m)\u001b[0m\u001b[0;34m\u001b[0m\u001b[0;34m\u001b[0m\u001b[0m\n\u001b[0;32m---> 13\u001b[0;31m     \u001b[0mclusters\u001b[0m \u001b[0;34m=\u001b[0m \u001b[0mdict\u001b[0m\u001b[0;34m(\u001b[0m\u001b[0mcluster_iterator\u001b[0m\u001b[0;34m)\u001b[0m\u001b[0;34m\u001b[0m\u001b[0;34m\u001b[0m\u001b[0m\n\u001b[0m\u001b[1;32m     14\u001b[0m \u001b[0;34m\u001b[0m\u001b[0m\n\u001b[1;32m     15\u001b[0m     \u001b[0mmedoid\u001b[0m\u001b[0;34m,\u001b[0m \u001b[0mcontigs\u001b[0m \u001b[0;34m=\u001b[0m \u001b[0mnext\u001b[0m\u001b[0;34m(\u001b[0m\u001b[0miter\u001b[0m\u001b[0;34m(\u001b[0m\u001b[0mclusters\u001b[0m\u001b[0;34m.\u001b[0m\u001b[0mitems\u001b[0m\u001b[0;34m(\u001b[0m\u001b[0;34m)\u001b[0m\u001b[0;34m)\u001b[0m\u001b[0;34m)\u001b[0m\u001b[0;34m\u001b[0m\u001b[0;34m\u001b[0m\u001b[0m\n",
      "\u001b[0;32m~/Documents/vamb/vamb/cluster.py\u001b[0m in \u001b[0;36mcluster\u001b[0;34m(matrix, labels, maxsteps, windowsize, minsuccesses, destroy, normalized, cuda)\u001b[0m\n\u001b[1;32m    453\u001b[0m     \"\"\"\n\u001b[1;32m    454\u001b[0m     \u001b[0;32mif\u001b[0m \u001b[0mlabels\u001b[0m \u001b[0;32mis\u001b[0m \u001b[0;32mnot\u001b[0m \u001b[0;32mNone\u001b[0m \u001b[0;32mand\u001b[0m \u001b[0mlen\u001b[0m\u001b[0;34m(\u001b[0m\u001b[0mmatrix\u001b[0m\u001b[0;34m)\u001b[0m \u001b[0;34m!=\u001b[0m \u001b[0mlen\u001b[0m\u001b[0;34m(\u001b[0m\u001b[0mlabels\u001b[0m\u001b[0;34m)\u001b[0m\u001b[0;34m:\u001b[0m\u001b[0;34m\u001b[0m\u001b[0;34m\u001b[0m\u001b[0m\n\u001b[0;32m--> 455\u001b[0;31m         \u001b[0;32mraise\u001b[0m \u001b[0mValueError\u001b[0m\u001b[0;34m(\u001b[0m\u001b[0;34m\"Got {} labels for {} points\"\u001b[0m\u001b[0;34m.\u001b[0m\u001b[0mformat\u001b[0m\u001b[0;34m(\u001b[0m\u001b[0mlen\u001b[0m\u001b[0;34m(\u001b[0m\u001b[0mlabels\u001b[0m\u001b[0;34m)\u001b[0m\u001b[0;34m,\u001b[0m \u001b[0mlen\u001b[0m\u001b[0;34m(\u001b[0m\u001b[0mmatrix\u001b[0m\u001b[0;34m)\u001b[0m\u001b[0;34m)\u001b[0m\u001b[0;34m)\u001b[0m\u001b[0;34m\u001b[0m\u001b[0;34m\u001b[0m\u001b[0m\n\u001b[0m\u001b[1;32m    456\u001b[0m \u001b[0;34m\u001b[0m\u001b[0m\n\u001b[1;32m    457\u001b[0m     \u001b[0mit\u001b[0m \u001b[0;34m=\u001b[0m \u001b[0mClusterGenerator\u001b[0m\u001b[0;34m(\u001b[0m\u001b[0mmatrix\u001b[0m\u001b[0;34m,\u001b[0m \u001b[0mmaxsteps\u001b[0m\u001b[0;34m,\u001b[0m \u001b[0mwindowsize\u001b[0m\u001b[0;34m,\u001b[0m \u001b[0mminsuccesses\u001b[0m\u001b[0;34m,\u001b[0m \u001b[0mdestroy\u001b[0m\u001b[0;34m,\u001b[0m \u001b[0mnormalized\u001b[0m\u001b[0;34m,\u001b[0m \u001b[0mcuda\u001b[0m\u001b[0;34m)\u001b[0m\u001b[0;34m\u001b[0m\u001b[0;34m\u001b[0m\u001b[0m\n",
      "\u001b[0;31mValueError\u001b[0m: Got 187685 labels for 81602 points"
     ]
    }
   ],
   "source": [
    "save_clusters('latent_trained_vamb_gi.npy', 'clusters_gi.tsv')\n",
    "vamb_gi = bin_saved_clusters('clusters_gi.tsv')\n",
    "vamb_gi.counters[0][(0.9, 0.95)]"
   ]
  },
  {
   "cell_type": "code",
   "execution_count": 93,
   "id": "f7ff7dd6",
   "metadata": {},
   "outputs": [],
   "source": [
    "def save_clusters_both(filepath_vamb, filepath_both, indices_vamb, indices_both, cluster_path):\n",
    "    latent_vamb = np.load(f'{PATH_VAMB}/{filepath_vamb}')\n",
    "    latent_both = np.load(f'{PATH_VAMB}/{filepath_both}')\n",
    "    new_indices = [np.argwhere(indices_vamb == i)[0][0] for i in indices_both]\n",
    "    print(latent_both.shape, len(new_indices), indices_both.shape)\n",
    "    latent_vamb[new_indices] = latent_both\n",
    "    contignames, mask, lengths = \\\n",
    "        np.array(CONTIGNAMES)[indices_vamb], np.array(MASK)[indices_vamb], np.array(LENGTHS)[indices_vamb]\n",
    "        \n",
    "    filtered_labels = [n for (n,m) in zip(contignames, mask) if m]\n",
    "    cluster_iterator = vamb.cluster.cluster(latent_vamb, labels=filtered_labels)\n",
    "    clusters = dict(cluster_iterator)\n",
    "\n",
    "    medoid, contigs = next(iter(clusters.items()))\n",
    "    print('First key:', medoid, '(of type:', type(medoid), ')')\n",
    "    print('Type of values:', type(contigs))\n",
    "    print('First element of value:', next(iter(contigs)), 'of type:', type(next(iter(contigs))))\n",
    "\n",
    "    lengthof = dict(zip(contignames, lengths))\n",
    "    filtered_bins = filterclusters(vamb.vambtools.binsplit(clusters, 'C'), lengthof)\n",
    "    print('Number of bins before splitting and filtering:', len(clusters))\n",
    "    print('Number of bins after splitting and filtering:', len(filtered_bins))\n",
    "\n",
    "    with open(f'{PATH_VAMB}/{cluster_path}', 'w') as file:\n",
    "        vamb.vambtools.write_clusters(file, filtered_bins)"
   ]
  },
  {
   "cell_type": "code",
   "execution_count": 399,
   "id": "f408c85b",
   "metadata": {},
   "outputs": [],
   "source": [
    "filepaths = [\n",
    "    'latent_trained_semisupervised_1_both.npy',\n",
    "    'latent_trained_semisupervised_1_vamb.npy',\n",
    "    'latent_trained_semisupervised_1_labels.npy',\n",
    "    \n",
    "    'latent_trained_semisupervised_10_both.npy',\n",
    "    'latent_trained_semisupervised_10_vamb.npy',\n",
    "    'latent_trained_semisupervised_10_labels.npy',\n",
    "    \n",
    "    'latent_trained_semisupervised_50_both.npy',\n",
    "    'latent_trained_semisupervised_50_vamb.npy',\n",
    "    'latent_trained_semisupervised_50_labels.npy',\n",
    "]\n",
    "clusters = [\n",
    "    'clusters_1_both.tsv',\n",
    "    'clusters_1_vamb.tsv',\n",
    "    'clusters_1_labels.tsv',\n",
    "    \n",
    "    'clusters_10_both.tsv',\n",
    "    'clusters_10_vamb.tsv',\n",
    "    'clusters_10_labels.tsv',\n",
    "    \n",
    "    'clusters_50_both.npy',\n",
    "    'clusters_50_vamb.npy',\n",
    "    'clusters_50_labels.npy',\n",
    "]\n",
    "filepaths_100 = [\n",
    "    'latent_trained_semisupervised_100_both.npy',\n",
    "    'latent_trained_semisupervised_100_vamb.npy',\n",
    "    'latent_trained_semisupervised_100_labels.npy',\n",
    "]\n",
    "clusters_100 = [\n",
    "    'clusters_100_both.tsv',\n",
    "    'clusters_100_vamb.tsv',\n",
    "    'clusters_100_labels.tsv',\n",
    "]\n",
    "filepaths_one = [\n",
    "    'latent_trained_semisupervised.npy',\n",
    "    'latent_trained_labels.npy',\n",
    "    'latent_trained_vamb.npy',\n",
    "]\n",
    "clusters_one = [\n",
    "    'clusters_concat.tsv',\n",
    "    'clusters_labels.tsv',\n",
    "    'clusters_vamb.tsv',\n",
    "]\n",
    "clusters_mixed = [\n",
    "    'clusters_mixed1.tsv',\n",
    "    'clusters_mixed10.tsv',\n",
    "    'clusters_mixed50.tsv',\n",
    "    'clusters_mixed100.tsv',\n",
    "]\n",
    "clusters_fix = [\n",
    "    'clusters_mixed1_fix.tsv',\n",
    "    'clusters_mixed10_fix.tsv',\n",
    "    'clusters_mixed50_fix.tsv',\n",
    "    'clusters_mixed100_fix.tsv',\n",
    "]"
   ]
  },
  {
   "cell_type": "code",
   "execution_count": 411,
   "id": "051410ca",
   "metadata": {},
   "outputs": [],
   "source": [
    "filepaths_one_fix = [\n",
    "    'latent_trained_semisupervised_fix_1_both.npy',\n",
    "    'latent_trained_semisupervised_fix_1_vamb.npy',\n",
    "    'latent_trained_semisupervised_fix_1_labels.npy',\n",
    "    \n",
    "    'latent_trained_semisupervised_fix_10_both.npy',\n",
    "    'latent_trained_semisupervised_fix_10_vamb.npy',\n",
    "    'latent_trained_semisupervised_fix_10_labels.npy',\n",
    "    \n",
    "    'latent_trained_semisupervised_fix_50_both.npy',\n",
    "    'latent_trained_semisupervised_fix_50_vamb.npy',\n",
    "    'latent_trained_semisupervised_fix_50_labels.npy',\n",
    "    \n",
    "    'latent_trained_semisupervised_fix_100_both.npy',\n",
    "    'latent_trained_semisupervised_fix_100_vamb.npy',\n",
    "    'latent_trained_semisupervised_fix_100_labels.npy',\n",
    "]\n",
    "clusters_one_fix = [\n",
    "    'clusters_1_both_fix.tsv',\n",
    "    'clusters_1_vamb_fix.tsv',\n",
    "    'clusters_1_labels_fix.tsv',\n",
    "    \n",
    "    'clusters_10_both_fix.tsv',\n",
    "    'clusters_10_vamb_fix.tsv',\n",
    "    'clusters_10_labels_fix.tsv',\n",
    "    \n",
    "    'clusters_50_both_fix.npy',\n",
    "    'clusters_50_vamb_fix.npy',\n",
    "    'clusters_50_labels_fix.npy',\n",
    "    \n",
    "    'clusters_100_both_fix.tsv',\n",
    "    'clusters_100_vamb_fix.tsv',\n",
    "    'clusters_100_labels_fix.tsv',\n",
    "]"
   ]
  },
  {
   "cell_type": "code",
   "execution_count": 412,
   "id": "ac4f028b",
   "metadata": {},
   "outputs": [],
   "source": [
    "filepaths_genus = [\n",
    "    'latent_trained_semisupervised_genus_1_both.npy',\n",
    "    'latent_trained_semisupervised_genus_1_vamb.npy',\n",
    "    'latent_trained_semisupervised_genus_1_labels.npy',\n",
    "    \n",
    "    'latent_trained_semisupervised_genus_10_both.npy',\n",
    "    'latent_trained_semisupervised_genus_10_vamb.npy',\n",
    "    'latent_trained_semisupervised_genus_10_labels.npy',\n",
    "    \n",
    "    'latent_trained_semisupervised_genus_50_both.npy',\n",
    "    'latent_trained_semisupervised_genus_50_vamb.npy',\n",
    "    'latent_trained_semisupervised_genus_50_labels.npy',\n",
    "    \n",
    "    'latent_trained_semisupervised_genus_100_both.npy',\n",
    "    'latent_trained_semisupervised_genus_100_vamb.npy',\n",
    "    'latent_trained_semisupervised_genus_100_labels.npy',\n",
    "]\n",
    "clusters_genus = [\n",
    "    'clusters_1_both_genus.tsv',\n",
    "    'clusters_1_vamb_genus.tsv',\n",
    "    'clusters_1_labels_genus.tsv',\n",
    "    \n",
    "    'clusters_10_both_genus.tsv',\n",
    "    'clusters_10_vamb_genus.tsv',\n",
    "    'clusters_10_labels_genus.tsv',\n",
    "    \n",
    "    'clusters_50_both_genus.npy',\n",
    "    'clusters_50_vamb_genus.npy',\n",
    "    'clusters_50_labels_genus.npy',\n",
    "    \n",
    "    'clusters_100_both_genus.tsv',\n",
    "    'clusters_100_vamb_genus.tsv',\n",
    "    'clusters_100_labels_genus.tsv',\n",
    "]"
   ]
  },
  {
   "cell_type": "code",
   "execution_count": 417,
   "id": "beaf6890",
   "metadata": {},
   "outputs": [],
   "source": [
    "with open(f'{PATH_VAMB}/indices_1.pickle', 'rb') as fp:\n",
    "    indices1_x, indices1_y, indices1_sup = pickle.load(fp)\n",
    "with open(f'{PATH_VAMB}/indices_10.pickle', 'rb') as fp:\n",
    "    indices10_x, indices10_y, indices10_sup = pickle.load(fp)\n",
    "with open(f'{PATH_VAMB}/indices_50.pickle', 'rb') as fp:\n",
    "    indices50_x, indices50_y, indices50_sup = pickle.load(fp)\n",
    "with open(f'{PATH_VAMB}/indices_100.pickle', 'rb') as fp:\n",
    "    indices100_x, indices100_y, indices100_sup = pickle.load(fp)\n",
    "    \n",
    "with open(f'{PATH_VAMB}/indices_fix_1.pickle', 'rb') as fp:\n",
    "    indices1_fix_x, indices1_fix_y, indices1_fix_sup = pickle.load(fp)\n",
    "with open(f'{PATH_VAMB}/indices_fix_10.pickle', 'rb') as fp:\n",
    "    indices10_fix_x, indices10_fix_y, indices10_fix_sup = pickle.load(fp)\n",
    "with open(f'{PATH_VAMB}/indices_fix_50.pickle', 'rb') as fp:\n",
    "    indices50_fix_x, indices50_fix_y, indices50_fix_sup = pickle.load(fp)\n",
    "with open(f'{PATH_VAMB}/indices_fix_100.pickle', 'rb') as fp:\n",
    "    indices100_fix_x, indices100_fix_y, indices100_fix_sup = pickle.load(fp)\n",
    "    \n",
    "with open(f'{PATH_VAMB}/indices_genus_1.pickle', 'rb') as fp:\n",
    "    indices1_genus_x, indices1_genus_y, indices1_genus_sup = pickle.load(fp)\n",
    "with open(f'{PATH_VAMB}/indices_genus_10.pickle', 'rb') as fp:\n",
    "    indices10_genus_x, indices10_genus_y, indices10_genus_sup = pickle.load(fp)\n",
    "with open(f'{PATH_VAMB}/indices_genus_50.pickle', 'rb') as fp:\n",
    "    indices50_genus_x, indices50_genus_y, indices50_genus_sup = pickle.load(fp)\n",
    "with open(f'{PATH_VAMB}/indices_genus_100.pickle', 'rb') as fp:\n",
    "    indices100_genus_x, indices100_genus_y, indices100_genus_sup = pickle.load(fp)"
   ]
  },
  {
   "cell_type": "code",
   "execution_count": 397,
   "id": "9d8e114c",
   "metadata": {},
   "outputs": [],
   "source": [
    "with open(f'{PATH_VAMB}/indices_mmseq.pickle', 'rb') as fp:\n",
    "    indices_mmseq = pickle.load(fp)"
   ]
  },
  {
   "cell_type": "code",
   "execution_count": 398,
   "id": "f9fc338f",
   "metadata": {},
   "outputs": [],
   "source": [
    "with open(f'{PATH_VAMB}/indices_mmseq_genus.pickle', 'rb') as fp:\n",
    "    indices_mmseq_genus = pickle.load(fp)"
   ]
  },
  {
   "cell_type": "code",
   "execution_count": 51,
   "id": "74263e71",
   "metadata": {},
   "outputs": [],
   "source": [
    "indices = [\n",
    "    indices1_sup, indices1_x, indices1_y,\n",
    "    indices10_sup, indices10_x, indices10_y,\n",
    "    indices50_sup, indices50_x, indices50_y,\n",
    "]\n",
    "indices_100 = [\n",
    "    indices100_sup, indices100_x, indices100_y,\n",
    "]"
   ]
  },
  {
   "cell_type": "code",
   "execution_count": 419,
   "id": "0008433d",
   "metadata": {},
   "outputs": [],
   "source": [
    "indices_fix = [\n",
    "    indices1_fix_sup, indices1_fix_x, indices1_fix_y,\n",
    "    indices10_fix_sup, indices10_fix_x, indices10_fix_y,\n",
    "    indices50_fix_sup, indices50_fix_x, indices50_fix_y,\n",
    "    indices100_fix_sup, indices100_fix_x, indices100_fix_y,\n",
    "]\n",
    "\n",
    "indices_genus = [\n",
    "    indices1_genus_sup, indices1_genus_x, indices1_genus_y,\n",
    "    indices10_genus_sup, indices10_genus_x, indices10_genus_y,\n",
    "    indices50_genus_sup, indices50_genus_x, indices50_genus_y,\n",
    "    indices100_genus_sup, indices100_genus_x, indices100_genus_y,\n",
    "]"
   ]
  },
  {
   "cell_type": "code",
   "execution_count": 420,
   "id": "db3117e2",
   "metadata": {},
   "outputs": [
    {
     "name": "stdout",
     "output_type": "stream",
     "text": [
      "latent_trained_semisupervised_genus_1_both.npy\n",
      "(1877, 32)\n",
      "1877\n",
      "First key: S26C573052 (of type: <class 'numpy.str_'> )\n",
      "Type of values: <class 'set'>\n",
      "First element of value: S26C573052 of type: <class 'numpy.str_'>\n",
      "Number of bins before splitting and filtering: 1665\n",
      "Number of bins after splitting and filtering: 5\n",
      "latent_trained_semisupervised_genus_1_vamb.npy\n",
      "(187685, 32)\n",
      "187685\n"
     ]
    },
    {
     "ename": "KeyboardInterrupt",
     "evalue": "",
     "output_type": "error",
     "traceback": [
      "\u001b[0;31m---------------------------------------------------------------------------\u001b[0m",
      "\u001b[0;31mKeyboardInterrupt\u001b[0m                         Traceback (most recent call last)",
      "\u001b[0;32m/var/folders/5b/1dk8bnws25l6w502hfdc8xw80000gn/T/ipykernel_12840/1282065165.py\u001b[0m in \u001b[0;36m<module>\u001b[0;34m\u001b[0m\n\u001b[1;32m      1\u001b[0m \u001b[0;32mfor\u001b[0m \u001b[0mp1\u001b[0m\u001b[0;34m,\u001b[0m \u001b[0mp2\u001b[0m\u001b[0;34m,\u001b[0m \u001b[0mii\u001b[0m \u001b[0;32min\u001b[0m \u001b[0mzip\u001b[0m\u001b[0;34m(\u001b[0m\u001b[0mfilepaths_genus\u001b[0m\u001b[0;34m,\u001b[0m \u001b[0mclusters_genus\u001b[0m\u001b[0;34m,\u001b[0m \u001b[0mindices_genus\u001b[0m\u001b[0;34m)\u001b[0m\u001b[0;34m:\u001b[0m\u001b[0;34m\u001b[0m\u001b[0;34m\u001b[0m\u001b[0m\n\u001b[0;32m----> 2\u001b[0;31m     \u001b[0msave_clusters\u001b[0m\u001b[0;34m(\u001b[0m\u001b[0mp1\u001b[0m\u001b[0;34m,\u001b[0m \u001b[0mp2\u001b[0m\u001b[0;34m,\u001b[0m \u001b[0mindices\u001b[0m\u001b[0;34m=\u001b[0m\u001b[0mii\u001b[0m\u001b[0;34m)\u001b[0m\u001b[0;34m\u001b[0m\u001b[0;34m\u001b[0m\u001b[0m\n\u001b[0m",
      "\u001b[0;32m/var/folders/5b/1dk8bnws25l6w502hfdc8xw80000gn/T/ipykernel_12840/1042524104.py\u001b[0m in \u001b[0;36msave_clusters\u001b[0;34m(filepath, cluster_path, indices)\u001b[0m\n\u001b[1;32m     11\u001b[0m     \u001b[0mfiltered_labels\u001b[0m \u001b[0;34m=\u001b[0m \u001b[0;34m[\u001b[0m\u001b[0mn\u001b[0m \u001b[0;32mfor\u001b[0m \u001b[0;34m(\u001b[0m\u001b[0mn\u001b[0m\u001b[0;34m,\u001b[0m\u001b[0mm\u001b[0m\u001b[0;34m)\u001b[0m \u001b[0;32min\u001b[0m \u001b[0mzip\u001b[0m\u001b[0;34m(\u001b[0m\u001b[0mcontignames\u001b[0m\u001b[0;34m,\u001b[0m \u001b[0mmask\u001b[0m\u001b[0;34m)\u001b[0m \u001b[0;32mif\u001b[0m \u001b[0mm\u001b[0m\u001b[0;34m]\u001b[0m\u001b[0;34m\u001b[0m\u001b[0;34m\u001b[0m\u001b[0m\n\u001b[1;32m     12\u001b[0m     \u001b[0mcluster_iterator\u001b[0m \u001b[0;34m=\u001b[0m \u001b[0mvamb\u001b[0m\u001b[0;34m.\u001b[0m\u001b[0mcluster\u001b[0m\u001b[0;34m.\u001b[0m\u001b[0mcluster\u001b[0m\u001b[0;34m(\u001b[0m\u001b[0mlatent_labels\u001b[0m\u001b[0;34m,\u001b[0m \u001b[0mlabels\u001b[0m\u001b[0;34m=\u001b[0m\u001b[0mfiltered_labels\u001b[0m\u001b[0;34m)\u001b[0m\u001b[0;34m\u001b[0m\u001b[0;34m\u001b[0m\u001b[0m\n\u001b[0;32m---> 13\u001b[0;31m     \u001b[0mclusters\u001b[0m \u001b[0;34m=\u001b[0m \u001b[0mdict\u001b[0m\u001b[0;34m(\u001b[0m\u001b[0mcluster_iterator\u001b[0m\u001b[0;34m)\u001b[0m\u001b[0;34m\u001b[0m\u001b[0;34m\u001b[0m\u001b[0m\n\u001b[0m\u001b[1;32m     14\u001b[0m \u001b[0;34m\u001b[0m\u001b[0m\n\u001b[1;32m     15\u001b[0m     \u001b[0mmedoid\u001b[0m\u001b[0;34m,\u001b[0m \u001b[0mcontigs\u001b[0m \u001b[0;34m=\u001b[0m \u001b[0mnext\u001b[0m\u001b[0;34m(\u001b[0m\u001b[0miter\u001b[0m\u001b[0;34m(\u001b[0m\u001b[0mclusters\u001b[0m\u001b[0;34m.\u001b[0m\u001b[0mitems\u001b[0m\u001b[0;34m(\u001b[0m\u001b[0;34m)\u001b[0m\u001b[0;34m)\u001b[0m\u001b[0;34m)\u001b[0m\u001b[0;34m\u001b[0m\u001b[0;34m\u001b[0m\u001b[0m\n",
      "\u001b[0;32m~/Documents/vamb/vamb/cluster.py\u001b[0m in \u001b[0;36mcluster\u001b[0;34m(matrix, labels, maxsteps, windowsize, minsuccesses, destroy, normalized, cuda)\u001b[0m\n\u001b[1;32m    456\u001b[0m \u001b[0;34m\u001b[0m\u001b[0m\n\u001b[1;32m    457\u001b[0m     \u001b[0mit\u001b[0m \u001b[0;34m=\u001b[0m \u001b[0mClusterGenerator\u001b[0m\u001b[0;34m(\u001b[0m\u001b[0mmatrix\u001b[0m\u001b[0;34m,\u001b[0m \u001b[0mmaxsteps\u001b[0m\u001b[0;34m,\u001b[0m \u001b[0mwindowsize\u001b[0m\u001b[0;34m,\u001b[0m \u001b[0mminsuccesses\u001b[0m\u001b[0;34m,\u001b[0m \u001b[0mdestroy\u001b[0m\u001b[0;34m,\u001b[0m \u001b[0mnormalized\u001b[0m\u001b[0;34m,\u001b[0m \u001b[0mcuda\u001b[0m\u001b[0;34m)\u001b[0m\u001b[0;34m\u001b[0m\u001b[0;34m\u001b[0m\u001b[0m\n\u001b[0;32m--> 458\u001b[0;31m     \u001b[0;32mfor\u001b[0m \u001b[0mcluster\u001b[0m \u001b[0;32min\u001b[0m \u001b[0mit\u001b[0m\u001b[0;34m:\u001b[0m\u001b[0;34m\u001b[0m\u001b[0;34m\u001b[0m\u001b[0m\n\u001b[0m\u001b[1;32m    459\u001b[0m         \u001b[0;32myield\u001b[0m \u001b[0mcluster\u001b[0m\u001b[0;34m.\u001b[0m\u001b[0mas_tuple\u001b[0m\u001b[0;34m(\u001b[0m\u001b[0mlabels\u001b[0m\u001b[0;34m)\u001b[0m\u001b[0;34m\u001b[0m\u001b[0;34m\u001b[0m\u001b[0m\n\u001b[1;32m    460\u001b[0m \u001b[0;34m\u001b[0m\u001b[0m\n",
      "\u001b[0;32m~/Documents/vamb/vamb/cluster.py\u001b[0m in \u001b[0;36m__next__\u001b[0;34m(self)\u001b[0m\n\u001b[1;32m    195\u001b[0m             \u001b[0;32mraise\u001b[0m \u001b[0mStopIteration\u001b[0m\u001b[0;34m\u001b[0m\u001b[0;34m\u001b[0m\u001b[0m\n\u001b[1;32m    196\u001b[0m \u001b[0;34m\u001b[0m\u001b[0m\n\u001b[0;32m--> 197\u001b[0;31m         \u001b[0mcluster\u001b[0m\u001b[0;34m,\u001b[0m \u001b[0mmedoid\u001b[0m\u001b[0;34m,\u001b[0m \u001b[0mpoints\u001b[0m \u001b[0;34m=\u001b[0m \u001b[0mself\u001b[0m\u001b[0;34m.\u001b[0m\u001b[0m_findcluster\u001b[0m\u001b[0;34m(\u001b[0m\u001b[0;34m)\u001b[0m\u001b[0;34m\u001b[0m\u001b[0;34m\u001b[0m\u001b[0m\n\u001b[0m\u001b[1;32m    198\u001b[0m         \u001b[0mself\u001b[0m\u001b[0;34m.\u001b[0m\u001b[0mnclusters\u001b[0m \u001b[0;34m+=\u001b[0m \u001b[0;36m1\u001b[0m\u001b[0;34m\u001b[0m\u001b[0;34m\u001b[0m\u001b[0m\n\u001b[1;32m    199\u001b[0m \u001b[0;34m\u001b[0m\u001b[0m\n",
      "\u001b[0;32m~/Documents/vamb/vamb/cluster.py\u001b[0m in \u001b[0;36m_findcluster\u001b[0;34m(self)\u001b[0m\n\u001b[1;32m    226\u001b[0m                 \u001b[0mself\u001b[0m\u001b[0;34m.\u001b[0m\u001b[0mseed\u001b[0m \u001b[0;34m=\u001b[0m \u001b[0;34m(\u001b[0m\u001b[0mself\u001b[0m\u001b[0;34m.\u001b[0m\u001b[0mseed\u001b[0m \u001b[0;34m+\u001b[0m \u001b[0;36m1\u001b[0m\u001b[0;34m)\u001b[0m \u001b[0;34m%\u001b[0m \u001b[0mlen\u001b[0m\u001b[0;34m(\u001b[0m\u001b[0mself\u001b[0m\u001b[0;34m.\u001b[0m\u001b[0mmatrix\u001b[0m\u001b[0;34m)\u001b[0m\u001b[0;34m\u001b[0m\u001b[0;34m\u001b[0m\u001b[0m\n\u001b[1;32m    227\u001b[0m \u001b[0;34m\u001b[0m\u001b[0m\n\u001b[0;32m--> 228\u001b[0;31m             \u001b[0mmedoid\u001b[0m\u001b[0;34m,\u001b[0m \u001b[0mdistances\u001b[0m \u001b[0;34m=\u001b[0m \u001b[0m_wander_medoid\u001b[0m\u001b[0;34m(\u001b[0m\u001b[0mself\u001b[0m\u001b[0;34m.\u001b[0m\u001b[0mmatrix\u001b[0m\u001b[0;34m,\u001b[0m \u001b[0mself\u001b[0m\u001b[0;34m.\u001b[0m\u001b[0mkept_mask\u001b[0m\u001b[0;34m,\u001b[0m \u001b[0mself\u001b[0m\u001b[0;34m.\u001b[0m\u001b[0mseed\u001b[0m\u001b[0;34m,\u001b[0m \u001b[0mself\u001b[0m\u001b[0;34m.\u001b[0m\u001b[0mMAXSTEPS\u001b[0m\u001b[0;34m,\u001b[0m \u001b[0mself\u001b[0m\u001b[0;34m.\u001b[0m\u001b[0mRNG\u001b[0m\u001b[0;34m,\u001b[0m \u001b[0mself\u001b[0m\u001b[0;34m.\u001b[0m\u001b[0mCUDA\u001b[0m\u001b[0;34m)\u001b[0m\u001b[0;34m\u001b[0m\u001b[0;34m\u001b[0m\u001b[0m\n\u001b[0m\u001b[1;32m    229\u001b[0m \u001b[0;34m\u001b[0m\u001b[0m\n\u001b[1;32m    230\u001b[0m             \u001b[0;31m# We need to make a histogram of only the unclustered distances - when run on GPU\u001b[0m\u001b[0;34m\u001b[0m\u001b[0;34m\u001b[0m\u001b[0m\n",
      "\u001b[0;32m~/Documents/vamb/vamb/cluster.py\u001b[0m in \u001b[0;36m_wander_medoid\u001b[0;34m(matrix, kept_mask, medoid, max_attempts, rng, cuda)\u001b[0m\n\u001b[1;32m    418\u001b[0m         \u001b[0mtried\u001b[0m\u001b[0;34m.\u001b[0m\u001b[0madd\u001b[0m\u001b[0;34m(\u001b[0m\u001b[0msampled_medoid\u001b[0m\u001b[0;34m)\u001b[0m\u001b[0;34m\u001b[0m\u001b[0;34m\u001b[0m\u001b[0m\n\u001b[1;32m    419\u001b[0m \u001b[0;34m\u001b[0m\u001b[0m\n\u001b[0;32m--> 420\u001b[0;31m         \u001b[0msampling\u001b[0m \u001b[0;34m=\u001b[0m \u001b[0m_sample_medoid\u001b[0m\u001b[0;34m(\u001b[0m\u001b[0mmatrix\u001b[0m\u001b[0;34m,\u001b[0m \u001b[0mkept_mask\u001b[0m\u001b[0;34m,\u001b[0m \u001b[0msampled_medoid\u001b[0m\u001b[0;34m,\u001b[0m \u001b[0m_MEDOID_RADIUS\u001b[0m\u001b[0;34m,\u001b[0m \u001b[0mcuda\u001b[0m\u001b[0;34m)\u001b[0m\u001b[0;34m\u001b[0m\u001b[0;34m\u001b[0m\u001b[0m\n\u001b[0m\u001b[1;32m    421\u001b[0m         \u001b[0msample_cluster\u001b[0m\u001b[0;34m,\u001b[0m \u001b[0msample_distances\u001b[0m\u001b[0;34m,\u001b[0m \u001b[0msample_avg\u001b[0m \u001b[0;34m=\u001b[0m \u001b[0msampling\u001b[0m\u001b[0;34m\u001b[0m\u001b[0;34m\u001b[0m\u001b[0m\n\u001b[1;32m    422\u001b[0m \u001b[0;34m\u001b[0m\u001b[0m\n",
      "\u001b[0;32m~/Documents/vamb/vamb/cluster.py\u001b[0m in \u001b[0;36m_sample_medoid\u001b[0;34m(matrix, kept_mask, medoid, threshold, cuda)\u001b[0m\n\u001b[1;32m    389\u001b[0m     \"\"\"\n\u001b[1;32m    390\u001b[0m \u001b[0;34m\u001b[0m\u001b[0m\n\u001b[0;32m--> 391\u001b[0;31m     \u001b[0mdistances\u001b[0m \u001b[0;34m=\u001b[0m \u001b[0m_calc_distances\u001b[0m\u001b[0;34m(\u001b[0m\u001b[0mmatrix\u001b[0m\u001b[0;34m,\u001b[0m \u001b[0mmedoid\u001b[0m\u001b[0;34m)\u001b[0m\u001b[0;34m\u001b[0m\u001b[0;34m\u001b[0m\u001b[0m\n\u001b[0m\u001b[1;32m    392\u001b[0m     \u001b[0mcluster\u001b[0m \u001b[0;34m=\u001b[0m \u001b[0m_smaller_indices\u001b[0m\u001b[0;34m(\u001b[0m\u001b[0mdistances\u001b[0m\u001b[0;34m,\u001b[0m \u001b[0mkept_mask\u001b[0m\u001b[0;34m,\u001b[0m \u001b[0mthreshold\u001b[0m\u001b[0;34m,\u001b[0m \u001b[0mcuda\u001b[0m\u001b[0;34m)\u001b[0m\u001b[0;34m\u001b[0m\u001b[0;34m\u001b[0m\u001b[0m\n\u001b[1;32m    393\u001b[0m \u001b[0;34m\u001b[0m\u001b[0m\n",
      "\u001b[0;32m~/Documents/vamb/vamb/cluster.py\u001b[0m in \u001b[0;36m_calc_distances\u001b[0;34m(matrix, index)\u001b[0m\n\u001b[1;32m    378\u001b[0m \u001b[0;32mdef\u001b[0m \u001b[0m_calc_distances\u001b[0m\u001b[0;34m(\u001b[0m\u001b[0mmatrix\u001b[0m\u001b[0;34m,\u001b[0m \u001b[0mindex\u001b[0m\u001b[0;34m)\u001b[0m\u001b[0;34m:\u001b[0m\u001b[0;34m\u001b[0m\u001b[0;34m\u001b[0m\u001b[0m\n\u001b[1;32m    379\u001b[0m     \u001b[0;34m\"Return vector of cosine distances from rows of normalized matrix to given row.\"\u001b[0m\u001b[0;34m\u001b[0m\u001b[0;34m\u001b[0m\u001b[0m\n\u001b[0;32m--> 380\u001b[0;31m     \u001b[0mdists\u001b[0m \u001b[0;34m=\u001b[0m \u001b[0;36m0.5\u001b[0m \u001b[0;34m-\u001b[0m \u001b[0mmatrix\u001b[0m\u001b[0;34m.\u001b[0m\u001b[0mmatmul\u001b[0m\u001b[0;34m(\u001b[0m\u001b[0mmatrix\u001b[0m\u001b[0;34m[\u001b[0m\u001b[0mindex\u001b[0m\u001b[0;34m]\u001b[0m\u001b[0;34m)\u001b[0m\u001b[0;34m\u001b[0m\u001b[0;34m\u001b[0m\u001b[0m\n\u001b[0m\u001b[1;32m    381\u001b[0m     \u001b[0mdists\u001b[0m\u001b[0;34m[\u001b[0m\u001b[0mindex\u001b[0m\u001b[0;34m]\u001b[0m \u001b[0;34m=\u001b[0m \u001b[0;36m0.0\u001b[0m \u001b[0;31m# avoid float rounding errors\u001b[0m\u001b[0;34m\u001b[0m\u001b[0;34m\u001b[0m\u001b[0m\n\u001b[1;32m    382\u001b[0m     \u001b[0;32mreturn\u001b[0m \u001b[0mdists\u001b[0m\u001b[0;34m\u001b[0m\u001b[0;34m\u001b[0m\u001b[0m\n",
      "\u001b[0;31mKeyboardInterrupt\u001b[0m: "
     ]
    }
   ],
   "source": [
    "for p1, p2, ii in zip(filepaths_genus, clusters_genus, indices_genus):\n",
    "    save_clusters(p1, p2, indices=ii)"
   ]
  },
  {
   "cell_type": "code",
   "execution_count": 35,
   "id": "2e025625",
   "metadata": {
    "collapsed": true
   },
   "outputs": [
    {
     "name": "stdout",
     "output_type": "stream",
     "text": [
      "First key: S7C60636 (of type: <class 'numpy.str_'> )\n",
      "Type of values: <class 'set'>\n",
      "First element of value: S27C94017 of type: <class 'numpy.str_'>\n",
      "Number of bins before splitting and filtering: 1\n",
      "Number of bins after splitting and filtering: 10\n",
      "First key: S27C166967 (of type: <class 'numpy.str_'> )\n",
      "Type of values: <class 'set'>\n",
      "First element of value: S27C166967 of type: <class 'numpy.str_'>\n",
      "Number of bins before splitting and filtering: 36231\n",
      "Number of bins after splitting and filtering: 427\n",
      "First key: S27C8938 (of type: <class 'numpy.str_'> )\n",
      "Type of values: <class 'set'>\n",
      "First element of value: S27C6358 of type: <class 'numpy.str_'>\n",
      "Number of bins before splitting and filtering: 639\n",
      "Number of bins after splitting and filtering: 717\n",
      "First key: S7C280317 (of type: <class 'numpy.str_'> )\n",
      "Type of values: <class 'set'>\n",
      "First element of value: S7C280317 of type: <class 'numpy.str_'>\n",
      "Number of bins before splitting and filtering: 45\n",
      "Number of bins after splitting and filtering: 10\n",
      "First key: S27C148411 (of type: <class 'numpy.str_'> )\n",
      "Type of values: <class 'set'>\n",
      "First element of value: S27C148411 of type: <class 'numpy.str_'>\n",
      "Number of bins before splitting and filtering: 39156\n",
      "Number of bins after splitting and filtering: 421\n",
      "First key: S11C7086 (of type: <class 'numpy.str_'> )\n",
      "Type of values: <class 'set'>\n",
      "First element of value: S12C200206 of type: <class 'numpy.str_'>\n",
      "Number of bins before splitting and filtering: 639\n",
      "Number of bins after splitting and filtering: 717\n",
      "First key: S7C477616 (of type: <class 'numpy.str_'> )\n",
      "Type of values: <class 'set'>\n",
      "First element of value: S27C170954 of type: <class 'numpy.str_'>\n",
      "Number of bins before splitting and filtering: 2069\n",
      "Number of bins after splitting and filtering: 13\n",
      "First key: S26C238967 (of type: <class 'numpy.str_'> )\n",
      "Type of values: <class 'set'>\n",
      "First element of value: S26C238967 of type: <class 'numpy.str_'>\n",
      "Number of bins before splitting and filtering: 38082\n",
      "Number of bins after splitting and filtering: 424\n",
      "First key: S7C9606 (of type: <class 'numpy.str_'> )\n",
      "Type of values: <class 'set'>\n",
      "First element of value: S7C72951 of type: <class 'numpy.str_'>\n",
      "Number of bins before splitting and filtering: 639\n",
      "Number of bins after splitting and filtering: 717\n"
     ]
    }
   ],
   "source": [
    "for p1, p2, ii in zip(filepaths, clusters, indices):\n",
    "    save_clusters(p1, p2, indices=ii)"
   ]
  },
  {
   "cell_type": "code",
   "execution_count": 58,
   "id": "9ab0722a",
   "metadata": {
    "collapsed": true
   },
   "outputs": [
    {
     "name": "stdout",
     "output_type": "stream",
     "text": [
      "latent_trained_semisupervised_100_both.npy\n",
      "187685\n",
      "First key: S27C141880 (of type: <class 'numpy.str_'> )\n",
      "Type of values: <class 'set'>\n",
      "First element of value: S27C141880 of type: <class 'numpy.str_'>\n",
      "Number of bins before splitting and filtering: 12725\n",
      "Number of bins after splitting and filtering: 20\n",
      "latent_trained_semisupervised_100_vamb.npy\n",
      "187685\n"
     ]
    },
    {
     "ename": "KeyboardInterrupt",
     "evalue": "",
     "output_type": "error",
     "traceback": [
      "\u001b[0;31m---------------------------------------------------------------------------\u001b[0m",
      "\u001b[0;31mKeyboardInterrupt\u001b[0m                         Traceback (most recent call last)",
      "\u001b[0;32m/var/folders/5b/1dk8bnws25l6w502hfdc8xw80000gn/T/ipykernel_12840/1266706125.py\u001b[0m in \u001b[0;36m<module>\u001b[0;34m\u001b[0m\n\u001b[1;32m      1\u001b[0m \u001b[0;32mfor\u001b[0m \u001b[0mp1\u001b[0m\u001b[0;34m,\u001b[0m \u001b[0mp2\u001b[0m\u001b[0;34m,\u001b[0m \u001b[0mii\u001b[0m \u001b[0;32min\u001b[0m \u001b[0mzip\u001b[0m\u001b[0;34m(\u001b[0m\u001b[0mfilepaths_100\u001b[0m\u001b[0;34m,\u001b[0m \u001b[0mclusters_100\u001b[0m\u001b[0;34m,\u001b[0m \u001b[0mindices_100\u001b[0m\u001b[0;34m)\u001b[0m\u001b[0;34m:\u001b[0m\u001b[0;34m\u001b[0m\u001b[0;34m\u001b[0m\u001b[0m\n\u001b[0;32m----> 2\u001b[0;31m     \u001b[0msave_clusters\u001b[0m\u001b[0;34m(\u001b[0m\u001b[0mp1\u001b[0m\u001b[0;34m,\u001b[0m \u001b[0mp2\u001b[0m\u001b[0;34m,\u001b[0m \u001b[0mindices\u001b[0m\u001b[0;34m=\u001b[0m\u001b[0mii\u001b[0m\u001b[0;34m)\u001b[0m\u001b[0;34m\u001b[0m\u001b[0;34m\u001b[0m\u001b[0m\n\u001b[0m",
      "\u001b[0;32m/var/folders/5b/1dk8bnws25l6w502hfdc8xw80000gn/T/ipykernel_12840/1872540695.py\u001b[0m in \u001b[0;36msave_clusters\u001b[0;34m(filepath, cluster_path, indices)\u001b[0m\n\u001b[1;32m     10\u001b[0m     \u001b[0mfiltered_labels\u001b[0m \u001b[0;34m=\u001b[0m \u001b[0;34m[\u001b[0m\u001b[0mn\u001b[0m \u001b[0;32mfor\u001b[0m \u001b[0;34m(\u001b[0m\u001b[0mn\u001b[0m\u001b[0;34m,\u001b[0m\u001b[0mm\u001b[0m\u001b[0;34m)\u001b[0m \u001b[0;32min\u001b[0m \u001b[0mzip\u001b[0m\u001b[0;34m(\u001b[0m\u001b[0mcontignames\u001b[0m\u001b[0;34m,\u001b[0m \u001b[0mmask\u001b[0m\u001b[0;34m)\u001b[0m \u001b[0;32mif\u001b[0m \u001b[0mm\u001b[0m\u001b[0;34m]\u001b[0m\u001b[0;34m\u001b[0m\u001b[0;34m\u001b[0m\u001b[0m\n\u001b[1;32m     11\u001b[0m     \u001b[0mcluster_iterator\u001b[0m \u001b[0;34m=\u001b[0m \u001b[0mvamb\u001b[0m\u001b[0;34m.\u001b[0m\u001b[0mcluster\u001b[0m\u001b[0;34m.\u001b[0m\u001b[0mcluster\u001b[0m\u001b[0;34m(\u001b[0m\u001b[0mlatent_labels\u001b[0m\u001b[0;34m,\u001b[0m \u001b[0mlabels\u001b[0m\u001b[0;34m=\u001b[0m\u001b[0mfiltered_labels\u001b[0m\u001b[0;34m)\u001b[0m\u001b[0;34m\u001b[0m\u001b[0;34m\u001b[0m\u001b[0m\n\u001b[0;32m---> 12\u001b[0;31m     \u001b[0mclusters\u001b[0m \u001b[0;34m=\u001b[0m \u001b[0mdict\u001b[0m\u001b[0;34m(\u001b[0m\u001b[0mcluster_iterator\u001b[0m\u001b[0;34m)\u001b[0m\u001b[0;34m\u001b[0m\u001b[0;34m\u001b[0m\u001b[0m\n\u001b[0m\u001b[1;32m     13\u001b[0m \u001b[0;34m\u001b[0m\u001b[0m\n\u001b[1;32m     14\u001b[0m     \u001b[0mmedoid\u001b[0m\u001b[0;34m,\u001b[0m \u001b[0mcontigs\u001b[0m \u001b[0;34m=\u001b[0m \u001b[0mnext\u001b[0m\u001b[0;34m(\u001b[0m\u001b[0miter\u001b[0m\u001b[0;34m(\u001b[0m\u001b[0mclusters\u001b[0m\u001b[0;34m.\u001b[0m\u001b[0mitems\u001b[0m\u001b[0;34m(\u001b[0m\u001b[0;34m)\u001b[0m\u001b[0;34m)\u001b[0m\u001b[0;34m)\u001b[0m\u001b[0;34m\u001b[0m\u001b[0;34m\u001b[0m\u001b[0m\n",
      "\u001b[0;32m~/Documents/vamb/vamb/cluster.py\u001b[0m in \u001b[0;36mcluster\u001b[0;34m(matrix, labels, maxsteps, windowsize, minsuccesses, destroy, normalized, cuda)\u001b[0m\n\u001b[1;32m    456\u001b[0m \u001b[0;34m\u001b[0m\u001b[0m\n\u001b[1;32m    457\u001b[0m     \u001b[0mit\u001b[0m \u001b[0;34m=\u001b[0m \u001b[0mClusterGenerator\u001b[0m\u001b[0;34m(\u001b[0m\u001b[0mmatrix\u001b[0m\u001b[0;34m,\u001b[0m \u001b[0mmaxsteps\u001b[0m\u001b[0;34m,\u001b[0m \u001b[0mwindowsize\u001b[0m\u001b[0;34m,\u001b[0m \u001b[0mminsuccesses\u001b[0m\u001b[0;34m,\u001b[0m \u001b[0mdestroy\u001b[0m\u001b[0;34m,\u001b[0m \u001b[0mnormalized\u001b[0m\u001b[0;34m,\u001b[0m \u001b[0mcuda\u001b[0m\u001b[0;34m)\u001b[0m\u001b[0;34m\u001b[0m\u001b[0;34m\u001b[0m\u001b[0m\n\u001b[0;32m--> 458\u001b[0;31m     \u001b[0;32mfor\u001b[0m \u001b[0mcluster\u001b[0m \u001b[0;32min\u001b[0m \u001b[0mit\u001b[0m\u001b[0;34m:\u001b[0m\u001b[0;34m\u001b[0m\u001b[0;34m\u001b[0m\u001b[0m\n\u001b[0m\u001b[1;32m    459\u001b[0m         \u001b[0;32myield\u001b[0m \u001b[0mcluster\u001b[0m\u001b[0;34m.\u001b[0m\u001b[0mas_tuple\u001b[0m\u001b[0;34m(\u001b[0m\u001b[0mlabels\u001b[0m\u001b[0;34m)\u001b[0m\u001b[0;34m\u001b[0m\u001b[0;34m\u001b[0m\u001b[0m\n\u001b[1;32m    460\u001b[0m \u001b[0;34m\u001b[0m\u001b[0m\n",
      "\u001b[0;32m~/Documents/vamb/vamb/cluster.py\u001b[0m in \u001b[0;36m__next__\u001b[0;34m(self)\u001b[0m\n\u001b[1;32m    195\u001b[0m             \u001b[0;32mraise\u001b[0m \u001b[0mStopIteration\u001b[0m\u001b[0;34m\u001b[0m\u001b[0;34m\u001b[0m\u001b[0m\n\u001b[1;32m    196\u001b[0m \u001b[0;34m\u001b[0m\u001b[0m\n\u001b[0;32m--> 197\u001b[0;31m         \u001b[0mcluster\u001b[0m\u001b[0;34m,\u001b[0m \u001b[0mmedoid\u001b[0m\u001b[0;34m,\u001b[0m \u001b[0mpoints\u001b[0m \u001b[0;34m=\u001b[0m \u001b[0mself\u001b[0m\u001b[0;34m.\u001b[0m\u001b[0m_findcluster\u001b[0m\u001b[0;34m(\u001b[0m\u001b[0;34m)\u001b[0m\u001b[0;34m\u001b[0m\u001b[0;34m\u001b[0m\u001b[0m\n\u001b[0m\u001b[1;32m    198\u001b[0m         \u001b[0mself\u001b[0m\u001b[0;34m.\u001b[0m\u001b[0mnclusters\u001b[0m \u001b[0;34m+=\u001b[0m \u001b[0;36m1\u001b[0m\u001b[0;34m\u001b[0m\u001b[0;34m\u001b[0m\u001b[0m\n\u001b[1;32m    199\u001b[0m \u001b[0;34m\u001b[0m\u001b[0m\n",
      "\u001b[0;32m~/Documents/vamb/vamb/cluster.py\u001b[0m in \u001b[0;36m_findcluster\u001b[0;34m(self)\u001b[0m\n\u001b[1;32m    226\u001b[0m                 \u001b[0mself\u001b[0m\u001b[0;34m.\u001b[0m\u001b[0mseed\u001b[0m \u001b[0;34m=\u001b[0m \u001b[0;34m(\u001b[0m\u001b[0mself\u001b[0m\u001b[0;34m.\u001b[0m\u001b[0mseed\u001b[0m \u001b[0;34m+\u001b[0m \u001b[0;36m1\u001b[0m\u001b[0;34m)\u001b[0m \u001b[0;34m%\u001b[0m \u001b[0mlen\u001b[0m\u001b[0;34m(\u001b[0m\u001b[0mself\u001b[0m\u001b[0;34m.\u001b[0m\u001b[0mmatrix\u001b[0m\u001b[0;34m)\u001b[0m\u001b[0;34m\u001b[0m\u001b[0;34m\u001b[0m\u001b[0m\n\u001b[1;32m    227\u001b[0m \u001b[0;34m\u001b[0m\u001b[0m\n\u001b[0;32m--> 228\u001b[0;31m             \u001b[0mmedoid\u001b[0m\u001b[0;34m,\u001b[0m \u001b[0mdistances\u001b[0m \u001b[0;34m=\u001b[0m \u001b[0m_wander_medoid\u001b[0m\u001b[0;34m(\u001b[0m\u001b[0mself\u001b[0m\u001b[0;34m.\u001b[0m\u001b[0mmatrix\u001b[0m\u001b[0;34m,\u001b[0m \u001b[0mself\u001b[0m\u001b[0;34m.\u001b[0m\u001b[0mkept_mask\u001b[0m\u001b[0;34m,\u001b[0m \u001b[0mself\u001b[0m\u001b[0;34m.\u001b[0m\u001b[0mseed\u001b[0m\u001b[0;34m,\u001b[0m \u001b[0mself\u001b[0m\u001b[0;34m.\u001b[0m\u001b[0mMAXSTEPS\u001b[0m\u001b[0;34m,\u001b[0m \u001b[0mself\u001b[0m\u001b[0;34m.\u001b[0m\u001b[0mRNG\u001b[0m\u001b[0;34m,\u001b[0m \u001b[0mself\u001b[0m\u001b[0;34m.\u001b[0m\u001b[0mCUDA\u001b[0m\u001b[0;34m)\u001b[0m\u001b[0;34m\u001b[0m\u001b[0;34m\u001b[0m\u001b[0m\n\u001b[0m\u001b[1;32m    229\u001b[0m \u001b[0;34m\u001b[0m\u001b[0m\n\u001b[1;32m    230\u001b[0m             \u001b[0;31m# We need to make a histogram of only the unclustered distances - when run on GPU\u001b[0m\u001b[0;34m\u001b[0m\u001b[0;34m\u001b[0m\u001b[0m\n",
      "\u001b[0;32m~/Documents/vamb/vamb/cluster.py\u001b[0m in \u001b[0;36m_wander_medoid\u001b[0;34m(matrix, kept_mask, medoid, max_attempts, rng, cuda)\u001b[0m\n\u001b[1;32m    407\u001b[0m     \u001b[0mfutile_attempts\u001b[0m \u001b[0;34m=\u001b[0m \u001b[0;36m0\u001b[0m\u001b[0;34m\u001b[0m\u001b[0;34m\u001b[0m\u001b[0m\n\u001b[1;32m    408\u001b[0m     \u001b[0mtried\u001b[0m \u001b[0;34m=\u001b[0m \u001b[0;34m{\u001b[0m\u001b[0mmedoid\u001b[0m\u001b[0;34m}\u001b[0m \u001b[0;31m# keep track of already-tried medoids\u001b[0m\u001b[0;34m\u001b[0m\u001b[0;34m\u001b[0m\u001b[0m\n\u001b[0;32m--> 409\u001b[0;31m     \u001b[0mcluster\u001b[0m\u001b[0;34m,\u001b[0m \u001b[0mdistances\u001b[0m\u001b[0;34m,\u001b[0m \u001b[0maverage_distance\u001b[0m \u001b[0;34m=\u001b[0m \u001b[0m_sample_medoid\u001b[0m\u001b[0;34m(\u001b[0m\u001b[0mmatrix\u001b[0m\u001b[0;34m,\u001b[0m \u001b[0mkept_mask\u001b[0m\u001b[0;34m,\u001b[0m \u001b[0mmedoid\u001b[0m\u001b[0;34m,\u001b[0m \u001b[0m_MEDOID_RADIUS\u001b[0m\u001b[0;34m,\u001b[0m \u001b[0mcuda\u001b[0m\u001b[0;34m)\u001b[0m\u001b[0;34m\u001b[0m\u001b[0;34m\u001b[0m\u001b[0m\n\u001b[0m\u001b[1;32m    410\u001b[0m \u001b[0;34m\u001b[0m\u001b[0m\n\u001b[1;32m    411\u001b[0m     \u001b[0;32mwhile\u001b[0m \u001b[0mlen\u001b[0m\u001b[0;34m(\u001b[0m\u001b[0mcluster\u001b[0m\u001b[0;34m)\u001b[0m \u001b[0;34m-\u001b[0m \u001b[0mlen\u001b[0m\u001b[0;34m(\u001b[0m\u001b[0mtried\u001b[0m\u001b[0;34m)\u001b[0m \u001b[0;34m>\u001b[0m \u001b[0;36m0\u001b[0m \u001b[0;32mand\u001b[0m \u001b[0mfutile_attempts\u001b[0m \u001b[0;34m<\u001b[0m \u001b[0mmax_attempts\u001b[0m\u001b[0;34m:\u001b[0m\u001b[0;34m\u001b[0m\u001b[0;34m\u001b[0m\u001b[0m\n",
      "\u001b[0;32m~/Documents/vamb/vamb/cluster.py\u001b[0m in \u001b[0;36m_sample_medoid\u001b[0;34m(matrix, kept_mask, medoid, threshold, cuda)\u001b[0m\n\u001b[1;32m    389\u001b[0m     \"\"\"\n\u001b[1;32m    390\u001b[0m \u001b[0;34m\u001b[0m\u001b[0m\n\u001b[0;32m--> 391\u001b[0;31m     \u001b[0mdistances\u001b[0m \u001b[0;34m=\u001b[0m \u001b[0m_calc_distances\u001b[0m\u001b[0;34m(\u001b[0m\u001b[0mmatrix\u001b[0m\u001b[0;34m,\u001b[0m \u001b[0mmedoid\u001b[0m\u001b[0;34m)\u001b[0m\u001b[0;34m\u001b[0m\u001b[0;34m\u001b[0m\u001b[0m\n\u001b[0m\u001b[1;32m    392\u001b[0m     \u001b[0mcluster\u001b[0m \u001b[0;34m=\u001b[0m \u001b[0m_smaller_indices\u001b[0m\u001b[0;34m(\u001b[0m\u001b[0mdistances\u001b[0m\u001b[0;34m,\u001b[0m \u001b[0mkept_mask\u001b[0m\u001b[0;34m,\u001b[0m \u001b[0mthreshold\u001b[0m\u001b[0;34m,\u001b[0m \u001b[0mcuda\u001b[0m\u001b[0;34m)\u001b[0m\u001b[0;34m\u001b[0m\u001b[0;34m\u001b[0m\u001b[0m\n\u001b[1;32m    393\u001b[0m \u001b[0;34m\u001b[0m\u001b[0m\n",
      "\u001b[0;32m~/Documents/vamb/vamb/cluster.py\u001b[0m in \u001b[0;36m_calc_distances\u001b[0;34m(matrix, index)\u001b[0m\n\u001b[1;32m    378\u001b[0m \u001b[0;32mdef\u001b[0m \u001b[0m_calc_distances\u001b[0m\u001b[0;34m(\u001b[0m\u001b[0mmatrix\u001b[0m\u001b[0;34m,\u001b[0m \u001b[0mindex\u001b[0m\u001b[0;34m)\u001b[0m\u001b[0;34m:\u001b[0m\u001b[0;34m\u001b[0m\u001b[0;34m\u001b[0m\u001b[0m\n\u001b[1;32m    379\u001b[0m     \u001b[0;34m\"Return vector of cosine distances from rows of normalized matrix to given row.\"\u001b[0m\u001b[0;34m\u001b[0m\u001b[0;34m\u001b[0m\u001b[0m\n\u001b[0;32m--> 380\u001b[0;31m     \u001b[0mdists\u001b[0m \u001b[0;34m=\u001b[0m \u001b[0;36m0.5\u001b[0m \u001b[0;34m-\u001b[0m \u001b[0mmatrix\u001b[0m\u001b[0;34m.\u001b[0m\u001b[0mmatmul\u001b[0m\u001b[0;34m(\u001b[0m\u001b[0mmatrix\u001b[0m\u001b[0;34m[\u001b[0m\u001b[0mindex\u001b[0m\u001b[0;34m]\u001b[0m\u001b[0;34m)\u001b[0m\u001b[0;34m\u001b[0m\u001b[0;34m\u001b[0m\u001b[0m\n\u001b[0m\u001b[1;32m    381\u001b[0m     \u001b[0mdists\u001b[0m\u001b[0;34m[\u001b[0m\u001b[0mindex\u001b[0m\u001b[0;34m]\u001b[0m \u001b[0;34m=\u001b[0m \u001b[0;36m0.0\u001b[0m \u001b[0;31m# avoid float rounding errors\u001b[0m\u001b[0;34m\u001b[0m\u001b[0;34m\u001b[0m\u001b[0m\n\u001b[1;32m    382\u001b[0m     \u001b[0;32mreturn\u001b[0m \u001b[0mdists\u001b[0m\u001b[0;34m\u001b[0m\u001b[0;34m\u001b[0m\u001b[0m\n",
      "\u001b[0;31mKeyboardInterrupt\u001b[0m: "
     ]
    }
   ],
   "source": [
    "for p1, p2, ii in zip(filepaths_100, clusters_100, indices_100):\n",
    "    save_clusters(p1, p2, indices=ii)"
   ]
  },
  {
   "cell_type": "code",
   "execution_count": 400,
   "id": "f961dc75",
   "metadata": {},
   "outputs": [
    {
     "name": "stdout",
     "output_type": "stream",
     "text": [
      "latent_trained_semisupervised.npy\n",
      "(187685, 32)\n",
      "First key: S27C168155 (of type: <class 'str'> )\n",
      "Type of values: <class 'set'>\n",
      "First element of value: S27C39292 of type: <class 'str'>\n",
      "Number of bins before splitting and filtering: 3653\n",
      "Number of bins after splitting and filtering: 651\n",
      "latent_trained_labels.npy\n",
      "(187685, 32)\n",
      "First key: S4C285569 (of type: <class 'str'> )\n",
      "Type of values: <class 'set'>\n",
      "First element of value: S27C39292 of type: <class 'str'>\n",
      "Number of bins before splitting and filtering: 639\n",
      "Number of bins after splitting and filtering: 717\n",
      "latent_trained_vamb.npy\n",
      "(187685, 32)\n",
      "First key: S4C262502 (of type: <class 'str'> )\n",
      "Type of values: <class 'set'>\n",
      "First element of value: S4C262502 of type: <class 'str'>\n",
      "Number of bins before splitting and filtering: 69890\n",
      "Number of bins after splitting and filtering: 481\n"
     ]
    }
   ],
   "source": [
    "for p1, p2 in zip(filepaths_one, clusters_one):\n",
    "    save_clusters(p1, p2)"
   ]
  },
  {
   "cell_type": "code",
   "execution_count": 110,
   "id": "8b4f5d8b",
   "metadata": {
    "collapsed": true
   },
   "outputs": [
    {
     "name": "stdout",
     "output_type": "stream",
     "text": [
      "latent_trained_semisupervised_fix_1_both.npy\n",
      "1877\n",
      "First key: S27C186599 (of type: <class 'numpy.str_'> )\n",
      "Type of values: <class 'set'>\n",
      "First element of value: S27C186599 of type: <class 'numpy.str_'>\n",
      "Number of bins before splitting and filtering: 1450\n",
      "Number of bins after splitting and filtering: 5\n",
      "latent_trained_semisupervised_fix_1_vamb.npy\n",
      "187685\n",
      "First key: S11C12549 (of type: <class 'numpy.str_'> )\n",
      "Type of values: <class 'set'>\n",
      "First element of value: S4C74390 of type: <class 'numpy.str_'>\n",
      "Number of bins before splitting and filtering: 14954\n",
      "Number of bins after splitting and filtering: 460\n",
      "latent_trained_semisupervised_fix_1_labels.npy\n",
      "187685\n",
      "First key: S27C106120 (of type: <class 'numpy.str_'> )\n",
      "Type of values: <class 'set'>\n",
      "First element of value: S27C187220 of type: <class 'numpy.str_'>\n",
      "Number of bins before splitting and filtering: 639\n",
      "Number of bins after splitting and filtering: 717\n",
      "latent_trained_semisupervised_fix_10_both.npy\n",
      "18769\n",
      "First key: S27C66417 (of type: <class 'numpy.str_'> )\n",
      "Type of values: <class 'set'>\n",
      "First element of value: S27C66417 of type: <class 'numpy.str_'>\n",
      "Number of bins before splitting and filtering: 1463\n",
      "Number of bins after splitting and filtering: 222\n",
      "latent_trained_semisupervised_fix_10_vamb.npy\n",
      "187685\n",
      "First key: S10C85904 (of type: <class 'numpy.str_'> )\n",
      "Type of values: <class 'set'>\n",
      "First element of value: S26C404184 of type: <class 'numpy.str_'>\n",
      "Number of bins before splitting and filtering: 10672\n",
      "Number of bins after splitting and filtering: 463\n",
      "latent_trained_semisupervised_fix_10_labels.npy\n",
      "187685\n",
      "First key: S4C195050 (of type: <class 'numpy.str_'> )\n",
      "Type of values: <class 'set'>\n",
      "First element of value: S10C232045 of type: <class 'numpy.str_'>\n",
      "Number of bins before splitting and filtering: 639\n",
      "Number of bins after splitting and filtering: 717\n",
      "latent_trained_semisupervised_fix_50_both.npy\n",
      "93843\n",
      "First key: S27C167200 (of type: <class 'numpy.str_'> )\n",
      "Type of values: <class 'set'>\n",
      "First element of value: S27C237710 of type: <class 'numpy.str_'>\n",
      "Number of bins before splitting and filtering: 2157\n",
      "Number of bins after splitting and filtering: 598\n",
      "latent_trained_semisupervised_fix_50_vamb.npy\n",
      "187685\n",
      "First key: S26C585269 (of type: <class 'numpy.str_'> )\n",
      "Type of values: <class 'set'>\n",
      "First element of value: S26C333159 of type: <class 'numpy.str_'>\n",
      "Number of bins before splitting and filtering: 10652\n",
      "Number of bins after splitting and filtering: 472\n",
      "latent_trained_semisupervised_fix_50_labels.npy\n",
      "187685\n",
      "First key: S27C34297 (of type: <class 'numpy.str_'> )\n",
      "Type of values: <class 'set'>\n",
      "First element of value: S27C254412 of type: <class 'numpy.str_'>\n",
      "Number of bins before splitting and filtering: 639\n",
      "Number of bins after splitting and filtering: 717\n",
      "latent_trained_semisupervised_fix_100_both.npy\n",
      "187685\n",
      "First key: S27C198645 (of type: <class 'numpy.str_'> )\n",
      "Type of values: <class 'set'>\n",
      "First element of value: S4C682911 of type: <class 'numpy.str_'>\n",
      "Number of bins before splitting and filtering: 2705\n",
      "Number of bins after splitting and filtering: 707\n",
      "latent_trained_semisupervised_fix_100_vamb.npy\n",
      "187685\n",
      "First key: S27C53728 (of type: <class 'numpy.str_'> )\n",
      "Type of values: <class 'set'>\n",
      "First element of value: S9C536705 of type: <class 'numpy.str_'>\n",
      "Number of bins before splitting and filtering: 10430\n",
      "Number of bins after splitting and filtering: 478\n",
      "latent_trained_semisupervised_fix_100_labels.npy\n",
      "187685\n",
      "First key: S11C15967 (of type: <class 'numpy.str_'> )\n",
      "Type of values: <class 'set'>\n",
      "First element of value: S11C1931 of type: <class 'numpy.str_'>\n",
      "Number of bins before splitting and filtering: 639\n",
      "Number of bins after splitting and filtering: 717\n"
     ]
    }
   ],
   "source": [
    "for p1, p2, ii in zip(filepaths_one_fix, clusters_one_fix, indices_fix):\n",
    "    save_clusters(p1, p2, indices=ii)"
   ]
  },
  {
   "cell_type": "code",
   "execution_count": 421,
   "id": "ce0d989a",
   "metadata": {},
   "outputs": [
    {
     "name": "stdout",
     "output_type": "stream",
     "text": [
      "(1877, 32) 1877 (1877,)\n"
     ]
    },
    {
     "ename": "KeyboardInterrupt",
     "evalue": "",
     "output_type": "error",
     "traceback": [
      "\u001b[0;31m---------------------------------------------------------------------------\u001b[0m",
      "\u001b[0;31mKeyboardInterrupt\u001b[0m                         Traceback (most recent call last)",
      "\u001b[0;32m/var/folders/5b/1dk8bnws25l6w502hfdc8xw80000gn/T/ipykernel_12840/2310116873.py\u001b[0m in \u001b[0;36m<module>\u001b[0;34m\u001b[0m\n\u001b[0;32m----> 1\u001b[0;31m save_clusters_both(\n\u001b[0m\u001b[1;32m      2\u001b[0m     \u001b[0;34m'latent_trained_semisupervised_1_vamb.npy'\u001b[0m\u001b[0;34m,\u001b[0m\u001b[0;34m\u001b[0m\u001b[0;34m\u001b[0m\u001b[0m\n\u001b[1;32m      3\u001b[0m     \u001b[0;34m'latent_trained_semisupervised_1_both.npy'\u001b[0m\u001b[0;34m,\u001b[0m\u001b[0;34m\u001b[0m\u001b[0;34m\u001b[0m\u001b[0m\n\u001b[1;32m      4\u001b[0m     \u001b[0mnp\u001b[0m\u001b[0;34m.\u001b[0m\u001b[0marray\u001b[0m\u001b[0;34m(\u001b[0m\u001b[0mindices1_x\u001b[0m\u001b[0;34m)\u001b[0m\u001b[0;34m,\u001b[0m\u001b[0;34m\u001b[0m\u001b[0;34m\u001b[0m\u001b[0m\n\u001b[1;32m      5\u001b[0m     \u001b[0mnp\u001b[0m\u001b[0;34m.\u001b[0m\u001b[0marray\u001b[0m\u001b[0;34m(\u001b[0m\u001b[0mindices1_sup\u001b[0m\u001b[0;34m)\u001b[0m\u001b[0;34m,\u001b[0m\u001b[0;34m\u001b[0m\u001b[0;34m\u001b[0m\u001b[0m\n",
      "\u001b[0;32m/var/folders/5b/1dk8bnws25l6w502hfdc8xw80000gn/T/ipykernel_12840/3041229350.py\u001b[0m in \u001b[0;36msave_clusters_both\u001b[0;34m(filepath_vamb, filepath_both, indices_vamb, indices_both, cluster_path)\u001b[0m\n\u001b[1;32m     10\u001b[0m     \u001b[0mfiltered_labels\u001b[0m \u001b[0;34m=\u001b[0m \u001b[0;34m[\u001b[0m\u001b[0mn\u001b[0m \u001b[0;32mfor\u001b[0m \u001b[0;34m(\u001b[0m\u001b[0mn\u001b[0m\u001b[0;34m,\u001b[0m\u001b[0mm\u001b[0m\u001b[0;34m)\u001b[0m \u001b[0;32min\u001b[0m \u001b[0mzip\u001b[0m\u001b[0;34m(\u001b[0m\u001b[0mcontignames\u001b[0m\u001b[0;34m,\u001b[0m \u001b[0mmask\u001b[0m\u001b[0;34m)\u001b[0m \u001b[0;32mif\u001b[0m \u001b[0mm\u001b[0m\u001b[0;34m]\u001b[0m\u001b[0;34m\u001b[0m\u001b[0;34m\u001b[0m\u001b[0m\n\u001b[1;32m     11\u001b[0m     \u001b[0mcluster_iterator\u001b[0m \u001b[0;34m=\u001b[0m \u001b[0mvamb\u001b[0m\u001b[0;34m.\u001b[0m\u001b[0mcluster\u001b[0m\u001b[0;34m.\u001b[0m\u001b[0mcluster\u001b[0m\u001b[0;34m(\u001b[0m\u001b[0mlatent_vamb\u001b[0m\u001b[0;34m,\u001b[0m \u001b[0mlabels\u001b[0m\u001b[0;34m=\u001b[0m\u001b[0mfiltered_labels\u001b[0m\u001b[0;34m)\u001b[0m\u001b[0;34m\u001b[0m\u001b[0;34m\u001b[0m\u001b[0m\n\u001b[0;32m---> 12\u001b[0;31m     \u001b[0mclusters\u001b[0m \u001b[0;34m=\u001b[0m \u001b[0mdict\u001b[0m\u001b[0;34m(\u001b[0m\u001b[0mcluster_iterator\u001b[0m\u001b[0;34m)\u001b[0m\u001b[0;34m\u001b[0m\u001b[0;34m\u001b[0m\u001b[0m\n\u001b[0m\u001b[1;32m     13\u001b[0m \u001b[0;34m\u001b[0m\u001b[0m\n\u001b[1;32m     14\u001b[0m     \u001b[0mmedoid\u001b[0m\u001b[0;34m,\u001b[0m \u001b[0mcontigs\u001b[0m \u001b[0;34m=\u001b[0m \u001b[0mnext\u001b[0m\u001b[0;34m(\u001b[0m\u001b[0miter\u001b[0m\u001b[0;34m(\u001b[0m\u001b[0mclusters\u001b[0m\u001b[0;34m.\u001b[0m\u001b[0mitems\u001b[0m\u001b[0;34m(\u001b[0m\u001b[0;34m)\u001b[0m\u001b[0;34m)\u001b[0m\u001b[0;34m)\u001b[0m\u001b[0;34m\u001b[0m\u001b[0;34m\u001b[0m\u001b[0m\n",
      "\u001b[0;32m~/Documents/vamb/vamb/cluster.py\u001b[0m in \u001b[0;36mcluster\u001b[0;34m(matrix, labels, maxsteps, windowsize, minsuccesses, destroy, normalized, cuda)\u001b[0m\n\u001b[1;32m    456\u001b[0m \u001b[0;34m\u001b[0m\u001b[0m\n\u001b[1;32m    457\u001b[0m     \u001b[0mit\u001b[0m \u001b[0;34m=\u001b[0m \u001b[0mClusterGenerator\u001b[0m\u001b[0;34m(\u001b[0m\u001b[0mmatrix\u001b[0m\u001b[0;34m,\u001b[0m \u001b[0mmaxsteps\u001b[0m\u001b[0;34m,\u001b[0m \u001b[0mwindowsize\u001b[0m\u001b[0;34m,\u001b[0m \u001b[0mminsuccesses\u001b[0m\u001b[0;34m,\u001b[0m \u001b[0mdestroy\u001b[0m\u001b[0;34m,\u001b[0m \u001b[0mnormalized\u001b[0m\u001b[0;34m,\u001b[0m \u001b[0mcuda\u001b[0m\u001b[0;34m)\u001b[0m\u001b[0;34m\u001b[0m\u001b[0;34m\u001b[0m\u001b[0m\n\u001b[0;32m--> 458\u001b[0;31m     \u001b[0;32mfor\u001b[0m \u001b[0mcluster\u001b[0m \u001b[0;32min\u001b[0m \u001b[0mit\u001b[0m\u001b[0;34m:\u001b[0m\u001b[0;34m\u001b[0m\u001b[0;34m\u001b[0m\u001b[0m\n\u001b[0m\u001b[1;32m    459\u001b[0m         \u001b[0;32myield\u001b[0m \u001b[0mcluster\u001b[0m\u001b[0;34m.\u001b[0m\u001b[0mas_tuple\u001b[0m\u001b[0;34m(\u001b[0m\u001b[0mlabels\u001b[0m\u001b[0;34m)\u001b[0m\u001b[0;34m\u001b[0m\u001b[0;34m\u001b[0m\u001b[0m\n\u001b[1;32m    460\u001b[0m \u001b[0;34m\u001b[0m\u001b[0m\n",
      "\u001b[0;32m~/Documents/vamb/vamb/cluster.py\u001b[0m in \u001b[0;36m__next__\u001b[0;34m(self)\u001b[0m\n\u001b[1;32m    195\u001b[0m             \u001b[0;32mraise\u001b[0m \u001b[0mStopIteration\u001b[0m\u001b[0;34m\u001b[0m\u001b[0;34m\u001b[0m\u001b[0m\n\u001b[1;32m    196\u001b[0m \u001b[0;34m\u001b[0m\u001b[0m\n\u001b[0;32m--> 197\u001b[0;31m         \u001b[0mcluster\u001b[0m\u001b[0;34m,\u001b[0m \u001b[0mmedoid\u001b[0m\u001b[0;34m,\u001b[0m \u001b[0mpoints\u001b[0m \u001b[0;34m=\u001b[0m \u001b[0mself\u001b[0m\u001b[0;34m.\u001b[0m\u001b[0m_findcluster\u001b[0m\u001b[0;34m(\u001b[0m\u001b[0;34m)\u001b[0m\u001b[0;34m\u001b[0m\u001b[0;34m\u001b[0m\u001b[0m\n\u001b[0m\u001b[1;32m    198\u001b[0m         \u001b[0mself\u001b[0m\u001b[0;34m.\u001b[0m\u001b[0mnclusters\u001b[0m \u001b[0;34m+=\u001b[0m \u001b[0;36m1\u001b[0m\u001b[0;34m\u001b[0m\u001b[0;34m\u001b[0m\u001b[0m\n\u001b[1;32m    199\u001b[0m \u001b[0;34m\u001b[0m\u001b[0m\n",
      "\u001b[0;32m~/Documents/vamb/vamb/cluster.py\u001b[0m in \u001b[0;36m_findcluster\u001b[0;34m(self)\u001b[0m\n\u001b[1;32m    226\u001b[0m                 \u001b[0mself\u001b[0m\u001b[0;34m.\u001b[0m\u001b[0mseed\u001b[0m \u001b[0;34m=\u001b[0m \u001b[0;34m(\u001b[0m\u001b[0mself\u001b[0m\u001b[0;34m.\u001b[0m\u001b[0mseed\u001b[0m \u001b[0;34m+\u001b[0m \u001b[0;36m1\u001b[0m\u001b[0;34m)\u001b[0m \u001b[0;34m%\u001b[0m \u001b[0mlen\u001b[0m\u001b[0;34m(\u001b[0m\u001b[0mself\u001b[0m\u001b[0;34m.\u001b[0m\u001b[0mmatrix\u001b[0m\u001b[0;34m)\u001b[0m\u001b[0;34m\u001b[0m\u001b[0;34m\u001b[0m\u001b[0m\n\u001b[1;32m    227\u001b[0m \u001b[0;34m\u001b[0m\u001b[0m\n\u001b[0;32m--> 228\u001b[0;31m             \u001b[0mmedoid\u001b[0m\u001b[0;34m,\u001b[0m \u001b[0mdistances\u001b[0m \u001b[0;34m=\u001b[0m \u001b[0m_wander_medoid\u001b[0m\u001b[0;34m(\u001b[0m\u001b[0mself\u001b[0m\u001b[0;34m.\u001b[0m\u001b[0mmatrix\u001b[0m\u001b[0;34m,\u001b[0m \u001b[0mself\u001b[0m\u001b[0;34m.\u001b[0m\u001b[0mkept_mask\u001b[0m\u001b[0;34m,\u001b[0m \u001b[0mself\u001b[0m\u001b[0;34m.\u001b[0m\u001b[0mseed\u001b[0m\u001b[0;34m,\u001b[0m \u001b[0mself\u001b[0m\u001b[0;34m.\u001b[0m\u001b[0mMAXSTEPS\u001b[0m\u001b[0;34m,\u001b[0m \u001b[0mself\u001b[0m\u001b[0;34m.\u001b[0m\u001b[0mRNG\u001b[0m\u001b[0;34m,\u001b[0m \u001b[0mself\u001b[0m\u001b[0;34m.\u001b[0m\u001b[0mCUDA\u001b[0m\u001b[0;34m)\u001b[0m\u001b[0;34m\u001b[0m\u001b[0;34m\u001b[0m\u001b[0m\n\u001b[0m\u001b[1;32m    229\u001b[0m \u001b[0;34m\u001b[0m\u001b[0m\n\u001b[1;32m    230\u001b[0m             \u001b[0;31m# We need to make a histogram of only the unclustered distances - when run on GPU\u001b[0m\u001b[0;34m\u001b[0m\u001b[0;34m\u001b[0m\u001b[0m\n",
      "\u001b[0;32m~/Documents/vamb/vamb/cluster.py\u001b[0m in \u001b[0;36m_wander_medoid\u001b[0;34m(matrix, kept_mask, medoid, max_attempts, rng, cuda)\u001b[0m\n\u001b[1;32m    418\u001b[0m         \u001b[0mtried\u001b[0m\u001b[0;34m.\u001b[0m\u001b[0madd\u001b[0m\u001b[0;34m(\u001b[0m\u001b[0msampled_medoid\u001b[0m\u001b[0;34m)\u001b[0m\u001b[0;34m\u001b[0m\u001b[0;34m\u001b[0m\u001b[0m\n\u001b[1;32m    419\u001b[0m \u001b[0;34m\u001b[0m\u001b[0m\n\u001b[0;32m--> 420\u001b[0;31m         \u001b[0msampling\u001b[0m \u001b[0;34m=\u001b[0m \u001b[0m_sample_medoid\u001b[0m\u001b[0;34m(\u001b[0m\u001b[0mmatrix\u001b[0m\u001b[0;34m,\u001b[0m \u001b[0mkept_mask\u001b[0m\u001b[0;34m,\u001b[0m \u001b[0msampled_medoid\u001b[0m\u001b[0;34m,\u001b[0m \u001b[0m_MEDOID_RADIUS\u001b[0m\u001b[0;34m,\u001b[0m \u001b[0mcuda\u001b[0m\u001b[0;34m)\u001b[0m\u001b[0;34m\u001b[0m\u001b[0;34m\u001b[0m\u001b[0m\n\u001b[0m\u001b[1;32m    421\u001b[0m         \u001b[0msample_cluster\u001b[0m\u001b[0;34m,\u001b[0m \u001b[0msample_distances\u001b[0m\u001b[0;34m,\u001b[0m \u001b[0msample_avg\u001b[0m \u001b[0;34m=\u001b[0m \u001b[0msampling\u001b[0m\u001b[0;34m\u001b[0m\u001b[0;34m\u001b[0m\u001b[0m\n\u001b[1;32m    422\u001b[0m \u001b[0;34m\u001b[0m\u001b[0m\n",
      "\u001b[0;32m~/Documents/vamb/vamb/cluster.py\u001b[0m in \u001b[0;36m_sample_medoid\u001b[0;34m(matrix, kept_mask, medoid, threshold, cuda)\u001b[0m\n\u001b[1;32m    389\u001b[0m     \"\"\"\n\u001b[1;32m    390\u001b[0m \u001b[0;34m\u001b[0m\u001b[0m\n\u001b[0;32m--> 391\u001b[0;31m     \u001b[0mdistances\u001b[0m \u001b[0;34m=\u001b[0m \u001b[0m_calc_distances\u001b[0m\u001b[0;34m(\u001b[0m\u001b[0mmatrix\u001b[0m\u001b[0;34m,\u001b[0m \u001b[0mmedoid\u001b[0m\u001b[0;34m)\u001b[0m\u001b[0;34m\u001b[0m\u001b[0;34m\u001b[0m\u001b[0m\n\u001b[0m\u001b[1;32m    392\u001b[0m     \u001b[0mcluster\u001b[0m \u001b[0;34m=\u001b[0m \u001b[0m_smaller_indices\u001b[0m\u001b[0;34m(\u001b[0m\u001b[0mdistances\u001b[0m\u001b[0;34m,\u001b[0m \u001b[0mkept_mask\u001b[0m\u001b[0;34m,\u001b[0m \u001b[0mthreshold\u001b[0m\u001b[0;34m,\u001b[0m \u001b[0mcuda\u001b[0m\u001b[0;34m)\u001b[0m\u001b[0;34m\u001b[0m\u001b[0;34m\u001b[0m\u001b[0m\n\u001b[1;32m    393\u001b[0m \u001b[0;34m\u001b[0m\u001b[0m\n",
      "\u001b[0;32m~/Documents/vamb/vamb/cluster.py\u001b[0m in \u001b[0;36m_calc_distances\u001b[0;34m(matrix, index)\u001b[0m\n\u001b[1;32m    378\u001b[0m \u001b[0;32mdef\u001b[0m \u001b[0m_calc_distances\u001b[0m\u001b[0;34m(\u001b[0m\u001b[0mmatrix\u001b[0m\u001b[0;34m,\u001b[0m \u001b[0mindex\u001b[0m\u001b[0;34m)\u001b[0m\u001b[0;34m:\u001b[0m\u001b[0;34m\u001b[0m\u001b[0;34m\u001b[0m\u001b[0m\n\u001b[1;32m    379\u001b[0m     \u001b[0;34m\"Return vector of cosine distances from rows of normalized matrix to given row.\"\u001b[0m\u001b[0;34m\u001b[0m\u001b[0;34m\u001b[0m\u001b[0m\n\u001b[0;32m--> 380\u001b[0;31m     \u001b[0mdists\u001b[0m \u001b[0;34m=\u001b[0m \u001b[0;36m0.5\u001b[0m \u001b[0;34m-\u001b[0m \u001b[0mmatrix\u001b[0m\u001b[0;34m.\u001b[0m\u001b[0mmatmul\u001b[0m\u001b[0;34m(\u001b[0m\u001b[0mmatrix\u001b[0m\u001b[0;34m[\u001b[0m\u001b[0mindex\u001b[0m\u001b[0;34m]\u001b[0m\u001b[0;34m)\u001b[0m\u001b[0;34m\u001b[0m\u001b[0;34m\u001b[0m\u001b[0m\n\u001b[0m\u001b[1;32m    381\u001b[0m     \u001b[0mdists\u001b[0m\u001b[0;34m[\u001b[0m\u001b[0mindex\u001b[0m\u001b[0;34m]\u001b[0m \u001b[0;34m=\u001b[0m \u001b[0;36m0.0\u001b[0m \u001b[0;31m# avoid float rounding errors\u001b[0m\u001b[0;34m\u001b[0m\u001b[0;34m\u001b[0m\u001b[0m\n\u001b[1;32m    382\u001b[0m     \u001b[0;32mreturn\u001b[0m \u001b[0mdists\u001b[0m\u001b[0;34m\u001b[0m\u001b[0;34m\u001b[0m\u001b[0m\n",
      "\u001b[0;31mKeyboardInterrupt\u001b[0m: "
     ]
    }
   ],
   "source": [
    "save_clusters_both(\n",
    "    'latent_trained_semisupervised_1_vamb.npy',\n",
    "    'latent_trained_semisupervised_1_both.npy',\n",
    "    np.array(indices1_x),\n",
    "    np.array(indices1_sup),\n",
    "    'clusters_mixed1.tsv',\n",
    ")"
   ]
  },
  {
   "cell_type": "code",
   "execution_count": null,
   "id": "2a31470b",
   "metadata": {},
   "outputs": [],
   "source": [
    "save_clusters_both(\n",
    "    'latent_trained_semisupervised_10_vamb.npy',\n",
    "    'latent_trained_semisupervised_10_both.npy',\n",
    "    np.array(indices10_x),\n",
    "    np.array(indices10_sup),\n",
    "    'clusters_mixed10.tsv',\n",
    ")\n",
    "\n",
    "save_clusters_both(\n",
    "    'latent_trained_semisupervised_50_vamb.npy',\n",
    "    'latent_trained_semisupervised_50_both.npy',\n",
    "    np.array(indices50_x),\n",
    "    np.array(indices50_sup),\n",
    "    'clusters_mixed50.tsv',\n",
    ")\n",
    "\n",
    "save_clusters_both(\n",
    "    'latent_trained_semisupervised_100_vamb.npy',\n",
    "    'latent_trained_semisupervised_100_both.npy',\n",
    "    np.array(indices100_x),\n",
    "    np.array(indices100_sup),\n",
    "    'clusters_mixed100.tsv',\n",
    ")"
   ]
  },
  {
   "cell_type": "code",
   "execution_count": 422,
   "id": "851ec3a1",
   "metadata": {},
   "outputs": [
    {
     "name": "stdout",
     "output_type": "stream",
     "text": [
      "(1877, 32) 1877 (1877,)\n",
      "First key: S27C43410 (of type: <class 'numpy.str_'> )\n",
      "Type of values: <class 'set'>\n",
      "First element of value: S27C43410 of type: <class 'numpy.str_'>\n",
      "Number of bins before splitting and filtering: 40711\n",
      "Number of bins after splitting and filtering: 440\n",
      "(18769, 32) 18769 (18769,)\n",
      "First key: S4C1430 (of type: <class 'numpy.str_'> )\n",
      "Type of values: <class 'set'>\n",
      "First element of value: S27C25737 of type: <class 'numpy.str_'>\n",
      "Number of bins before splitting and filtering: 43264\n",
      "Number of bins after splitting and filtering: 437\n",
      "(93843, 32) 93843 (93843,)\n",
      "First key: S12C221764 (of type: <class 'numpy.str_'> )\n",
      "Type of values: <class 'set'>\n",
      "First element of value: S12C221764 of type: <class 'numpy.str_'>\n",
      "Number of bins before splitting and filtering: 57947\n",
      "Number of bins after splitting and filtering: 508\n",
      "(187685, 32) 187685 (187685,)\n",
      "First key: S27C162006 (of type: <class 'numpy.str_'> )\n",
      "Type of values: <class 'set'>\n",
      "First element of value: S27C162006 of type: <class 'numpy.str_'>\n",
      "Number of bins before splitting and filtering: 56603\n",
      "Number of bins after splitting and filtering: 445\n"
     ]
    }
   ],
   "source": [
    "save_clusters_both(\n",
    "    'latent_trained_semisupervised_genus_1_vamb.npy',\n",
    "    'latent_trained_semisupervised_genus_1_both.npy',\n",
    "    np.array(indices1_genus_x),\n",
    "    np.array(indices1_genus_sup),\n",
    "    'clusters_mixed1_genus.tsv',\n",
    ")\n",
    "\n",
    "save_clusters_both(\n",
    "    'latent_trained_semisupervised_genus_10_vamb.npy',\n",
    "    'latent_trained_semisupervised_genus_10_both.npy',\n",
    "    np.array(indices10_genus_x),\n",
    "    np.array(indices10_genus_sup),\n",
    "    'clusters_mixed10_genus.tsv',\n",
    ")\n",
    "\n",
    "save_clusters_both(\n",
    "    'latent_trained_semisupervised_genus_50_vamb.npy',\n",
    "    'latent_trained_semisupervised_genus_50_both.npy',\n",
    "    np.array(indices50_genus_x),\n",
    "    np.array(indices50_genus_sup),\n",
    "    'clusters_mixed50_genus.tsv',\n",
    ")\n",
    "\n",
    "save_clusters_both(\n",
    "    'latent_trained_semisupervised_genus_100_vamb.npy',\n",
    "    'latent_trained_semisupervised_genus_100_both.npy',\n",
    "    np.array(indices100_genus_x),\n",
    "    np.array(indices100_genus_sup),\n",
    "    'clusters_mixed100_genus.tsv',\n",
    ")"
   ]
  },
  {
   "cell_type": "code",
   "execution_count": 423,
   "id": "d4fd06e5",
   "metadata": {},
   "outputs": [
    {
     "name": "stdout",
     "output_type": "stream",
     "text": [
      "(187685, 32) 187685 (187685,)\n",
      "First key: S9C55256 (of type: <class 'numpy.str_'> )\n",
      "Type of values: <class 'set'>\n",
      "First element of value: S7C95763 of type: <class 'numpy.str_'>\n",
      "Number of bins before splitting and filtering: 40257\n",
      "Number of bins after splitting and filtering: 517\n",
      "(93843, 32) 93843 (93843,)\n",
      "First key: S7C151450 (of type: <class 'numpy.str_'> )\n",
      "Type of values: <class 'set'>\n",
      "First element of value: S7C151450 of type: <class 'numpy.str_'>\n",
      "Number of bins before splitting and filtering: 49837\n",
      "Number of bins after splitting and filtering: 579\n",
      "(18769, 32) 18769 (18769,)\n",
      "First key: S7C245673 (of type: <class 'numpy.str_'> )\n",
      "Type of values: <class 'set'>\n",
      "First element of value: S7C245673 of type: <class 'numpy.str_'>\n",
      "Number of bins before splitting and filtering: 45566\n",
      "Number of bins after splitting and filtering: 521\n",
      "(1877, 32) 1877 (1877,)\n",
      "First key: S9C411828 (of type: <class 'numpy.str_'> )\n",
      "Type of values: <class 'set'>\n",
      "First element of value: S9C411828 of type: <class 'numpy.str_'>\n",
      "Number of bins before splitting and filtering: 39864\n",
      "Number of bins after splitting and filtering: 437\n"
     ]
    }
   ],
   "source": [
    "for n in [100, 50, 10, 1]:\n",
    "    for s in ['species']:\n",
    "        with open(f'{PATH_VAMB}/indices_species_{n}.pickle', 'rb') as fp:\n",
    "            indices_species_x, indices_species_y, indices_species_sup = pickle.load(fp)\n",
    "        save_clusters_both(\n",
    "            f'latent_trained_semisupervised_species_{n}_vamb.npy',\n",
    "            f'latent_trained_semisupervised_species_{n}_both.npy',\n",
    "            np.array(indices_species_x),\n",
    "            np.array(indices_species_sup),\n",
    "            f'clusters_mixed{n}_species.tsv',\n",
    "        )"
   ]
  },
  {
   "cell_type": "code",
   "execution_count": 256,
   "id": "33fdce7e",
   "metadata": {},
   "outputs": [],
   "source": [
    "clusters_mixed_genus = [\n",
    "    'clusters_mixed1_genus.tsv',\n",
    "    'clusters_mixed10_genus.tsv',\n",
    "    'clusters_mixed50_genus.tsv',\n",
    "    'clusters_mixed100_genus.tsv',\n",
    "]"
   ]
  },
  {
   "cell_type": "code",
   "execution_count": 268,
   "id": "2fac938b",
   "metadata": {},
   "outputs": [],
   "source": [
    "clusters_mixed_species = [\n",
    "    'clusters_mixed1_species.tsv',\n",
    "    'clusters_mixed10_species.tsv',\n",
    "    'clusters_mixed50_species.tsv',\n",
    "    'clusters_mixed100_species.tsv',\n",
    "]"
   ]
  },
  {
   "cell_type": "code",
   "execution_count": 441,
   "id": "2b4fb457",
   "metadata": {},
   "outputs": [
    {
     "name": "stdout",
     "output_type": "stream",
     "text": [
      "(64054, 32) 64054 (64054,)\n",
      "First key: S4C262502 (of type: <class 'numpy.str_'> )\n",
      "Type of values: <class 'set'>\n",
      "First element of value: S4C262502 of type: <class 'numpy.str_'>\n",
      "Number of bins before splitting and filtering: 48404\n",
      "Number of bins after splitting and filtering: 469\n"
     ]
    }
   ],
   "source": [
    "save_clusters_both(\n",
    "    'latent_trained_semisupervised_mmseq_vamb.npy',\n",
    "    'latent_trained_semisupervised_mmseq_both.npy',\n",
    "    np.array(range(len(indices50_fix_x))),\n",
    "    np.array(indices_mmseq),\n",
    "    'clusters_mmseq.tsv',\n",
    ")"
   ]
  },
  {
   "cell_type": "code",
   "execution_count": 402,
   "id": "fd1ae1db",
   "metadata": {},
   "outputs": [
    {
     "name": "stdout",
     "output_type": "stream",
     "text": [
      "(161719, 32) 161719 (161719,)\n",
      "First key: S4C262502 (of type: <class 'numpy.str_'> )\n",
      "Type of values: <class 'set'>\n",
      "First element of value: S4C262502 of type: <class 'numpy.str_'>\n",
      "Number of bins before splitting and filtering: 54635\n",
      "Number of bins after splitting and filtering: 421\n"
     ]
    }
   ],
   "source": [
    "save_clusters_both(\n",
    "    'latent_trained_semisupervised_mmseq_genus_vamb.npy',\n",
    "    'latent_trained_semisupervised_mmseq_genus_both.npy',\n",
    "    np.array(range(len(indices50_fix_x))),\n",
    "    np.array(indices_mmseq_genus),\n",
    "    'clusters_mmseq_genus.tsv',\n",
    ")"
   ]
  },
  {
   "cell_type": "code",
   "execution_count": 424,
   "id": "55300c5b",
   "metadata": {},
   "outputs": [
    {
     "name": "stdout",
     "output_type": "stream",
     "text": [
      "(93843, 32) 93843 (93843,)\n",
      "First key: S4C613994 (of type: <class 'numpy.str_'> )\n",
      "Type of values: <class 'set'>\n",
      "First element of value: S4C613994 of type: <class 'numpy.str_'>\n",
      "Number of bins before splitting and filtering: 23544\n",
      "Number of bins after splitting and filtering: 825\n"
     ]
    }
   ],
   "source": [
    "save_clusters_both(\n",
    "    'latent_trained_semisupervised_fix_50_vamb.npy',\n",
    "    'latent_trained_semisupervised_fix_50_both.npy',\n",
    "    np.array(indices50_fix_x),\n",
    "    np.array(indices50_fix_sup),\n",
    "    'clusters_mixed50_fix.tsv',\n",
    ")"
   ]
  },
  {
   "cell_type": "code",
   "execution_count": 425,
   "id": "98a2a020",
   "metadata": {},
   "outputs": [
    {
     "name": "stdout",
     "output_type": "stream",
     "text": [
      "(1877, 32) 1877 (1877,)\n",
      "First key: S4C104419 (of type: <class 'numpy.str_'> )\n",
      "Type of values: <class 'set'>\n",
      "First element of value: S7C136486 of type: <class 'numpy.str_'>\n",
      "Number of bins before splitting and filtering: 32756\n",
      "Number of bins after splitting and filtering: 469\n",
      "(18769, 32) 18769 (18769,)\n",
      "First key: S11C7684 (of type: <class 'numpy.str_'> )\n",
      "Type of values: <class 'set'>\n",
      "First element of value: S11C10674 of type: <class 'numpy.str_'>\n",
      "Number of bins before splitting and filtering: 30895\n",
      "Number of bins after splitting and filtering: 573\n",
      "(187685, 32) 187685 (187685,)\n",
      "First key: S27C82303 (of type: <class 'numpy.str_'> )\n",
      "Type of values: <class 'set'>\n",
      "First element of value: S27C251811 of type: <class 'numpy.str_'>\n",
      "Number of bins before splitting and filtering: 2570\n",
      "Number of bins after splitting and filtering: 722\n"
     ]
    }
   ],
   "source": [
    "save_clusters_both(\n",
    "    'latent_trained_semisupervised_fix_1_vamb.npy',\n",
    "    'latent_trained_semisupervised_fix_1_both.npy',\n",
    "    np.array(indices1_fix_x),\n",
    "    np.array(indices1_fix_sup),\n",
    "    'clusters_mixed1_fix.tsv',\n",
    ")\n",
    "\n",
    "save_clusters_both(\n",
    "    'latent_trained_semisupervised_fix_10_vamb.npy',\n",
    "    'latent_trained_semisupervised_fix_10_both.npy',\n",
    "    np.array(indices10_fix_x),\n",
    "    np.array(indices10_fix_sup),\n",
    "    'clusters_mixed10_fix.tsv',\n",
    ")\n",
    "\n",
    "save_clusters_both(\n",
    "    'latent_trained_semisupervised_fix_100_vamb.npy',\n",
    "    'latent_trained_semisupervised_fix_100_both.npy',\n",
    "    np.array(indices100_fix_x),\n",
    "    np.array(indices100_fix_sup),\n",
    "    'clusters_mixed100_fix.tsv',\n",
    ")"
   ]
  },
  {
   "cell_type": "code",
   "execution_count": 176,
   "id": "b7d4e99d",
   "metadata": {},
   "outputs": [],
   "source": [
    "clusters_mmseq = [\n",
    "    'clusters_mmseq.tsv',\n",
    "]\n",
    "clusters_mmseq_genus = [\n",
    "    'clusters_mmseq_genus.tsv',\n",
    "]"
   ]
  },
  {
   "cell_type": "code",
   "execution_count": 38,
   "id": "2274518a",
   "metadata": {},
   "outputs": [],
   "source": [
    "bins_all = [bin_saved_clusters(c) for c in clusters]"
   ]
  },
  {
   "cell_type": "code",
   "execution_count": 53,
   "id": "b79aa2f3",
   "metadata": {},
   "outputs": [],
   "source": [
    "bins_100 = [bin_saved_clusters(c) for c in clusters_100]"
   ]
  },
  {
   "cell_type": "code",
   "execution_count": 61,
   "id": "9904a060",
   "metadata": {},
   "outputs": [],
   "source": [
    "bins_one = [bin_saved_clusters(c) for c in clusters_one]"
   ]
  },
  {
   "cell_type": "code",
   "execution_count": 97,
   "id": "aef2f84c",
   "metadata": {},
   "outputs": [],
   "source": [
    "bins_mixed = [bin_saved_clusters(c) for c in clusters_mixed]"
   ]
  },
  {
   "cell_type": "code",
   "execution_count": 428,
   "id": "3fe40f7f",
   "metadata": {},
   "outputs": [],
   "source": [
    "bins_fix = [bin_saved_clusters(c) for c in clusters_fix]"
   ]
  },
  {
   "cell_type": "code",
   "execution_count": 111,
   "id": "a3a47e79",
   "metadata": {},
   "outputs": [],
   "source": [
    "bins_one_fix = [bin_saved_clusters(c) for c in clusters_one_fix]"
   ]
  },
  {
   "cell_type": "code",
   "execution_count": 426,
   "id": "0d4588b6",
   "metadata": {},
   "outputs": [],
   "source": [
    "bins_genus = [bin_saved_clusters(c) for c in clusters_mixed_genus]"
   ]
  },
  {
   "cell_type": "code",
   "execution_count": 427,
   "id": "a11be84d",
   "metadata": {},
   "outputs": [],
   "source": [
    "bins_species = [bin_saved_clusters(c) for c in clusters_mixed_species]"
   ]
  },
  {
   "cell_type": "code",
   "execution_count": 262,
   "id": "16aab72c",
   "metadata": {},
   "outputs": [],
   "source": [
    "bins_genus_one = [bin_saved_clusters(c) for c in clusters_genus]"
   ]
  },
  {
   "cell_type": "code",
   "execution_count": 345,
   "id": "d3cdca87",
   "metadata": {},
   "outputs": [],
   "source": [
    "bin_test = bin_saved_clusters('clusters.tsv')"
   ]
  },
  {
   "cell_type": "code",
   "execution_count": 259,
   "id": "3dba4ee9",
   "metadata": {},
   "outputs": [],
   "source": [
    "all_clusters = clusters_one_fix + clusters_one + clusters_fix + clusters_mixed_genus\n",
    "all_bins = bins_one_fix + bins_one + bins_fix + bins_genus"
   ]
  },
  {
   "cell_type": "code",
   "execution_count": 260,
   "id": "3325377a",
   "metadata": {},
   "outputs": [
    {
     "data": {
      "image/png": "[encoded data removed]",
      "text/plain": [
       "<Figure size 720x576 with 1 Axes>"
      ]
     },
     "metadata": {
      "needs_background": "light"
     },
     "output_type": "display_data"
    }
   ],
   "source": [
    "for precision in [0.9]:\n",
    "    plt.figure(figsize=(10, 8))\n",
    "    colors = ['#DDDDDD', '#AAAAAA', '#777777', '#444444', '#000000']\n",
    "    recalls = [0.5, 0.6, 0.7, 0.8, 0.9]\n",
    "    for y, bins in zip(range(len(all_clusters)), all_bins):\n",
    "        for color, recall in zip(colors, recalls):\n",
    "            plt.barh(y, bins.counters[0][(recall, precision)], color=color)\n",
    "\n",
    "    plt.title(str(precision), fontsize=18)\n",
    "    plt.yticks(list(range(len(all_clusters))), all_clusters, fontsize=16)\n",
    "    plt.xticks([i*25 for i in range(20)], fontsize=13)\n",
    "    plt.legend([str(i) for i in recalls], bbox_to_anchor=(1, 1.1), title='Recall', fontsize=12)\n",
    "    \n",
    "    if precision == 0.9:\n",
    "        plt.xlabel('# of Genomes Identified', fontsize=16)\n",
    "    plt.gca().set_axisbelow(True)\n",
    "    plt.grid()"
   ]
  },
  {
   "cell_type": "code",
   "execution_count": 137,
   "id": "6b841914",
   "metadata": {},
   "outputs": [],
   "source": [
    "bins_concat, bins_labels, bins_vamb = bins_one\n",
    "sup_levels = [1, 10, 50, 100]\n",
    "bins_vamb_sup = [bins_one_fix[1], bins_one_fix[4], bins_one_fix[7], bins_one_fix[10]]\n",
    "bins_labels_sup = [bins_one_fix[2], bins_one_fix[5], bins_one_fix[8], bins_one_fix[11]]"
   ]
  },
  {
   "cell_type": "code",
   "execution_count": 263,
   "id": "d54aa95a",
   "metadata": {},
   "outputs": [],
   "source": [
    "bins_vamb_genus = [bins_genus_one[1], bins_genus_one[4], bins_genus_one[7], bins_genus_one[10]]\n",
    "bins_labels_genus = [bins_genus_one[2], bins_genus_one[5], bins_genus_one[8], bins_genus_one[11]]"
   ]
  },
  {
   "cell_type": "code",
   "execution_count": 238,
   "id": "c04526b2",
   "metadata": {},
   "outputs": [],
   "source": [
    "bins_mmseq = [bin_saved_clusters(c) for c in clusters_mmseq]\n",
    "bins_mmseq_genus = [bin_saved_clusters(c) for c in clusters_mmseq_genus]"
   ]
  },
  {
   "cell_type": "code",
   "execution_count": 322,
   "id": "095f0d20",
   "metadata": {},
   "outputs": [
    {
     "data": {
      "text/plain": [
       "(269, 356)"
      ]
     },
     "execution_count": 322,
     "metadata": {},
     "output_type": "execute_result"
    }
   ],
   "source": [
    "bins_concat.counters[0][(rec, prec)], bins_labels.counters[0][(rec, prec)]"
   ]
  },
  {
   "cell_type": "code",
   "execution_count": 370,
   "id": "95115556",
   "metadata": {},
   "outputs": [
    {
     "data": {
      "image/png": "[encoded data removed]",
      "text/plain": [
       "<Figure size 864x720 with 1 Axes>"
      ]
     },
     "metadata": {
      "needs_background": "light"
     },
     "output_type": "display_data"
    }
   ],
   "source": [
    "import matplotlib\n",
    "matplotlib.rcParams.update({'font.size': 18})\n",
    "plt.figure(figsize=(12, 10))\n",
    "rec, prec = 0.9, 0.95\n",
    "\n",
    "plt.axhline(y=vamb_bins_batch.counters[0][(rec, prec)], color='red', label='TEST')\n",
    "plt.text(87 + 1, vamb_bins_batch.counters[0][(rec, prec)] + 1, f'{bin_test.counters[0][(rec, prec)]} strains')\n",
    "\n",
    "plt.axhline(y=bins_labels.counters[0][(rec, prec)], color='navy', label='Strains')\n",
    "plt.text(87 + 1, 356 + 1, f'{bins_labels.counters[0][(rec, prec)]} strains')\n",
    "plt.axhline(y=bins_concat.counters[0][(rec, prec)], color='purple', label='Vamb+Strains')\n",
    "plt.text(87 + 1, 269 + 1, f'{bins_concat.counters[0][(rec, prec)]} strains')\n",
    "plt.axhline(y=bins_vamb.counters[0][(rec, prec)], color='crimson', label='Vamb')\n",
    "plt.text(87 + 1, 57 + 1, f'{bins_vamb.counters[0][(rec, prec)]} strains')\n",
    "\n",
    "plt.plot(sup_levels, [b.counters[0][(rec, prec)] for b in bins_fix], 'o--', label='Semisupervised, ground truth Vamb+Strains')\n",
    "# plt.plot(sup_levels, [b.counters[0][(rec, prec)] for b in bins_vamb_sup], 'o--', label='Semisupervised, input Vamb')\n",
    "# plt.plot(sup_levels, [b.counters[0][(rec, prec)] for b in bins_labels_sup], 'o--', label='Semisupervised, input Labels')\n",
    "\n",
    "plt.plot(sup_levels, [b.counters[0][(rec, prec)] for b in bins_genus], 'o--', label='Semisupervised, ground truth Vamb+Genus')\n",
    "plt.plot(sup_levels, [b.counters[0][(rec, prec)] for b in bins_species], 'o--', label='Semisupervised, ground truth Vamb+Species')\n",
    "\n",
    "plt.scatter([64054.0*100 / 187685], [b.counters[0][(rec, prec)] for b in bins_mmseq], \n",
    "            s=[200], marker='X', label='mmseq_species', color='darkgreen')\n",
    "a = bins_mmseq[0].counters[0][(rec, prec)]\n",
    "plt.text(64054.0*100 / 187685 + 1, a + 1, f'{a} strains')\n",
    "\n",
    "plt.scatter([161719.0*100 / 187685], [b.counters[0][(rec, prec)] for b in bins_mmseq_genus], \n",
    "            s=[200], marker='X', label='mmseq_genus', color='purple')\n",
    "a = bins_mmseq_genus[0].counters[0][(rec, prec)]\n",
    "plt.text(161719.0*100 / 187685 + 1, a + 1, f'{a} strains')\n",
    "\n",
    "\n",
    "\n",
    "\n",
    "plt.ylim((0, 370))\n",
    "# plt.xlim((0, 60))\n",
    "plt.ylabel('# of NC strains (recall > 0.9, precision > 0.95)')\n",
    "plt.xlabel('Supervision level, %')\n",
    "plt.legend()\n",
    "plt.savefig('/Users/nmb127/Downloads/mmseq_all.png')\n",
    "plt.show()\n"
   ]
  },
  {
   "cell_type": "code",
   "execution_count": 191,
   "id": "dbb48d50",
   "metadata": {},
   "outputs": [
    {
     "data": {
      "text/plain": [
       "57"
      ]
     },
     "execution_count": 191,
     "metadata": {},
     "output_type": "execute_result"
    }
   ],
   "source": [
    "bins_vamb.counters[0][(rec, prec)]"
   ]
  },
  {
   "cell_type": "code",
   "execution_count": 277,
   "id": "45dc0d9e",
   "metadata": {},
   "outputs": [
    {
     "data": {
      "text/plain": [
       "89"
      ]
     },
     "execution_count": 277,
     "metadata": {},
     "output_type": "execute_result"
    }
   ],
   "source": [
    "bins_mmseq_genus[0].counters[0][(rec, prec)]"
   ]
  },
  {
   "cell_type": "code",
   "execution_count": 339,
   "id": "d4a94a82",
   "metadata": {},
   "outputs": [
    {
     "data": {
      "text/plain": [
       "(1.1428571428571428, 1.5178571428571428, 34.128459919546046, 86.16511708447665)"
      ]
     },
     "execution_count": 339,
     "metadata": {},
     "output_type": "execute_result"
    }
   ],
   "source": [
    "64.0 / 56.0, 85.0 / 56, 64054.0*100 / 187685, 161719.0*100 / 187685"
   ]
  },
  {
   "cell_type": "markdown",
   "id": "5f5e5e03",
   "metadata": {},
   "source": [
    "## mmseq2 experiment"
   ]
  },
  {
   "cell_type": "code",
   "execution_count": 143,
   "id": "098bf646",
   "metadata": {},
   "outputs": [],
   "source": [
    "df_mmseq = pd.read_csv(f'{PATH_VAMB}/airways_taxonomy_clean_new.tsv', delimiter='\\t', header=None)"
   ]
  },
  {
   "cell_type": "code",
   "execution_count": 145,
   "id": "a441360e",
   "metadata": {},
   "outputs": [
    {
     "data": {
      "text/plain": [
       "array(['genus', 'species', 'family', 'class', 'superkingdom', 'order',\n",
       "       'phylum', 'no rank'], dtype=object)"
      ]
     },
     "execution_count": 145,
     "metadata": {},
     "output_type": "execute_result"
    }
   ],
   "source": [
    "df_mmseq[2].unique()"
   ]
  },
  {
   "cell_type": "code",
   "execution_count": 147,
   "id": "d83f95cc",
   "metadata": {},
   "outputs": [],
   "source": [
    "df_mmseq_species = df_mmseq[df_mmseq[2] == 'species']"
   ]
  },
  {
   "cell_type": "code",
   "execution_count": 149,
   "id": "732a75d1",
   "metadata": {},
   "outputs": [
    {
     "data": {
      "text/plain": [
       "727"
      ]
     },
     "execution_count": 149,
     "metadata": {},
     "output_type": "execute_result"
    }
   ],
   "source": [
    "len(df_mmseq_species[3].unique())"
   ]
  },
  {
   "cell_type": "code",
   "execution_count": 159,
   "id": "c66cc9d6",
   "metadata": {},
   "outputs": [],
   "source": [
    "contigs = np.array(CONTIGNAMES)\n",
    "indices_mmseq = [np.argwhere(contigs == c)[0][0] for c in df_mmseq_species[0]]"
   ]
  },
  {
   "cell_type": "code",
   "execution_count": 163,
   "id": "264976da",
   "metadata": {},
   "outputs": [
    {
     "data": {
      "text/plain": [
       "2                      Staphylococcus aureus\n",
       "3         Corynebacterium pseudotuberculosis\n",
       "4                      Staphylococcus aureus\n",
       "5                        Bacillus velezensis\n",
       "6                      Staphylococcus aureus\n",
       "                         ...                \n",
       "187593                 Corynebacterium casei\n",
       "187594    Corynebacterium pseudotuberculosis\n",
       "187595            Corynebacterium glutamicum\n",
       "187601                  Sphingomonas panacis\n",
       "187603                 Staphylococcus aureus\n",
       "Name: 3, Length: 64054, dtype: object"
      ]
     },
     "execution_count": 163,
     "metadata": {},
     "output_type": "execute_result"
    }
   ],
   "source": [
    "df_mmseq_species[3]"
   ]
  },
  {
   "cell_type": "code",
   "execution_count": 161,
   "id": "b25650b5",
   "metadata": {},
   "outputs": [
    {
     "data": {
      "text/plain": [
       "array(['S7C321733', 'S7C322592', 'S7C323616', ..., 'S27C165633',\n",
       "       'S11C16500', 'S11C16707'], dtype='<U10')"
      ]
     },
     "execution_count": 161,
     "metadata": {},
     "output_type": "execute_result"
    }
   ],
   "source": [
    "contigs[indices_mmseq]"
   ]
  },
  {
   "cell_type": "code",
   "execution_count": 166,
   "id": "9929720c",
   "metadata": {},
   "outputs": [
    {
     "data": {
      "text/html": [
       "<div>\n",
       "<style scoped>\n",
       "    .dataframe tbody tr th:only-of-type {\n",
       "        vertical-align: middle;\n",
       "    }\n",
       "\n",
       "    .dataframe tbody tr th {\n",
       "        vertical-align: top;\n",
       "    }\n",
       "\n",
       "    .dataframe thead th {\n",
       "        text-align: right;\n",
       "    }\n",
       "</style>\n",
       "<table border=\"1\" class=\"dataframe\">\n",
       "  <thead>\n",
       "    <tr style=\"text-align: right;\">\n",
       "      <th></th>\n",
       "      <th>0</th>\n",
       "      <th>1</th>\n",
       "      <th>2</th>\n",
       "      <th>3</th>\n",
       "      <th>4</th>\n",
       "      <th>5</th>\n",
       "      <th>6</th>\n",
       "      <th>7</th>\n",
       "      <th>8</th>\n",
       "    </tr>\n",
       "  </thead>\n",
       "  <tbody>\n",
       "    <tr>\n",
       "      <th>0</th>\n",
       "      <td>S7C319745</td>\n",
       "      <td>13420</td>\n",
       "      <td>genus</td>\n",
       "      <td>Pedobacter heparinus</td>\n",
       "      <td>12</td>\n",
       "      <td>11</td>\n",
       "      <td>5</td>\n",
       "      <td>0.61</td>\n",
       "      <td>d_Bacteria;p_Bacteroidota;c_Bacteroidia;o_Sphi...</td>\n",
       "    </tr>\n",
       "    <tr>\n",
       "      <th>1</th>\n",
       "      <td>S7C320794</td>\n",
       "      <td>35</td>\n",
       "      <td>genus</td>\n",
       "      <td>Acinetobacter baumannii</td>\n",
       "      <td>34</td>\n",
       "      <td>29</td>\n",
       "      <td>19</td>\n",
       "      <td>0.78</td>\n",
       "      <td>d_Bacteria;p_Proteobacteria;c_Gammaproteobacte...</td>\n",
       "    </tr>\n",
       "    <tr>\n",
       "      <th>2</th>\n",
       "      <td>S7C321733</td>\n",
       "      <td>14</td>\n",
       "      <td>species</td>\n",
       "      <td>Staphylococcus aureus</td>\n",
       "      <td>4</td>\n",
       "      <td>4</td>\n",
       "      <td>3</td>\n",
       "      <td>0.98</td>\n",
       "      <td>d_Bacteria;p_Firmicutes;c_Bacilli;o_Staphyloco...</td>\n",
       "    </tr>\n",
       "    <tr>\n",
       "      <th>3</th>\n",
       "      <td>S7C322592</td>\n",
       "      <td>271</td>\n",
       "      <td>species</td>\n",
       "      <td>Corynebacterium pseudotuberculosis</td>\n",
       "      <td>3</td>\n",
       "      <td>2</td>\n",
       "      <td>2</td>\n",
       "      <td>1.00</td>\n",
       "      <td>d_Bacteria;p_Actinobacteriota;c_Actinomycetia;...</td>\n",
       "    </tr>\n",
       "    <tr>\n",
       "      <th>4</th>\n",
       "      <td>S7C323616</td>\n",
       "      <td>14</td>\n",
       "      <td>species</td>\n",
       "      <td>Staphylococcus aureus</td>\n",
       "      <td>5</td>\n",
       "      <td>4</td>\n",
       "      <td>4</td>\n",
       "      <td>1.00</td>\n",
       "      <td>d_Bacteria;p_Firmicutes;c_Bacilli;o_Staphyloco...</td>\n",
       "    </tr>\n",
       "    <tr>\n",
       "      <th>...</th>\n",
       "      <td>...</td>\n",
       "      <td>...</td>\n",
       "      <td>...</td>\n",
       "      <td>...</td>\n",
       "      <td>...</td>\n",
       "      <td>...</td>\n",
       "      <td>...</td>\n",
       "      <td>...</td>\n",
       "      <td>...</td>\n",
       "    </tr>\n",
       "    <tr>\n",
       "      <th>187601</th>\n",
       "      <td>S11C16500</td>\n",
       "      <td>30360</td>\n",
       "      <td>species</td>\n",
       "      <td>Sphingomonas panacis</td>\n",
       "      <td>16</td>\n",
       "      <td>15</td>\n",
       "      <td>14</td>\n",
       "      <td>0.99</td>\n",
       "      <td>d_Bacteria;p_Proteobacteria;c_Alphaproteobacte...</td>\n",
       "    </tr>\n",
       "    <tr>\n",
       "      <th>187602</th>\n",
       "      <td>S11C16616</td>\n",
       "      <td>271</td>\n",
       "      <td>genus</td>\n",
       "      <td>Corynebacterium pseudotuberculosis</td>\n",
       "      <td>7</td>\n",
       "      <td>6</td>\n",
       "      <td>3</td>\n",
       "      <td>0.50</td>\n",
       "      <td>d_Bacteria;p_Actinobacteriota;c_Actinomycetia;...</td>\n",
       "    </tr>\n",
       "    <tr>\n",
       "      <th>187603</th>\n",
       "      <td>S11C16707</td>\n",
       "      <td>14</td>\n",
       "      <td>species</td>\n",
       "      <td>Staphylococcus aureus</td>\n",
       "      <td>12</td>\n",
       "      <td>12</td>\n",
       "      <td>12</td>\n",
       "      <td>1.00</td>\n",
       "      <td>d_Bacteria;p_Firmicutes;c_Bacilli;o_Staphyloco...</td>\n",
       "    </tr>\n",
       "    <tr>\n",
       "      <th>187604</th>\n",
       "      <td>S11C16787</td>\n",
       "      <td>13</td>\n",
       "      <td>genus</td>\n",
       "      <td>Staphylococcus</td>\n",
       "      <td>5</td>\n",
       "      <td>4</td>\n",
       "      <td>4</td>\n",
       "      <td>1.00</td>\n",
       "      <td>d_Bacteria;p_Firmicutes;c_Bacilli;o_Staphyloco...</td>\n",
       "    </tr>\n",
       "    <tr>\n",
       "      <th>187605</th>\n",
       "      <td>S11C16894</td>\n",
       "      <td>30360</td>\n",
       "      <td>genus</td>\n",
       "      <td>Sphingomonas panacis</td>\n",
       "      <td>9</td>\n",
       "      <td>7</td>\n",
       "      <td>6</td>\n",
       "      <td>0.86</td>\n",
       "      <td>d_Bacteria;p_Proteobacteria;c_Alphaproteobacte...</td>\n",
       "    </tr>\n",
       "  </tbody>\n",
       "</table>\n",
       "<p>187606 rows × 9 columns</p>\n",
       "</div>"
      ],
      "text/plain": [
       "                0      1        2                                   3   4   5  \\\n",
       "0       S7C319745  13420    genus                Pedobacter heparinus  12  11   \n",
       "1       S7C320794     35    genus             Acinetobacter baumannii  34  29   \n",
       "2       S7C321733     14  species               Staphylococcus aureus   4   4   \n",
       "3       S7C322592    271  species  Corynebacterium pseudotuberculosis   3   2   \n",
       "4       S7C323616     14  species               Staphylococcus aureus   5   4   \n",
       "...           ...    ...      ...                                 ...  ..  ..   \n",
       "187601  S11C16500  30360  species                Sphingomonas panacis  16  15   \n",
       "187602  S11C16616    271    genus  Corynebacterium pseudotuberculosis   7   6   \n",
       "187603  S11C16707     14  species               Staphylococcus aureus  12  12   \n",
       "187604  S11C16787     13    genus                      Staphylococcus   5   4   \n",
       "187605  S11C16894  30360    genus                Sphingomonas panacis   9   7   \n",
       "\n",
       "         6     7                                                  8  \n",
       "0        5  0.61  d_Bacteria;p_Bacteroidota;c_Bacteroidia;o_Sphi...  \n",
       "1       19  0.78  d_Bacteria;p_Proteobacteria;c_Gammaproteobacte...  \n",
       "2        3  0.98  d_Bacteria;p_Firmicutes;c_Bacilli;o_Staphyloco...  \n",
       "3        2  1.00  d_Bacteria;p_Actinobacteriota;c_Actinomycetia;...  \n",
       "4        4  1.00  d_Bacteria;p_Firmicutes;c_Bacilli;o_Staphyloco...  \n",
       "...     ..   ...                                                ...  \n",
       "187601  14  0.99  d_Bacteria;p_Proteobacteria;c_Alphaproteobacte...  \n",
       "187602   3  0.50  d_Bacteria;p_Actinobacteriota;c_Actinomycetia;...  \n",
       "187603  12  1.00  d_Bacteria;p_Firmicutes;c_Bacilli;o_Staphyloco...  \n",
       "187604   4  1.00  d_Bacteria;p_Firmicutes;c_Bacilli;o_Staphyloco...  \n",
       "187605   6  0.86  d_Bacteria;p_Proteobacteria;c_Alphaproteobacte...  \n",
       "\n",
       "[187606 rows x 9 columns]"
      ]
     },
     "execution_count": 166,
     "metadata": {},
     "output_type": "execute_result"
    }
   ],
   "source": [
    "df_mmseq"
   ]
  },
  {
   "cell_type": "code",
   "execution_count": 193,
   "id": "b50f7d30",
   "metadata": {},
   "outputs": [],
   "source": [
    "df_mmseq_genus = df_mmseq[(df_mmseq[2] == 'genus') | (df_mmseq[2] == 'species')]"
   ]
  },
  {
   "cell_type": "code",
   "execution_count": 194,
   "id": "9f8637fd",
   "metadata": {},
   "outputs": [
    {
     "data": {
      "text/html": [
       "<div>\n",
       "<style scoped>\n",
       "    .dataframe tbody tr th:only-of-type {\n",
       "        vertical-align: middle;\n",
       "    }\n",
       "\n",
       "    .dataframe tbody tr th {\n",
       "        vertical-align: top;\n",
       "    }\n",
       "\n",
       "    .dataframe thead th {\n",
       "        text-align: right;\n",
       "    }\n",
       "</style>\n",
       "<table border=\"1\" class=\"dataframe\">\n",
       "  <thead>\n",
       "    <tr style=\"text-align: right;\">\n",
       "      <th></th>\n",
       "      <th>0</th>\n",
       "      <th>1</th>\n",
       "      <th>2</th>\n",
       "      <th>3</th>\n",
       "      <th>4</th>\n",
       "      <th>5</th>\n",
       "      <th>6</th>\n",
       "      <th>7</th>\n",
       "      <th>8</th>\n",
       "    </tr>\n",
       "  </thead>\n",
       "  <tbody>\n",
       "    <tr>\n",
       "      <th>0</th>\n",
       "      <td>S7C319745</td>\n",
       "      <td>13420</td>\n",
       "      <td>genus</td>\n",
       "      <td>Pedobacter heparinus</td>\n",
       "      <td>12</td>\n",
       "      <td>11</td>\n",
       "      <td>5</td>\n",
       "      <td>0.61</td>\n",
       "      <td>d_Bacteria;p_Bacteroidota;c_Bacteroidia;o_Sphi...</td>\n",
       "    </tr>\n",
       "    <tr>\n",
       "      <th>1</th>\n",
       "      <td>S7C320794</td>\n",
       "      <td>35</td>\n",
       "      <td>genus</td>\n",
       "      <td>Acinetobacter baumannii</td>\n",
       "      <td>34</td>\n",
       "      <td>29</td>\n",
       "      <td>19</td>\n",
       "      <td>0.78</td>\n",
       "      <td>d_Bacteria;p_Proteobacteria;c_Gammaproteobacte...</td>\n",
       "    </tr>\n",
       "    <tr>\n",
       "      <th>2</th>\n",
       "      <td>S7C321733</td>\n",
       "      <td>14</td>\n",
       "      <td>species</td>\n",
       "      <td>Staphylococcus aureus</td>\n",
       "      <td>4</td>\n",
       "      <td>4</td>\n",
       "      <td>3</td>\n",
       "      <td>0.98</td>\n",
       "      <td>d_Bacteria;p_Firmicutes;c_Bacilli;o_Staphyloco...</td>\n",
       "    </tr>\n",
       "    <tr>\n",
       "      <th>3</th>\n",
       "      <td>S7C322592</td>\n",
       "      <td>271</td>\n",
       "      <td>species</td>\n",
       "      <td>Corynebacterium pseudotuberculosis</td>\n",
       "      <td>3</td>\n",
       "      <td>2</td>\n",
       "      <td>2</td>\n",
       "      <td>1.00</td>\n",
       "      <td>d_Bacteria;p_Actinobacteriota;c_Actinomycetia;...</td>\n",
       "    </tr>\n",
       "    <tr>\n",
       "      <th>4</th>\n",
       "      <td>S7C323616</td>\n",
       "      <td>14</td>\n",
       "      <td>species</td>\n",
       "      <td>Staphylococcus aureus</td>\n",
       "      <td>5</td>\n",
       "      <td>4</td>\n",
       "      <td>4</td>\n",
       "      <td>1.00</td>\n",
       "      <td>d_Bacteria;p_Firmicutes;c_Bacilli;o_Staphyloco...</td>\n",
       "    </tr>\n",
       "    <tr>\n",
       "      <th>...</th>\n",
       "      <td>...</td>\n",
       "      <td>...</td>\n",
       "      <td>...</td>\n",
       "      <td>...</td>\n",
       "      <td>...</td>\n",
       "      <td>...</td>\n",
       "      <td>...</td>\n",
       "      <td>...</td>\n",
       "      <td>...</td>\n",
       "    </tr>\n",
       "    <tr>\n",
       "      <th>187601</th>\n",
       "      <td>S11C16500</td>\n",
       "      <td>30360</td>\n",
       "      <td>species</td>\n",
       "      <td>Sphingomonas panacis</td>\n",
       "      <td>16</td>\n",
       "      <td>15</td>\n",
       "      <td>14</td>\n",
       "      <td>0.99</td>\n",
       "      <td>d_Bacteria;p_Proteobacteria;c_Alphaproteobacte...</td>\n",
       "    </tr>\n",
       "    <tr>\n",
       "      <th>187602</th>\n",
       "      <td>S11C16616</td>\n",
       "      <td>271</td>\n",
       "      <td>genus</td>\n",
       "      <td>Corynebacterium pseudotuberculosis</td>\n",
       "      <td>7</td>\n",
       "      <td>6</td>\n",
       "      <td>3</td>\n",
       "      <td>0.50</td>\n",
       "      <td>d_Bacteria;p_Actinobacteriota;c_Actinomycetia;...</td>\n",
       "    </tr>\n",
       "    <tr>\n",
       "      <th>187603</th>\n",
       "      <td>S11C16707</td>\n",
       "      <td>14</td>\n",
       "      <td>species</td>\n",
       "      <td>Staphylococcus aureus</td>\n",
       "      <td>12</td>\n",
       "      <td>12</td>\n",
       "      <td>12</td>\n",
       "      <td>1.00</td>\n",
       "      <td>d_Bacteria;p_Firmicutes;c_Bacilli;o_Staphyloco...</td>\n",
       "    </tr>\n",
       "    <tr>\n",
       "      <th>187604</th>\n",
       "      <td>S11C16787</td>\n",
       "      <td>13</td>\n",
       "      <td>genus</td>\n",
       "      <td>Staphylococcus</td>\n",
       "      <td>5</td>\n",
       "      <td>4</td>\n",
       "      <td>4</td>\n",
       "      <td>1.00</td>\n",
       "      <td>d_Bacteria;p_Firmicutes;c_Bacilli;o_Staphyloco...</td>\n",
       "    </tr>\n",
       "    <tr>\n",
       "      <th>187605</th>\n",
       "      <td>S11C16894</td>\n",
       "      <td>30360</td>\n",
       "      <td>genus</td>\n",
       "      <td>Sphingomonas panacis</td>\n",
       "      <td>9</td>\n",
       "      <td>7</td>\n",
       "      <td>6</td>\n",
       "      <td>0.86</td>\n",
       "      <td>d_Bacteria;p_Proteobacteria;c_Alphaproteobacte...</td>\n",
       "    </tr>\n",
       "  </tbody>\n",
       "</table>\n",
       "<p>161719 rows × 9 columns</p>\n",
       "</div>"
      ],
      "text/plain": [
       "                0      1        2                                   3   4   5  \\\n",
       "0       S7C319745  13420    genus                Pedobacter heparinus  12  11   \n",
       "1       S7C320794     35    genus             Acinetobacter baumannii  34  29   \n",
       "2       S7C321733     14  species               Staphylococcus aureus   4   4   \n",
       "3       S7C322592    271  species  Corynebacterium pseudotuberculosis   3   2   \n",
       "4       S7C323616     14  species               Staphylococcus aureus   5   4   \n",
       "...           ...    ...      ...                                 ...  ..  ..   \n",
       "187601  S11C16500  30360  species                Sphingomonas panacis  16  15   \n",
       "187602  S11C16616    271    genus  Corynebacterium pseudotuberculosis   7   6   \n",
       "187603  S11C16707     14  species               Staphylococcus aureus  12  12   \n",
       "187604  S11C16787     13    genus                      Staphylococcus   5   4   \n",
       "187605  S11C16894  30360    genus                Sphingomonas panacis   9   7   \n",
       "\n",
       "         6     7                                                  8  \n",
       "0        5  0.61  d_Bacteria;p_Bacteroidota;c_Bacteroidia;o_Sphi...  \n",
       "1       19  0.78  d_Bacteria;p_Proteobacteria;c_Gammaproteobacte...  \n",
       "2        3  0.98  d_Bacteria;p_Firmicutes;c_Bacilli;o_Staphyloco...  \n",
       "3        2  1.00  d_Bacteria;p_Actinobacteriota;c_Actinomycetia;...  \n",
       "4        4  1.00  d_Bacteria;p_Firmicutes;c_Bacilli;o_Staphyloco...  \n",
       "...     ..   ...                                                ...  \n",
       "187601  14  0.99  d_Bacteria;p_Proteobacteria;c_Alphaproteobacte...  \n",
       "187602   3  0.50  d_Bacteria;p_Actinobacteriota;c_Actinomycetia;...  \n",
       "187603  12  1.00  d_Bacteria;p_Firmicutes;c_Bacilli;o_Staphyloco...  \n",
       "187604   4  1.00  d_Bacteria;p_Firmicutes;c_Bacilli;o_Staphyloco...  \n",
       "187605   6  0.86  d_Bacteria;p_Proteobacteria;c_Alphaproteobacte...  \n",
       "\n",
       "[161719 rows x 9 columns]"
      ]
     },
     "execution_count": 194,
     "metadata": {},
     "output_type": "execute_result"
    }
   ],
   "source": [
    "df_mmseq_genus"
   ]
  },
  {
   "cell_type": "code",
   "execution_count": 206,
   "id": "5144b6a0",
   "metadata": {},
   "outputs": [
    {
     "name": "stderr",
     "output_type": "stream",
     "text": [
      "/var/folders/5b/1dk8bnws25l6w502hfdc8xw80000gn/T/ipykernel_12840/1367947976.py:1: SettingWithCopyWarning: \n",
      "A value is trying to be set on a copy of a slice from a DataFrame.\n",
      "Try using .loc[row_indexer,col_indexer] = value instead\n",
      "\n",
      "See the caveats in the documentation: https://pandas.pydata.org/pandas-docs/stable/user_guide/indexing.html#returning-a-view-versus-a-copy\n",
      "  df_mmseq_genus['genus'] = df_mmseq_genus[8].str.split(';').str[5]\n"
     ]
    }
   ],
   "source": [
    "df_mmseq_genus['genus'] = df_mmseq_genus[8].str.split(';').str[5]"
   ]
  },
  {
   "cell_type": "code",
   "execution_count": 208,
   "id": "a6bf242a",
   "metadata": {},
   "outputs": [
    {
     "data": {
      "text/plain": [
       "500"
      ]
     },
     "execution_count": 208,
     "metadata": {},
     "output_type": "execute_result"
    }
   ],
   "source": [
    "len(df_mmseq_genus['genus'].unique())"
   ]
  },
  {
   "cell_type": "code",
   "execution_count": 213,
   "id": "b7a2574c",
   "metadata": {},
   "outputs": [],
   "source": [
    "df_tax = pd.read_csv(taxonomy_path, delimiter='\\t', header=None)\n",
    "df_ref = pd.read_csv(reference_path, delimiter='\\t', header=None)"
   ]
  },
  {
   "cell_type": "code",
   "execution_count": 228,
   "id": "9c836aa5",
   "metadata": {},
   "outputs": [],
   "source": [
    "genus_dict = {r[0]: r[2] for _, r in df_tax.iterrows()}\n",
    "species_dict = {r[0]: r[1] for _, r in df_tax.iterrows()}"
   ]
  },
  {
   "cell_type": "code",
   "execution_count": 229,
   "id": "81e7dd04",
   "metadata": {},
   "outputs": [],
   "source": [
    "df_ref['genus'] = df_ref[1].map(genus_dict)\n",
    "df_ref['species'] = df_ref[1].map(species_dict)"
   ]
  },
  {
   "cell_type": "code",
   "execution_count": 230,
   "id": "7297deaf",
   "metadata": {},
   "outputs": [
    {
     "data": {
      "text/plain": [
       "(828, 828)"
      ]
     },
     "execution_count": 230,
     "metadata": {},
     "output_type": "execute_result"
    }
   ],
   "source": [
    "len(genus_dict), len(species_dict)"
   ]
  },
  {
   "cell_type": "code",
   "execution_count": 231,
   "id": "f1531b86",
   "metadata": {},
   "outputs": [
    {
     "data": {
      "text/plain": [
       "Staphylococcus aureus                 41754\n",
       "Corynebacterium pseudotuberculosis    13779\n",
       "Escherichia coli                       6254\n",
       "Corynebacterium glutamicum             5294\n",
       "Neisseria meningitidis                 4922\n",
       "                                      ...  \n",
       "Streptococcus pantholopis                 1\n",
       "Aerococcus urinaehominis                  1\n",
       "Brevibacterium linens                     1\n",
       "Corynebacterium doosanense                1\n",
       "Paucibacter sp. KCTC 42545                1\n",
       "Name: species, Length: 266, dtype: int64"
      ]
     },
     "execution_count": 231,
     "metadata": {},
     "output_type": "execute_result"
    }
   ],
   "source": [
    "df_ref.species.value_counts(dropna=False)"
   ]
  },
  {
   "cell_type": "code",
   "execution_count": 232,
   "id": "63c79fdb",
   "metadata": {},
   "outputs": [
    {
     "data": {
      "text/html": [
       "<div>\n",
       "<style scoped>\n",
       "    .dataframe tbody tr th:only-of-type {\n",
       "        vertical-align: middle;\n",
       "    }\n",
       "\n",
       "    .dataframe tbody tr th {\n",
       "        vertical-align: top;\n",
       "    }\n",
       "\n",
       "    .dataframe thead th {\n",
       "        text-align: right;\n",
       "    }\n",
       "</style>\n",
       "<table border=\"1\" class=\"dataframe\">\n",
       "  <thead>\n",
       "    <tr style=\"text-align: right;\">\n",
       "      <th></th>\n",
       "      <th>0</th>\n",
       "      <th>1</th>\n",
       "      <th>2</th>\n",
       "      <th>3</th>\n",
       "      <th>4</th>\n",
       "      <th>genus</th>\n",
       "      <th>species</th>\n",
       "    </tr>\n",
       "  </thead>\n",
       "  <tbody>\n",
       "    <tr>\n",
       "      <th>0</th>\n",
       "      <td>S23C236194</td>\n",
       "      <td>OTU_97.38699.0</td>\n",
       "      <td>CP013953.1</td>\n",
       "      <td>405835</td>\n",
       "      <td>408637</td>\n",
       "      <td>Staphylococcus</td>\n",
       "      <td>Staphylococcus aureus</td>\n",
       "    </tr>\n",
       "    <tr>\n",
       "      <th>1</th>\n",
       "      <td>S23C27593</td>\n",
       "      <td>OTU_97.44406.0</td>\n",
       "      <td>CP015430.1</td>\n",
       "      <td>1591817</td>\n",
       "      <td>1594726</td>\n",
       "      <td>Haemophilus</td>\n",
       "      <td>[Haemophilus] ducreyi</td>\n",
       "    </tr>\n",
       "    <tr>\n",
       "      <th>2</th>\n",
       "      <td>S23C53437</td>\n",
       "      <td>OTU_97.35057.0</td>\n",
       "      <td>CP012974.1</td>\n",
       "      <td>260542</td>\n",
       "      <td>266700</td>\n",
       "      <td>Staphylococcus</td>\n",
       "      <td>Staphylococcus aureus</td>\n",
       "    </tr>\n",
       "    <tr>\n",
       "      <th>3</th>\n",
       "      <td>S23C191539</td>\n",
       "      <td>OTU_97.16597.0</td>\n",
       "      <td>CP010116.1</td>\n",
       "      <td>1675948</td>\n",
       "      <td>1678686</td>\n",
       "      <td>Escherichia</td>\n",
       "      <td>Escherichia coli</td>\n",
       "    </tr>\n",
       "    <tr>\n",
       "      <th>4</th>\n",
       "      <td>S23C111210</td>\n",
       "      <td>OTU_97.20680.0</td>\n",
       "      <td>CP013619.1</td>\n",
       "      <td>408162</td>\n",
       "      <td>411064</td>\n",
       "      <td>Staphylococcus</td>\n",
       "      <td>Staphylococcus aureus</td>\n",
       "    </tr>\n",
       "    <tr>\n",
       "      <th>...</th>\n",
       "      <td>...</td>\n",
       "      <td>...</td>\n",
       "      <td>...</td>\n",
       "      <td>...</td>\n",
       "      <td>...</td>\n",
       "      <td>...</td>\n",
       "      <td>...</td>\n",
       "    </tr>\n",
       "    <tr>\n",
       "      <th>187680</th>\n",
       "      <td>S10C452544</td>\n",
       "      <td>OTU_97.11086.0</td>\n",
       "      <td>CP015831.1</td>\n",
       "      <td>849612</td>\n",
       "      <td>854660</td>\n",
       "      <td>Escherichia</td>\n",
       "      <td>Escherichia coli</td>\n",
       "    </tr>\n",
       "    <tr>\n",
       "      <th>187681</th>\n",
       "      <td>S10C406459</td>\n",
       "      <td>OTU_97.36530.0</td>\n",
       "      <td>CP012013.1</td>\n",
       "      <td>2217103</td>\n",
       "      <td>2221049</td>\n",
       "      <td>Staphylococcus</td>\n",
       "      <td>Staphylococcus aureus</td>\n",
       "    </tr>\n",
       "    <tr>\n",
       "      <th>187682</th>\n",
       "      <td>S10C287317</td>\n",
       "      <td>OTU_97.34832.0</td>\n",
       "      <td>CP001781.1</td>\n",
       "      <td>959338</td>\n",
       "      <td>962517</td>\n",
       "      <td>Staphylococcus</td>\n",
       "      <td>Staphylococcus aureus</td>\n",
       "    </tr>\n",
       "    <tr>\n",
       "      <th>187683</th>\n",
       "      <td>S10C136350</td>\n",
       "      <td>OTU_97.35501.0</td>\n",
       "      <td>CP014022.1</td>\n",
       "      <td>2434269</td>\n",
       "      <td>2437523</td>\n",
       "      <td>Staphylococcus</td>\n",
       "      <td>Staphylococcus lugdunensis</td>\n",
       "    </tr>\n",
       "    <tr>\n",
       "      <th>187684</th>\n",
       "      <td>S10C130803</td>\n",
       "      <td>OTU_97.24948.0</td>\n",
       "      <td>CP011311.1</td>\n",
       "      <td>1505893</td>\n",
       "      <td>1514425</td>\n",
       "      <td>Corynebacterium</td>\n",
       "      <td>Corynebacterium camporealensis</td>\n",
       "    </tr>\n",
       "  </tbody>\n",
       "</table>\n",
       "<p>187685 rows × 7 columns</p>\n",
       "</div>"
      ],
      "text/plain": [
       "                 0               1           2        3        4  \\\n",
       "0       S23C236194  OTU_97.38699.0  CP013953.1   405835   408637   \n",
       "1        S23C27593  OTU_97.44406.0  CP015430.1  1591817  1594726   \n",
       "2        S23C53437  OTU_97.35057.0  CP012974.1   260542   266700   \n",
       "3       S23C191539  OTU_97.16597.0  CP010116.1  1675948  1678686   \n",
       "4       S23C111210  OTU_97.20680.0  CP013619.1   408162   411064   \n",
       "...            ...             ...         ...      ...      ...   \n",
       "187680  S10C452544  OTU_97.11086.0  CP015831.1   849612   854660   \n",
       "187681  S10C406459  OTU_97.36530.0  CP012013.1  2217103  2221049   \n",
       "187682  S10C287317  OTU_97.34832.0  CP001781.1   959338   962517   \n",
       "187683  S10C136350  OTU_97.35501.0  CP014022.1  2434269  2437523   \n",
       "187684  S10C130803  OTU_97.24948.0  CP011311.1  1505893  1514425   \n",
       "\n",
       "                  genus                         species  \n",
       "0        Staphylococcus           Staphylococcus aureus  \n",
       "1           Haemophilus           [Haemophilus] ducreyi  \n",
       "2        Staphylococcus           Staphylococcus aureus  \n",
       "3           Escherichia                Escherichia coli  \n",
       "4        Staphylococcus           Staphylococcus aureus  \n",
       "...                 ...                             ...  \n",
       "187680      Escherichia                Escherichia coli  \n",
       "187681   Staphylococcus           Staphylococcus aureus  \n",
       "187682   Staphylococcus           Staphylococcus aureus  \n",
       "187683   Staphylococcus      Staphylococcus lugdunensis  \n",
       "187684  Corynebacterium  Corynebacterium camporealensis  \n",
       "\n",
       "[187685 rows x 7 columns]"
      ]
     },
     "execution_count": 232,
     "metadata": {},
     "output_type": "execute_result"
    }
   ],
   "source": [
    "df_ref"
   ]
  },
  {
   "cell_type": "code",
   "execution_count": 234,
   "id": "5763ff5f",
   "metadata": {},
   "outputs": [
    {
     "name": "stdout",
     "output_type": "stream",
     "text": [
      "qsub -d `pwd` -l nodes=1:ppn=4:gpus=1,mem=20gb,walltime=1:00:00:00 -r y -N species_100 -e Out/species_100.err -o Out/species_100.out -A cpr_10006 -W group_list=cpr_10006 computerome_semisupervised_species_100.sh\n",
      "qsub -d `pwd` -l nodes=1:ppn=4:gpus=1,mem=20gb,walltime=1:00:00:00 -r y -N genus_100 -e Out/genus_100.err -o Out/genus_100.out -A cpr_10006 -W group_list=cpr_10006 computerome_semisupervised_genus_100.sh\n",
      "qsub -d `pwd` -l nodes=1:ppn=4:gpus=1,mem=20gb,walltime=1:00:00:00 -r y -N species_50 -e Out/species_50.err -o Out/species_50.out -A cpr_10006 -W group_list=cpr_10006 computerome_semisupervised_species_50.sh\n",
      "qsub -d `pwd` -l nodes=1:ppn=4:gpus=1,mem=20gb,walltime=1:00:00:00 -r y -N genus_50 -e Out/genus_50.err -o Out/genus_50.out -A cpr_10006 -W group_list=cpr_10006 computerome_semisupervised_genus_50.sh\n",
      "qsub -d `pwd` -l nodes=1:ppn=4:gpus=1,mem=20gb,walltime=1:00:00:00 -r y -N species_10 -e Out/species_10.err -o Out/species_10.out -A cpr_10006 -W group_list=cpr_10006 computerome_semisupervised_species_10.sh\n",
      "qsub -d `pwd` -l nodes=1:ppn=4:gpus=1,mem=20gb,walltime=1:00:00:00 -r y -N genus_10 -e Out/genus_10.err -o Out/genus_10.out -A cpr_10006 -W group_list=cpr_10006 computerome_semisupervised_genus_10.sh\n",
      "qsub -d `pwd` -l nodes=1:ppn=4:gpus=1,mem=20gb,walltime=1:00:00:00 -r y -N species_1 -e Out/species_1.err -o Out/species_1.out -A cpr_10006 -W group_list=cpr_10006 computerome_semisupervised_species_1.sh\n",
      "qsub -d `pwd` -l nodes=1:ppn=4:gpus=1,mem=20gb,walltime=1:00:00:00 -r y -N genus_1 -e Out/genus_1.err -o Out/genus_1.out -A cpr_10006 -W group_list=cpr_10006 computerome_semisupervised_genus_1.sh\n"
     ]
    }
   ],
   "source": [
    "for n in [100, 50, 10, 1]:\n",
    "    for s in ['species', 'genus']:\n",
    "        print(f'qsub -d `pwd` -l nodes=1:ppn=4:gpus=1,mem=20gb,walltime=1:00:00:00 -r y -N {s}_{n} -e Out/{s}_{n}.err -o Out/{s}_{n}.out -A cpr_10006 -W group_list=cpr_10006 computerome_semisupervised_{s}_{n}.sh')\n",
    "                            \n",
    "                            "
   ]
  },
  {
   "cell_type": "code",
   "execution_count": 410,
   "id": "131fe994",
   "metadata": {},
   "outputs": [
    {
     "name": "stdout",
     "output_type": "stream",
     "text": [
      "qsub -d `pwd` -l nodes=1:ppn=4:gpus=1,mem=20gb,walltime=1:00:00:00 -r y -N sup_100 -e Out/sup_100.err -o Out/sup_100.out -A cpr_10006 -W group_list=cpr_10006 computerome_semisupervised_100.sh\n",
      "qsub -d `pwd` -l nodes=1:ppn=4:gpus=1,mem=20gb,walltime=1:00:00:00 -r y -N sup_50 -e Out/sup_50.err -o Out/sup_50.out -A cpr_10006 -W group_list=cpr_10006 computerome_semisupervised_50.sh\n",
      "qsub -d `pwd` -l nodes=1:ppn=4:gpus=1,mem=20gb,walltime=1:00:00:00 -r y -N sup_10 -e Out/sup_10.err -o Out/sup_10.out -A cpr_10006 -W group_list=cpr_10006 computerome_semisupervised_10.sh\n",
      "qsub -d `pwd` -l nodes=1:ppn=4:gpus=1,mem=20gb,walltime=1:00:00:00 -r y -N sup_1 -e Out/sup_1.err -o Out/sup_1.out -A cpr_10006 -W group_list=cpr_10006 computerome_semisupervised_1.sh\n"
     ]
    }
   ],
   "source": [
    "for n in [100, 50, 10, 1]:\n",
    "    for s in ['sup']:\n",
    "        print(f'qsub -d `pwd` -l nodes=1:ppn=4:gpus=1,mem=20gb,walltime=1:00:00:00 -r y -N {s}_{n} -e Out/{s}_{n}.err -o Out/{s}_{n}.out -A cpr_10006 -W group_list=cpr_10006 computerome_semisupervised_{n}.sh')\n",
    "          "
   ]
  },
  {
   "cell_type": "code",
   "execution_count": 432,
   "id": "ea55e126",
   "metadata": {},
   "outputs": [
    {
     "name": "stdout",
     "output_type": "stream",
     "text": [
      "echo \"./computerome_vamb.sh oral\" | qsub -d `pwd` -l nodes=1:ppn=4:gpus=1,mem=20gb,walltime=1:00:00:00 -r y -N oral -e Out/oral.err -o Out/oral.out -A cpr_10006 -W group_list=cpr_10006\n",
      "echo \"./computerome_vamb.sh gi\" | qsub -d `pwd` -l nodes=1:ppn=4:gpus=1,mem=20gb,walltime=1:00:00:00 -r y -N gi -e Out/gi.err -o Out/gi.out -A cpr_10006 -W group_list=cpr_10006\n",
      "echo \"./computerome_vamb.sh skin\" | qsub -d `pwd` -l nodes=1:ppn=4:gpus=1,mem=20gb,walltime=1:00:00:00 -r y -N skin -e Out/skin.err -o Out/skin.out -A cpr_10006 -W group_list=cpr_10006\n",
      "echo \"./computerome_vamb.sh urog\" | qsub -d `pwd` -l nodes=1:ppn=4:gpus=1,mem=20gb,walltime=1:00:00:00 -r y -N urog -e Out/urog.err -o Out/urog.out -A cpr_10006 -W group_list=cpr_10006\n",
      "echo \"./computerome_vamb.sh metahit\" | qsub -d `pwd` -l nodes=1:ppn=4:gpus=1,mem=20gb,walltime=1:00:00:00 -r y -N metahit -e Out/metahit.err -o Out/metahit.out -A cpr_10006 -W group_list=cpr_10006\n"
     ]
    }
   ],
   "source": [
    "for s in ['oral', 'gi', 'skin', 'urog', 'metahit']:\n",
    "    print(f'echo \"./computerome_vamb.sh {s}\" | qsub -d `pwd` -l nodes=1:ppn=4:gpus=1,mem=20gb,walltime=1:00:00:00 -r y -N {s} -e Out/{s}.err -o Out/{s}.out -A cpr_10006 -W group_list=cpr_10006')\n",
    "\n"
   ]
  },
  {
   "cell_type": "code",
   "execution_count": 465,
   "id": "2318ee91",
   "metadata": {},
   "outputs": [
    {
     "name": "stdout",
     "output_type": "stream",
     "text": [
      "echo \"./computerome_semisupervised_mmseq_genus.sh oral\" | qsub -d `pwd` -l nodes=1:ppn=4:gpus=1,mem=20gb,walltime=1:00:00:00 -r y -N mmseq_genus_oral -e Out/mmseq_genus_oral.err -o Out/mmseq_genus_oral.out -A cpr_10006 -W group_list=cpr_10006\n",
      "echo \"./computerome_semisupervised_mmseq.sh oral\" | qsub -d `pwd` -l nodes=1:ppn=4:gpus=1,mem=20gb,walltime=1:00:00:00 -r y -N mmseq_oral -e Out/mmseq_oral.err -o Out/mmseq_oral.out -A cpr_10006 -W group_list=cpr_10006\n",
      "echo \"./computerome_semisupervised_mmseq_genus.sh gi\" | qsub -d `pwd` -l nodes=1:ppn=4:gpus=1,mem=20gb,walltime=1:00:00:00 -r y -N mmseq_genus_gi -e Out/mmseq_genus_gi.err -o Out/mmseq_genus_gi.out -A cpr_10006 -W group_list=cpr_10006\n",
      "echo \"./computerome_semisupervised_mmseq.sh gi\" | qsub -d `pwd` -l nodes=1:ppn=4:gpus=1,mem=20gb,walltime=1:00:00:00 -r y -N mmseq_gi -e Out/mmseq_gi.err -o Out/mmseq_gi.out -A cpr_10006 -W group_list=cpr_10006\n",
      "echo \"./computerome_semisupervised_mmseq_genus.sh skin\" | qsub -d `pwd` -l nodes=1:ppn=4:gpus=1,mem=20gb,walltime=1:00:00:00 -r y -N mmseq_genus_skin -e Out/mmseq_genus_skin.err -o Out/mmseq_genus_skin.out -A cpr_10006 -W group_list=cpr_10006\n",
      "echo \"./computerome_semisupervised_mmseq.sh skin\" | qsub -d `pwd` -l nodes=1:ppn=4:gpus=1,mem=20gb,walltime=1:00:00:00 -r y -N mmseq_skin -e Out/mmseq_skin.err -o Out/mmseq_skin.out -A cpr_10006 -W group_list=cpr_10006\n",
      "echo \"./computerome_semisupervised_mmseq_genus.sh urog\" | qsub -d `pwd` -l nodes=1:ppn=4:gpus=1,mem=20gb,walltime=1:00:00:00 -r y -N mmseq_genus_urog -e Out/mmseq_genus_urog.err -o Out/mmseq_genus_urog.out -A cpr_10006 -W group_list=cpr_10006\n",
      "echo \"./computerome_semisupervised_mmseq.sh urog\" | qsub -d `pwd` -l nodes=1:ppn=4:gpus=1,mem=20gb,walltime=1:00:00:00 -r y -N mmseq_urog -e Out/mmseq_urog.err -o Out/mmseq_urog.out -A cpr_10006 -W group_list=cpr_10006\n",
      "echo \"./computerome_semisupervised_mmseq_genus.sh airways\" | qsub -d `pwd` -l nodes=1:ppn=4:gpus=1,mem=20gb,walltime=1:00:00:00 -r y -N mmseq_genus_airways -e Out/mmseq_genus_airways.err -o Out/mmseq_genus_airways.out -A cpr_10006 -W group_list=cpr_10006\n",
      "echo \"./computerome_semisupervised_mmseq.sh airways\" | qsub -d `pwd` -l nodes=1:ppn=4:gpus=1,mem=20gb,walltime=1:00:00:00 -r y -N mmseq_airways -e Out/mmseq_airways.err -o Out/mmseq_airways.out -A cpr_10006 -W group_list=cpr_10006\n"
     ]
    }
   ],
   "source": [
    "for s in ['oral', 'gi', 'skin', 'urog', 'airways']:\n",
    "    for m in ['mmseq_genus', 'mmseq']:\n",
    "        print(f'echo \"./computerome_semisupervised_{m}.sh {s}\" | qsub -d `pwd` -l nodes=1:ppn=4:gpus=1,mem=20gb,walltime=1:00:00:00 -r y -N {m}_{s} -e Out/{m}_{s}.err -o Out/{m}_{s}.out -A cpr_10006 -W group_list=cpr_10006')\n"
   ]
  },
  {
   "cell_type": "code",
   "execution_count": 481,
   "id": "45409725",
   "metadata": {},
   "outputs": [
    {
     "name": "stderr",
     "output_type": "stream",
     "text": [
      "/var/folders/5b/1dk8bnws25l6w502hfdc8xw80000gn/T/ipykernel_12840/2847932704.py:5: SettingWithCopyWarning: \n",
      "A value is trying to be set on a copy of a slice from a DataFrame.\n",
      "Try using .loc[row_indexer,col_indexer] = value instead\n",
      "\n",
      "See the caveats in the documentation: https://pandas.pydata.org/pandas-docs/stable/user_guide/indexing.html#returning-a-view-versus-a-copy\n",
      "  df_mmseq_genus['genus'] = df_mmseq_genus[8].str.split(';').str[5]\n"
     ]
    }
   ],
   "source": [
    "MMSEQ_PATH = '/Users/nmb127/Documents/vamb_data/almeida_taxonomy.tsv'\n",
    "\n",
    "df_mmseq = pd.read_csv(MMSEQ_PATH, delimiter='\\t', header=None)\n",
    "df_mmseq_genus = df_mmseq[(df_mmseq[2] == 'genus') | (df_mmseq[2] == 'species')]\n",
    "df_mmseq_genus['genus'] = df_mmseq_genus[8].str.split(';').str[5]\n",
    "contigs = np.array(contignames)\n",
    "# indices_mmseq = [np.argwhere(contigs == c)[0][0] for c in df_mmseq_genus[0]]\n",
    "# classes_order = list(df_mmseq_genus['genus'])"
   ]
  },
  {
   "cell_type": "code",
   "execution_count": 485,
   "id": "be20f6de",
   "metadata": {},
   "outputs": [
    {
     "data": {
      "text/html": [
       "<div>\n",
       "<style scoped>\n",
       "    .dataframe tbody tr th:only-of-type {\n",
       "        vertical-align: middle;\n",
       "    }\n",
       "\n",
       "    .dataframe tbody tr th {\n",
       "        vertical-align: top;\n",
       "    }\n",
       "\n",
       "    .dataframe thead th {\n",
       "        text-align: right;\n",
       "    }\n",
       "</style>\n",
       "<table border=\"1\" class=\"dataframe\">\n",
       "  <thead>\n",
       "    <tr style=\"text-align: right;\">\n",
       "      <th></th>\n",
       "      <th>0</th>\n",
       "      <th>1</th>\n",
       "      <th>2</th>\n",
       "      <th>3</th>\n",
       "      <th>4</th>\n",
       "      <th>5</th>\n",
       "      <th>6</th>\n",
       "      <th>7</th>\n",
       "      <th>8</th>\n",
       "      <th>genus</th>\n",
       "    </tr>\n",
       "  </thead>\n",
       "  <tbody>\n",
       "    <tr>\n",
       "      <th>1</th>\n",
       "      <td>SERR011100Ccontig33</td>\n",
       "      <td>309</td>\n",
       "      <td>genus</td>\n",
       "      <td>Prevotella</td>\n",
       "      <td>63</td>\n",
       "      <td>57</td>\n",
       "      <td>42</td>\n",
       "      <td>0.75</td>\n",
       "      <td>d_Bacteria;p_Bacteroidota;c_Bacteroidia;o_Bact...</td>\n",
       "      <td>g_Prevotella</td>\n",
       "    </tr>\n",
       "    <tr>\n",
       "      <th>2</th>\n",
       "      <td>SERR011100Ccontig65</td>\n",
       "      <td>309</td>\n",
       "      <td>genus</td>\n",
       "      <td>Prevotella</td>\n",
       "      <td>44</td>\n",
       "      <td>42</td>\n",
       "      <td>31</td>\n",
       "      <td>0.83</td>\n",
       "      <td>d_Bacteria;p_Bacteroidota;c_Bacteroidia;o_Bact...</td>\n",
       "      <td>g_Prevotella</td>\n",
       "    </tr>\n",
       "    <tr>\n",
       "      <th>4</th>\n",
       "      <td>SERR011100Ccontig129</td>\n",
       "      <td>65792</td>\n",
       "      <td>species</td>\n",
       "      <td>Methanobrevibacter A sp900766745</td>\n",
       "      <td>14</td>\n",
       "      <td>13</td>\n",
       "      <td>7</td>\n",
       "      <td>0.58</td>\n",
       "      <td>d_Archaea;p_Methanobacteriota;c_Methanobacteri...</td>\n",
       "      <td>g_Methanobrevibacter A</td>\n",
       "    </tr>\n",
       "    <tr>\n",
       "      <th>5</th>\n",
       "      <td>SERR011100Ccontig161</td>\n",
       "      <td>309</td>\n",
       "      <td>genus</td>\n",
       "      <td>Prevotella</td>\n",
       "      <td>15</td>\n",
       "      <td>11</td>\n",
       "      <td>9</td>\n",
       "      <td>0.98</td>\n",
       "      <td>d_Bacteria;p_Bacteroidota;c_Bacteroidia;o_Bact...</td>\n",
       "      <td>g_Prevotella</td>\n",
       "    </tr>\n",
       "    <tr>\n",
       "      <th>6</th>\n",
       "      <td>SERR011100Ccontig193</td>\n",
       "      <td>4064</td>\n",
       "      <td>genus</td>\n",
       "      <td>Butyrivibrio A</td>\n",
       "      <td>8</td>\n",
       "      <td>7</td>\n",
       "      <td>7</td>\n",
       "      <td>1.00</td>\n",
       "      <td>d_Bacteria;p_Firmicutes A;c_Clostridia;o_Lachn...</td>\n",
       "      <td>g_Butyrivibrio A</td>\n",
       "    </tr>\n",
       "    <tr>\n",
       "      <th>...</th>\n",
       "      <td>...</td>\n",
       "      <td>...</td>\n",
       "      <td>...</td>\n",
       "      <td>...</td>\n",
       "      <td>...</td>\n",
       "      <td>...</td>\n",
       "      <td>...</td>\n",
       "      <td>...</td>\n",
       "      <td>...</td>\n",
       "      <td>...</td>\n",
       "    </tr>\n",
       "    <tr>\n",
       "      <th>5892087</th>\n",
       "      <td>SERR1190946Ccontig16156</td>\n",
       "      <td>193</td>\n",
       "      <td>genus</td>\n",
       "      <td>Klebsiella A</td>\n",
       "      <td>4</td>\n",
       "      <td>4</td>\n",
       "      <td>2</td>\n",
       "      <td>0.50</td>\n",
       "      <td>d_Bacteria;p_Proteobacteria;c_Gammaproteobacte...</td>\n",
       "      <td>g_Klebsiella A</td>\n",
       "    </tr>\n",
       "    <tr>\n",
       "      <th>5892088</th>\n",
       "      <td>SERR1190946Ccontig16188</td>\n",
       "      <td>19061</td>\n",
       "      <td>species</td>\n",
       "      <td>Ruminococcus C sp000437255</td>\n",
       "      <td>6</td>\n",
       "      <td>5</td>\n",
       "      <td>3</td>\n",
       "      <td>0.60</td>\n",
       "      <td>d_Bacteria;p_Firmicutes A;c_Clostridia;o_Oscil...</td>\n",
       "      <td>g_Ruminococcus C</td>\n",
       "    </tr>\n",
       "    <tr>\n",
       "      <th>5892089</th>\n",
       "      <td>SERR1190946Ccontig16220</td>\n",
       "      <td>3755</td>\n",
       "      <td>genus</td>\n",
       "      <td>CAG-103</td>\n",
       "      <td>8</td>\n",
       "      <td>7</td>\n",
       "      <td>5</td>\n",
       "      <td>0.98</td>\n",
       "      <td>d_Bacteria;p_Firmicutes A;c_Clostridia;o_Oscil...</td>\n",
       "      <td>g_CAG-103</td>\n",
       "    </tr>\n",
       "    <tr>\n",
       "      <th>5892090</th>\n",
       "      <td>SERR1190946Ccontig16252</td>\n",
       "      <td>19952</td>\n",
       "      <td>species</td>\n",
       "      <td>CAG-345 sp000433315</td>\n",
       "      <td>4</td>\n",
       "      <td>4</td>\n",
       "      <td>4</td>\n",
       "      <td>1.00</td>\n",
       "      <td>d_Bacteria;p_Firmicutes;c_Bacilli;o_RFN20;f_CA...</td>\n",
       "      <td>g_CAG-345</td>\n",
       "    </tr>\n",
       "    <tr>\n",
       "      <th>5892091</th>\n",
       "      <td>SERR1190946Ccontig16284</td>\n",
       "      <td>3922</td>\n",
       "      <td>species</td>\n",
       "      <td>Ruminococcus E sp900314705</td>\n",
       "      <td>8</td>\n",
       "      <td>8</td>\n",
       "      <td>8</td>\n",
       "      <td>1.00</td>\n",
       "      <td>d_Bacteria;p_Firmicutes A;c_Clostridia;o_Oscil...</td>\n",
       "      <td>g_Ruminococcus E</td>\n",
       "    </tr>\n",
       "  </tbody>\n",
       "</table>\n",
       "<p>4661870 rows × 10 columns</p>\n",
       "</div>"
      ],
      "text/plain": [
       "                               0      1        2  \\\n",
       "1            SERR011100Ccontig33    309    genus   \n",
       "2            SERR011100Ccontig65    309    genus   \n",
       "4           SERR011100Ccontig129  65792  species   \n",
       "5           SERR011100Ccontig161    309    genus   \n",
       "6           SERR011100Ccontig193   4064    genus   \n",
       "...                          ...    ...      ...   \n",
       "5892087  SERR1190946Ccontig16156    193    genus   \n",
       "5892088  SERR1190946Ccontig16188  19061  species   \n",
       "5892089  SERR1190946Ccontig16220   3755    genus   \n",
       "5892090  SERR1190946Ccontig16252  19952  species   \n",
       "5892091  SERR1190946Ccontig16284   3922  species   \n",
       "\n",
       "                                        3   4   5   6     7  \\\n",
       "1                              Prevotella  63  57  42  0.75   \n",
       "2                              Prevotella  44  42  31  0.83   \n",
       "4        Methanobrevibacter A sp900766745  14  13   7  0.58   \n",
       "5                              Prevotella  15  11   9  0.98   \n",
       "6                          Butyrivibrio A   8   7   7  1.00   \n",
       "...                                   ...  ..  ..  ..   ...   \n",
       "5892087                      Klebsiella A   4   4   2  0.50   \n",
       "5892088        Ruminococcus C sp000437255   6   5   3  0.60   \n",
       "5892089                           CAG-103   8   7   5  0.98   \n",
       "5892090               CAG-345 sp000433315   4   4   4  1.00   \n",
       "5892091        Ruminococcus E sp900314705   8   8   8  1.00   \n",
       "\n",
       "                                                         8  \\\n",
       "1        d_Bacteria;p_Bacteroidota;c_Bacteroidia;o_Bact...   \n",
       "2        d_Bacteria;p_Bacteroidota;c_Bacteroidia;o_Bact...   \n",
       "4        d_Archaea;p_Methanobacteriota;c_Methanobacteri...   \n",
       "5        d_Bacteria;p_Bacteroidota;c_Bacteroidia;o_Bact...   \n",
       "6        d_Bacteria;p_Firmicutes A;c_Clostridia;o_Lachn...   \n",
       "...                                                    ...   \n",
       "5892087  d_Bacteria;p_Proteobacteria;c_Gammaproteobacte...   \n",
       "5892088  d_Bacteria;p_Firmicutes A;c_Clostridia;o_Oscil...   \n",
       "5892089  d_Bacteria;p_Firmicutes A;c_Clostridia;o_Oscil...   \n",
       "5892090  d_Bacteria;p_Firmicutes;c_Bacilli;o_RFN20;f_CA...   \n",
       "5892091  d_Bacteria;p_Firmicutes A;c_Clostridia;o_Oscil...   \n",
       "\n",
       "                          genus  \n",
       "1                  g_Prevotella  \n",
       "2                  g_Prevotella  \n",
       "4        g_Methanobrevibacter A  \n",
       "5                  g_Prevotella  \n",
       "6              g_Butyrivibrio A  \n",
       "...                         ...  \n",
       "5892087          g_Klebsiella A  \n",
       "5892088        g_Ruminococcus C  \n",
       "5892089               g_CAG-103  \n",
       "5892090               g_CAG-345  \n",
       "5892091        g_Ruminococcus E  \n",
       "\n",
       "[4661870 rows x 10 columns]"
      ]
     },
     "execution_count": 485,
     "metadata": {},
     "output_type": "execute_result"
    }
   ],
   "source": [
    "df_mmseq_genus"
   ]
  },
  {
   "cell_type": "code",
   "execution_count": 484,
   "id": "611c2f2a",
   "metadata": {},
   "outputs": [
    {
     "name": "stdout",
     "output_type": "stream",
     "text": [
      "['S4C8' 'S4C16' 'S4C19' ... 'S9C605209' 'S9C605237' 'S9C605274'] SERR011100Ccontig33\n"
     ]
    },
    {
     "ename": "IndexError",
     "evalue": "index 0 is out of bounds for axis 0 with size 0",
     "output_type": "error",
     "traceback": [
      "\u001b[0;31m---------------------------------------------------------------------------\u001b[0m",
      "\u001b[0;31mIndexError\u001b[0m                                Traceback (most recent call last)",
      "\u001b[0;32m/var/folders/5b/1dk8bnws25l6w502hfdc8xw80000gn/T/ipykernel_12840/3213911266.py\u001b[0m in \u001b[0;36m<module>\u001b[0;34m\u001b[0m\n\u001b[1;32m      4\u001b[0m \u001b[0;34m\u001b[0m\u001b[0m\n\u001b[1;32m      5\u001b[0m \u001b[0mvfunc\u001b[0m \u001b[0;34m=\u001b[0m \u001b[0mnp\u001b[0m\u001b[0;34m.\u001b[0m\u001b[0mvectorize\u001b[0m\u001b[0;34m(\u001b[0m\u001b[0margwhere\u001b[0m\u001b[0;34m)\u001b[0m\u001b[0;34m\u001b[0m\u001b[0;34m\u001b[0m\u001b[0m\n\u001b[0;32m----> 6\u001b[0;31m \u001b[0mindices_mmseq\u001b[0m \u001b[0;34m=\u001b[0m \u001b[0mvfunc\u001b[0m\u001b[0;34m(\u001b[0m\u001b[0mdf_mmseq_genus\u001b[0m\u001b[0;34m[\u001b[0m\u001b[0;36m0\u001b[0m\u001b[0;34m]\u001b[0m\u001b[0;34m)\u001b[0m\u001b[0;34m\u001b[0m\u001b[0;34m\u001b[0m\u001b[0m\n\u001b[0m",
      "\u001b[0;32m~/opt/anaconda3/envs/vamb/lib/python3.9/site-packages/numpy/lib/function_base.py\u001b[0m in \u001b[0;36m__call__\u001b[0;34m(self, *args, **kwargs)\u001b[0m\n\u001b[1;32m   2161\u001b[0m             \u001b[0mvargs\u001b[0m\u001b[0;34m.\u001b[0m\u001b[0mextend\u001b[0m\u001b[0;34m(\u001b[0m\u001b[0;34m[\u001b[0m\u001b[0mkwargs\u001b[0m\u001b[0;34m[\u001b[0m\u001b[0m_n\u001b[0m\u001b[0;34m]\u001b[0m \u001b[0;32mfor\u001b[0m \u001b[0m_n\u001b[0m \u001b[0;32min\u001b[0m \u001b[0mnames\u001b[0m\u001b[0;34m]\u001b[0m\u001b[0;34m)\u001b[0m\u001b[0;34m\u001b[0m\u001b[0;34m\u001b[0m\u001b[0m\n\u001b[1;32m   2162\u001b[0m \u001b[0;34m\u001b[0m\u001b[0m\n\u001b[0;32m-> 2163\u001b[0;31m         \u001b[0;32mreturn\u001b[0m \u001b[0mself\u001b[0m\u001b[0;34m.\u001b[0m\u001b[0m_vectorize_call\u001b[0m\u001b[0;34m(\u001b[0m\u001b[0mfunc\u001b[0m\u001b[0;34m=\u001b[0m\u001b[0mfunc\u001b[0m\u001b[0;34m,\u001b[0m \u001b[0margs\u001b[0m\u001b[0;34m=\u001b[0m\u001b[0mvargs\u001b[0m\u001b[0;34m)\u001b[0m\u001b[0;34m\u001b[0m\u001b[0;34m\u001b[0m\u001b[0m\n\u001b[0m\u001b[1;32m   2164\u001b[0m \u001b[0;34m\u001b[0m\u001b[0m\n\u001b[1;32m   2165\u001b[0m     \u001b[0;32mdef\u001b[0m \u001b[0m_get_ufunc_and_otypes\u001b[0m\u001b[0;34m(\u001b[0m\u001b[0mself\u001b[0m\u001b[0;34m,\u001b[0m \u001b[0mfunc\u001b[0m\u001b[0;34m,\u001b[0m \u001b[0margs\u001b[0m\u001b[0;34m)\u001b[0m\u001b[0;34m:\u001b[0m\u001b[0;34m\u001b[0m\u001b[0;34m\u001b[0m\u001b[0m\n",
      "\u001b[0;32m~/opt/anaconda3/envs/vamb/lib/python3.9/site-packages/numpy/lib/function_base.py\u001b[0m in \u001b[0;36m_vectorize_call\u001b[0;34m(self, func, args)\u001b[0m\n\u001b[1;32m   2239\u001b[0m             \u001b[0mres\u001b[0m \u001b[0;34m=\u001b[0m \u001b[0mfunc\u001b[0m\u001b[0;34m(\u001b[0m\u001b[0;34m)\u001b[0m\u001b[0;34m\u001b[0m\u001b[0;34m\u001b[0m\u001b[0m\n\u001b[1;32m   2240\u001b[0m         \u001b[0;32melse\u001b[0m\u001b[0;34m:\u001b[0m\u001b[0;34m\u001b[0m\u001b[0;34m\u001b[0m\u001b[0m\n\u001b[0;32m-> 2241\u001b[0;31m             \u001b[0mufunc\u001b[0m\u001b[0;34m,\u001b[0m \u001b[0motypes\u001b[0m \u001b[0;34m=\u001b[0m \u001b[0mself\u001b[0m\u001b[0;34m.\u001b[0m\u001b[0m_get_ufunc_and_otypes\u001b[0m\u001b[0;34m(\u001b[0m\u001b[0mfunc\u001b[0m\u001b[0;34m=\u001b[0m\u001b[0mfunc\u001b[0m\u001b[0;34m,\u001b[0m \u001b[0margs\u001b[0m\u001b[0;34m=\u001b[0m\u001b[0margs\u001b[0m\u001b[0;34m)\u001b[0m\u001b[0;34m\u001b[0m\u001b[0;34m\u001b[0m\u001b[0m\n\u001b[0m\u001b[1;32m   2242\u001b[0m \u001b[0;34m\u001b[0m\u001b[0m\n\u001b[1;32m   2243\u001b[0m             \u001b[0;31m# Convert args to object arrays first\u001b[0m\u001b[0;34m\u001b[0m\u001b[0;34m\u001b[0m\u001b[0m\n",
      "\u001b[0;32m~/opt/anaconda3/envs/vamb/lib/python3.9/site-packages/numpy/lib/function_base.py\u001b[0m in \u001b[0;36m_get_ufunc_and_otypes\u001b[0;34m(self, func, args)\u001b[0m\n\u001b[1;32m   2199\u001b[0m \u001b[0;34m\u001b[0m\u001b[0m\n\u001b[1;32m   2200\u001b[0m             \u001b[0minputs\u001b[0m \u001b[0;34m=\u001b[0m \u001b[0;34m[\u001b[0m\u001b[0marg\u001b[0m\u001b[0;34m.\u001b[0m\u001b[0mflat\u001b[0m\u001b[0;34m[\u001b[0m\u001b[0;36m0\u001b[0m\u001b[0;34m]\u001b[0m \u001b[0;32mfor\u001b[0m \u001b[0marg\u001b[0m \u001b[0;32min\u001b[0m \u001b[0margs\u001b[0m\u001b[0;34m]\u001b[0m\u001b[0;34m\u001b[0m\u001b[0;34m\u001b[0m\u001b[0m\n\u001b[0;32m-> 2201\u001b[0;31m             \u001b[0moutputs\u001b[0m \u001b[0;34m=\u001b[0m \u001b[0mfunc\u001b[0m\u001b[0;34m(\u001b[0m\u001b[0;34m*\u001b[0m\u001b[0minputs\u001b[0m\u001b[0;34m)\u001b[0m\u001b[0;34m\u001b[0m\u001b[0;34m\u001b[0m\u001b[0m\n\u001b[0m\u001b[1;32m   2202\u001b[0m \u001b[0;34m\u001b[0m\u001b[0m\n\u001b[1;32m   2203\u001b[0m             \u001b[0;31m# Performance note: profiling indicates that -- for simple\u001b[0m\u001b[0;34m\u001b[0m\u001b[0;34m\u001b[0m\u001b[0m\n",
      "\u001b[0;32m/var/folders/5b/1dk8bnws25l6w502hfdc8xw80000gn/T/ipykernel_12840/3213911266.py\u001b[0m in \u001b[0;36margwhere\u001b[0;34m(c)\u001b[0m\n\u001b[1;32m      1\u001b[0m \u001b[0;32mdef\u001b[0m \u001b[0margwhere\u001b[0m\u001b[0;34m(\u001b[0m\u001b[0mc\u001b[0m\u001b[0;34m)\u001b[0m\u001b[0;34m:\u001b[0m\u001b[0;34m\u001b[0m\u001b[0;34m\u001b[0m\u001b[0m\n\u001b[1;32m      2\u001b[0m     \u001b[0mprint\u001b[0m\u001b[0;34m(\u001b[0m\u001b[0mcontigs\u001b[0m\u001b[0;34m,\u001b[0m \u001b[0mc\u001b[0m\u001b[0;34m)\u001b[0m\u001b[0;34m\u001b[0m\u001b[0;34m\u001b[0m\u001b[0m\n\u001b[0;32m----> 3\u001b[0;31m     \u001b[0;32mreturn\u001b[0m \u001b[0mnp\u001b[0m\u001b[0;34m.\u001b[0m\u001b[0margwhere\u001b[0m\u001b[0;34m(\u001b[0m\u001b[0mcontigs\u001b[0m \u001b[0;34m==\u001b[0m \u001b[0mc\u001b[0m\u001b[0;34m)\u001b[0m\u001b[0;34m[\u001b[0m\u001b[0;36m0\u001b[0m\u001b[0;34m]\u001b[0m\u001b[0;34m[\u001b[0m\u001b[0;36m0\u001b[0m\u001b[0;34m]\u001b[0m\u001b[0;34m\u001b[0m\u001b[0;34m\u001b[0m\u001b[0m\n\u001b[0m\u001b[1;32m      4\u001b[0m \u001b[0;34m\u001b[0m\u001b[0m\n\u001b[1;32m      5\u001b[0m \u001b[0mvfunc\u001b[0m \u001b[0;34m=\u001b[0m \u001b[0mnp\u001b[0m\u001b[0;34m.\u001b[0m\u001b[0mvectorize\u001b[0m\u001b[0;34m(\u001b[0m\u001b[0margwhere\u001b[0m\u001b[0;34m)\u001b[0m\u001b[0;34m\u001b[0m\u001b[0;34m\u001b[0m\u001b[0m\n",
      "\u001b[0;31mIndexError\u001b[0m: index 0 is out of bounds for axis 0 with size 0"
     ]
    }
   ],
   "source": [
    "def argwhere(c):\n",
    "    return np.argwhere(contigs == c)[0][0]\n",
    "\n",
    "vfunc = np.vectorize(argwhere)\n",
    "indices_mmseq = vfunc(df_mmseq_genus[0])"
   ]
  },
  {
   "cell_type": "code",
   "execution_count": null,
   "id": "1386fc09",
   "metadata": {},
   "outputs": [],
   "source": [
    "# indices_mmseq = [np.argwhere(contigs == c)[0][0] for c in df_mmseq_genus[0]]\n",
    "# classes_order = list(df_mmseq_genus['genus'])"
   ]
  },
  {
   "cell_type": "code",
   "execution_count": 473,
   "id": "5d6e79f6",
   "metadata": {},
   "outputs": [
    {
     "name": "stdout",
     "output_type": "stream",
     "text": [
      "qsub -d `pwd` -l nodes=1:ppn=4:gpus=1,mem=100gb,walltime=2:00:00:00 -r y -N mmseq_almeida -e Out/mmseq_almeida.err -o Out/mmseq_almeida.out -A cpr_10006 -W group_list=cpr_10006\n"
     ]
    }
   ],
   "source": [
    "for s in ['almeida']:\n",
    "    print(f'qsub -d `pwd` -l nodes=1:ppn=4:gpus=1,mem=100gb,walltime=2:00:00:00 -r y -N mmseq_{s} -e Out/mmseq_{s}.err -o Out/mmseq_{s}.out -A cpr_10006 -W group_list=cpr_10006')\n"
   ]
  },
  {
   "cell_type": "code",
   "execution_count": 471,
   "id": "7583ec8b",
   "metadata": {
    "scrolled": false
   },
   "outputs": [
    {
     "name": "stdout",
     "output_type": "stream",
     "text": [
      "echo \"./computerome_semisupervised_tax_arg.sh airways 1 genus\" | qsub -d `pwd` -l nodes=1:ppn=4:gpus=1,mem=20gb,walltime=1:00:00:00 -r y -N 1_airways_genus -e Out/1_airways_genus.err -o Out/1_airways_genus.out -A cpr_10006 -W group_list=cpr_10006\n",
      "echo \"./computerome_semisupervised_tax_arg.sh gi 1 genus\" | qsub -d `pwd` -l nodes=1:ppn=4:gpus=1,mem=20gb,walltime=1:00:00:00 -r y -N 1_gi_genus -e Out/1_gi_genus.err -o Out/1_gi_genus.out -A cpr_10006 -W group_list=cpr_10006\n",
      "echo \"./computerome_semisupervised_tax_arg.sh skin 1 genus\" | qsub -d `pwd` -l nodes=1:ppn=4:gpus=1,mem=20gb,walltime=1:00:00:00 -r y -N 1_skin_genus -e Out/1_skin_genus.err -o Out/1_skin_genus.out -A cpr_10006 -W group_list=cpr_10006\n",
      "echo \"./computerome_semisupervised_tax_arg.sh urog 1 genus\" | qsub -d `pwd` -l nodes=1:ppn=4:gpus=1,mem=20gb,walltime=1:00:00:00 -r y -N 1_urog_genus -e Out/1_urog_genus.err -o Out/1_urog_genus.out -A cpr_10006 -W group_list=cpr_10006\n",
      "echo \"./computerome_semisupervised_tax_arg.sh oral 1 genus\" | qsub -d `pwd` -l nodes=1:ppn=4:gpus=1,mem=20gb,walltime=1:00:00:00 -r y -N 1_oral_genus -e Out/1_oral_genus.err -o Out/1_oral_genus.out -A cpr_10006 -W group_list=cpr_10006\n",
      "echo \"./computerome_semisupervised_tax_arg.sh airways 0.5 genus\" | qsub -d `pwd` -l nodes=1:ppn=4:gpus=1,mem=20gb,walltime=1:00:00:00 -r y -N 0.5_airways_genus -e Out/0.5_airways_genus.err -o Out/0.5_airways_genus.out -A cpr_10006 -W group_list=cpr_10006\n",
      "echo \"./computerome_semisupervised_tax_arg.sh gi 0.5 genus\" | qsub -d `pwd` -l nodes=1:ppn=4:gpus=1,mem=20gb,walltime=1:00:00:00 -r y -N 0.5_gi_genus -e Out/0.5_gi_genus.err -o Out/0.5_gi_genus.out -A cpr_10006 -W group_list=cpr_10006\n",
      "echo \"./computerome_semisupervised_tax_arg.sh skin 0.5 genus\" | qsub -d `pwd` -l nodes=1:ppn=4:gpus=1,mem=20gb,walltime=1:00:00:00 -r y -N 0.5_skin_genus -e Out/0.5_skin_genus.err -o Out/0.5_skin_genus.out -A cpr_10006 -W group_list=cpr_10006\n",
      "echo \"./computerome_semisupervised_tax_arg.sh urog 0.5 genus\" | qsub -d `pwd` -l nodes=1:ppn=4:gpus=1,mem=20gb,walltime=1:00:00:00 -r y -N 0.5_urog_genus -e Out/0.5_urog_genus.err -o Out/0.5_urog_genus.out -A cpr_10006 -W group_list=cpr_10006\n",
      "echo \"./computerome_semisupervised_tax_arg.sh oral 0.5 genus\" | qsub -d `pwd` -l nodes=1:ppn=4:gpus=1,mem=20gb,walltime=1:00:00:00 -r y -N 0.5_oral_genus -e Out/0.5_oral_genus.err -o Out/0.5_oral_genus.out -A cpr_10006 -W group_list=cpr_10006\n",
      "echo \"./computerome_semisupervised_tax_arg.sh airways 1 species\" | qsub -d `pwd` -l nodes=1:ppn=4:gpus=1,mem=20gb,walltime=1:00:00:00 -r y -N 1_airways_species -e Out/1_airways_species.err -o Out/1_airways_species.out -A cpr_10006 -W group_list=cpr_10006\n",
      "echo \"./computerome_semisupervised_tax_arg.sh gi 1 species\" | qsub -d `pwd` -l nodes=1:ppn=4:gpus=1,mem=20gb,walltime=1:00:00:00 -r y -N 1_gi_species -e Out/1_gi_species.err -o Out/1_gi_species.out -A cpr_10006 -W group_list=cpr_10006\n",
      "echo \"./computerome_semisupervised_tax_arg.sh skin 1 species\" | qsub -d `pwd` -l nodes=1:ppn=4:gpus=1,mem=20gb,walltime=1:00:00:00 -r y -N 1_skin_species -e Out/1_skin_species.err -o Out/1_skin_species.out -A cpr_10006 -W group_list=cpr_10006\n",
      "echo \"./computerome_semisupervised_tax_arg.sh urog 1 species\" | qsub -d `pwd` -l nodes=1:ppn=4:gpus=1,mem=20gb,walltime=1:00:00:00 -r y -N 1_urog_species -e Out/1_urog_species.err -o Out/1_urog_species.out -A cpr_10006 -W group_list=cpr_10006\n",
      "echo \"./computerome_semisupervised_tax_arg.sh oral 1 species\" | qsub -d `pwd` -l nodes=1:ppn=4:gpus=1,mem=20gb,walltime=1:00:00:00 -r y -N 1_oral_species -e Out/1_oral_species.err -o Out/1_oral_species.out -A cpr_10006 -W group_list=cpr_10006\n",
      "echo \"./computerome_semisupervised_tax_arg.sh airways 0.5 species\" | qsub -d `pwd` -l nodes=1:ppn=4:gpus=1,mem=20gb,walltime=1:00:00:00 -r y -N 0.5_airways_species -e Out/0.5_airways_species.err -o Out/0.5_airways_species.out -A cpr_10006 -W group_list=cpr_10006\n",
      "echo \"./computerome_semisupervised_tax_arg.sh gi 0.5 species\" | qsub -d `pwd` -l nodes=1:ppn=4:gpus=1,mem=20gb,walltime=1:00:00:00 -r y -N 0.5_gi_species -e Out/0.5_gi_species.err -o Out/0.5_gi_species.out -A cpr_10006 -W group_list=cpr_10006\n",
      "echo \"./computerome_semisupervised_tax_arg.sh skin 0.5 species\" | qsub -d `pwd` -l nodes=1:ppn=4:gpus=1,mem=20gb,walltime=1:00:00:00 -r y -N 0.5_skin_species -e Out/0.5_skin_species.err -o Out/0.5_skin_species.out -A cpr_10006 -W group_list=cpr_10006\n",
      "echo \"./computerome_semisupervised_tax_arg.sh urog 0.5 species\" | qsub -d `pwd` -l nodes=1:ppn=4:gpus=1,mem=20gb,walltime=1:00:00:00 -r y -N 0.5_urog_species -e Out/0.5_urog_species.err -o Out/0.5_urog_species.out -A cpr_10006 -W group_list=cpr_10006\n",
      "echo \"./computerome_semisupervised_tax_arg.sh oral 0.5 species\" | qsub -d `pwd` -l nodes=1:ppn=4:gpus=1,mem=20gb,walltime=1:00:00:00 -r y -N 0.5_oral_species -e Out/0.5_oral_species.err -o Out/0.5_oral_species.out -A cpr_10006 -W group_list=cpr_10006\n"
     ]
    }
   ],
   "source": [
    "for sp in ['genus', 'species']:\n",
    "    for n in [1, 0.5]:\n",
    "        for s in ['airways', 'gi', 'skin', 'urog', 'oral']:\n",
    "            print(f'echo \"./computerome_semisupervised_tax_arg.sh {s} {n} {sp}\" | qsub -d `pwd` -l nodes=1:ppn=4:gpus=1,mem=20gb,walltime=1:00:00:00 -r y -N {n}_{s}_{sp} -e Out/{n}_{s}_{sp}.err -o Out/{n}_{s}_{sp}.out -A cpr_10006 -W group_list=cpr_10006')\n",
    "            "
   ]
  },
  {
   "cell_type": "code",
   "execution_count": 450,
   "id": "ef3f7d2b",
   "metadata": {},
   "outputs": [
    {
     "name": "stdout",
     "output_type": "stream",
     "text": [
      "rsync -rLptgoDvzh svekut@ssh.computerome.dk:/home/projects/cpr_10006/projects/vamb/paper_revised/vamb_on_airways /Users/nmb127/Documents/vamb_data\n",
      "rsync -rLptgoDvzh svekut@ssh.computerome.dk:/home/projects/cpr_10006/projects/vamb/data/datasets/cami2_airways/\\*.tsv /Users/nmb127/Documents/vamb_data/vamb_on_airways\n",
      "rsync -rLptgoDvzh svekut@ssh.computerome.dk:/home/projects/cpr_10006/projects/vamb/paper_revised/vamb_on_oral /Users/nmb127/Documents/vamb_data\n",
      "rsync -rLptgoDvzh svekut@ssh.computerome.dk:/home/projects/cpr_10006/projects/vamb/data/datasets/cami2_oral/\\*.tsv /Users/nmb127/Documents/vamb_data/vamb_on_oral\n",
      "rsync -rLptgoDvzh svekut@ssh.computerome.dk:/home/projects/cpr_10006/projects/vamb/paper_revised/vamb_on_gi /Users/nmb127/Documents/vamb_data\n",
      "rsync -rLptgoDvzh svekut@ssh.computerome.dk:/home/projects/cpr_10006/projects/vamb/data/datasets/cami2_gi/\\*.tsv /Users/nmb127/Documents/vamb_data/vamb_on_gi\n",
      "rsync -rLptgoDvzh svekut@ssh.computerome.dk:/home/projects/cpr_10006/projects/vamb/paper_revised/vamb_on_skin /Users/nmb127/Documents/vamb_data\n",
      "rsync -rLptgoDvzh svekut@ssh.computerome.dk:/home/projects/cpr_10006/projects/vamb/data/datasets/cami2_skin/\\*.tsv /Users/nmb127/Documents/vamb_data/vamb_on_skin\n",
      "rsync -rLptgoDvzh svekut@ssh.computerome.dk:/home/projects/cpr_10006/projects/vamb/paper_revised/vamb_on_urog /Users/nmb127/Documents/vamb_data\n",
      "rsync -rLptgoDvzh svekut@ssh.computerome.dk:/home/projects/cpr_10006/projects/vamb/data/datasets/cami2_urog/\\*.tsv /Users/nmb127/Documents/vamb_data/vamb_on_urog\n",
      "rsync -rLptgoDvzh svekut@ssh.computerome.dk:/home/projects/cpr_10006/projects/vamb/paper_revised/vamb_on_metahit /Users/nmb127/Documents/vamb_data\n",
      "rsync -rLptgoDvzh svekut@ssh.computerome.dk:/home/projects/cpr_10006/projects/vamb/data/datasets/cami2_metahit/\\*.tsv /Users/nmb127/Documents/vamb_data/vamb_on_metahit\n"
     ]
    }
   ],
   "source": [
    "for s in ['airways', 'oral', 'gi', 'skin', 'urog', 'metahit']:\n",
    "    print(f'rsync -rLptgoDvzh svekut@ssh.computerome.dk:/home/projects/cpr_10006/projects/vamb/paper_revised/vamb_on_{s} /Users/nmb127/Documents/vamb_data')\n",
    "    print(f'rsync -rLptgoDvzh svekut@ssh.computerome.dk:/home/projects/cpr_10006/projects/vamb/data/datasets/cami2_{s}/\\*.tsv /Users/nmb127/Documents/vamb_data/vamb_on_{s}'\n",
    "     \n",
    "     )"
   ]
  },
  {
   "cell_type": "markdown",
   "id": "4b894d0d",
   "metadata": {},
   "source": [
    "### After fixing the depths file"
   ]
  },
  {
   "cell_type": "code",
   "execution_count": 470,
   "id": "facb3e2a",
   "metadata": {},
   "outputs": [
    {
     "data": {
      "text/plain": [
       "(['clusters_mmseq.tsv'],\n",
       " ['clusters_mmseq_genus.tsv'],\n",
       " ['clusters_concat.tsv', 'clusters_labels.tsv', 'clusters_vamb.tsv'],\n",
       " ['clusters_mixed1_genus.tsv',\n",
       "  'clusters_mixed10_genus.tsv',\n",
       "  'clusters_mixed50_genus.tsv',\n",
       "  'clusters_mixed100_genus.tsv'],\n",
       " ['clusters_mixed1_species.tsv',\n",
       "  'clusters_mixed10_species.tsv',\n",
       "  'clusters_mixed50_species.tsv',\n",
       "  'clusters_mixed100_species.tsv'])"
      ]
     },
     "execution_count": 470,
     "metadata": {},
     "output_type": "execute_result"
    }
   ],
   "source": [
    "clusters_mmseq, clusters_mmseq_genus, clusters_one, clusters_mixed_genus, clusters_mixed_species"
   ]
  },
  {
   "cell_type": "code",
   "execution_count": 454,
   "id": "c73846de",
   "metadata": {},
   "outputs": [],
   "source": [
    "bins_mmseq = [bin_saved_clusters(c) for c in clusters_mmseq]\n",
    "bins_mmseq_genus = [bin_saved_clusters(c) for c in clusters_mmseq_genus]\n",
    "bins_one = [bin_saved_clusters(c) for c in clusters_one]\n",
    "bins_concat, bins_labels, bins_vamb = bins_one"
   ]
  },
  {
   "cell_type": "code",
   "execution_count": 455,
   "id": "c766cfe2",
   "metadata": {},
   "outputs": [
    {
     "data": {
      "image/png": "[encoded data removed]",
      "text/plain": [
       "<Figure size 864x720 with 1 Axes>"
      ]
     },
     "metadata": {
      "needs_background": "light"
     },
     "output_type": "display_data"
    }
   ],
   "source": [
    "import matplotlib\n",
    "matplotlib.rcParams.update({'font.size': 18})\n",
    "plt.figure(figsize=(12, 10))\n",
    "rec, prec = 0.9, 0.95\n",
    "\n",
    "plt.axhline(y=bins_labels.counters[0][(rec, prec)], color='navy', label='Strains')\n",
    "plt.text(87 + 1, 356 + 1, f'{bins_labels.counters[0][(rec, prec)]} strains')\n",
    "\n",
    "plt.axhline(y=bins_concat.counters[0][(rec, prec)], color='purple', label='Vamb+Strains')\n",
    "plt.text(87 + 1, bins_concat.counters[0][(rec, prec)] + 1, f'{bins_concat.counters[0][(rec, prec)]} strains')\n",
    "\n",
    "plt.axhline(y=bins_vamb.counters[0][(rec, prec)], color='crimson', label='Vamb')\n",
    "plt.text(87 + 1, bins_vamb.counters[0][(rec, prec)] + 1, f'{bins_vamb.counters[0][(rec, prec)]} strains')\n",
    "\n",
    "\n",
    "plt.plot(sup_levels, [b.counters[0][(rec, prec)] for b in bins_fix], 'o--', label='Semisupervised, ground truth Vamb+Strains')\n",
    "# plt.plot(sup_levels, [b.counters[0][(rec, prec)] for b in bins_vamb_sup], 'o--', label='Semisupervised, input Vamb')\n",
    "# plt.plot(sup_levels, [b.counters[0][(rec, prec)] for b in bins_labels_sup], 'o--', label='Semisupervised, input Labels')\n",
    "\n",
    "plt.plot(sup_levels, [b.counters[0][(rec, prec)] for b in bins_genus], 'o--', label='Semisupervised, ground truth Vamb+Genus')\n",
    "plt.plot(sup_levels, [b.counters[0][(rec, prec)] for b in bins_species], 'o--', label='Semisupervised, ground truth Vamb+Species')\n",
    "\n",
    "\n",
    "\n",
    "plt.scatter([64054.0*100 / 187685], [b.counters[0][(rec, prec)] for b in bins_mmseq], \n",
    "            s=[200], marker='X', label='mmseq_species', color='darkgreen')\n",
    "a = bins_mmseq[0].counters[0][(rec, prec)]\n",
    "plt.text(64054.0*100 / 187685 + 1, a + 1, f'{a} strains')\n",
    "\n",
    "plt.scatter([161719.0*100 / 187685], [b.counters[0][(rec, prec)] for b in bins_mmseq_genus], \n",
    "            s=[200], marker='X', label='mmseq_genus', color='purple')\n",
    "a = bins_mmseq_genus[0].counters[0][(rec, prec)]\n",
    "plt.text(161719.0*100 / 187685 + 1, a + 1, f'{a} strains')\n",
    "\n",
    "plt.ylim((0, 370))\n",
    "# plt.xlim((0, 100))\n",
    "plt.ylabel(f'# of NC strains (recall > {rec}, precision > {prec})')\n",
    "plt.xlabel('Supervision level, %')\n",
    "plt.legend()\n",
    "plt.savefig('/Users/nmb127/Downloads/mmseq_depths.png')\n",
    "plt.show()"
   ]
  },
  {
   "cell_type": "code",
   "execution_count": null,
   "id": "426bb189",
   "metadata": {},
   "outputs": [],
   "source": []
  }
 ],
 "metadata": {
  "kernelspec": {
   "display_name": "Python 3 (ipykernel)",
   "language": "python",
   "name": "python3"
  },
  "language_info": {
   "codemirror_mode": {
    "name": "ipython",
    "version": 3
   },
   "file_extension": ".py",
   "mimetype": "text/x-python",
   "name": "python",
   "nbconvert_exporter": "python",
   "pygments_lexer": "ipython3",
   "version": "3.9.7"
  }
 },
 "nbformat": 4,
 "nbformat_minor": 5
}
