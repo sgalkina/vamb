{
 "cells": [
  {
   "cell_type": "code",
   "execution_count": 22,
   "id": "e594448c",
   "metadata": {},
   "outputs": [],
   "source": [
    "import sys\n",
    "import os\n",
    "import vamb\n",
    "import torch\n",
    "import pickle\n",
    "import numpy as np\n",
    "import pandas as pd\n",
    "import matplotlib.pyplot as plt\n",
    "from collections import defaultdict"
   ]
  },
  {
   "cell_type": "markdown",
   "id": "5103c6ac",
   "metadata": {},
   "source": [
    "## Ground truth experiment"
   ]
  },
  {
   "cell_type": "code",
   "execution_count": 10,
   "id": "3a74abc5",
   "metadata": {},
   "outputs": [],
   "source": [
    "PATH_VAMB = '/Users/nmb127/Documents/vamb'\n",
    "PATH_VAMB_DATA = '/Users/nmb127/Documents/vamb_data'"
   ]
  },
  {
   "cell_type": "code",
   "execution_count": 11,
   "id": "2a6e0d4b",
   "metadata": {},
   "outputs": [],
   "source": [
    "def parse_logfile(filepath):\n",
    "    results = defaultdict(list)\n",
    "    with open(f'{PATH_VAMB}/{filepath}') as f:\n",
    "        for line in f:\n",
    "            if line.startswith('loss_vamb'):\n",
    "                for metric in line.split(', '):\n",
    "                    k, v = metric.split(' ')\n",
    "                    results[k].append(float(v))\n",
    "    return results"
   ]
  },
  {
   "cell_type": "code",
   "execution_count": 33,
   "id": "2346d47c",
   "metadata": {},
   "outputs": [],
   "source": [
    "def filterclusters(clusters, lengthof):\n",
    "    filtered_bins = dict()\n",
    "    for medoid, contigs in clusters.items():\n",
    "        binsize = sum(lengthof[contig] for contig in contigs)\n",
    "    \n",
    "        if binsize >= 200000:\n",
    "            filtered_bins[medoid] = contigs\n",
    "    \n",
    "    return filtered_bins"
   ]
  },
  {
   "cell_type": "code",
   "execution_count": 30,
   "id": "65452c0e",
   "metadata": {},
   "outputs": [],
   "source": [
    "contig_path = f'{PATH_VAMB_DATA}/data/airways/contigs.fna'\n",
    "with vamb.vambtools.Reader(contig_path, 'rb') as filehandle:\n",
    "    tnfs, CONTIGNAMES, LENGTHS = vamb.parsecontigs.read_contigs(filehandle)\n",
    "rpkms = vamb.vambtools.read_npz(f'{PATH_VAMB_DATA}/data/airways/abundance.npz')\n",
    "vae = vamb.encode.VAE(nsamples=rpkms.shape[1])\n",
    "_, MASK = vamb.encode.make_dataloader(rpkms, tnfs)"
   ]
  },
  {
   "cell_type": "code",
   "execution_count": 17,
   "id": "3097b1a8",
   "metadata": {},
   "outputs": [
    {
     "name": "stdout",
     "output_type": "stream",
     "text": [
      "S23C236194\tOTU_97.38699.0\tCP013953.1\t405835\t408637\r\n",
      "S23C27593\tOTU_97.44406.0\tCP015430.1\t1591817\t1594726\r\n",
      "S23C53437\tOTU_97.35057.0\tCP012974.1\t260542\t266700\r\n",
      "S23C191539\tOTU_97.16597.0\tCP010116.1\t1675948\t1678686\r\n",
      "S23C111210\tOTU_97.20680.0\tCP013619.1\t408162\t411064\r\n",
      "S23C216129\tOTU_97.409.0\tCP013957.1\t103779\t106015\r\n",
      "S23C2782\tOTU_97.45246.0\tCP007573.1\t1941619\t1956892\r\n",
      "S23C9729\tOTU_97.44851.0\tCP015426.1\t1099587\t1121671\r\n",
      "S23C36165\tOTU_97.409.0\tCP013957.1\t427732\t429801\r\n",
      "S23C90379\tOTU_97.2104.0\tCP019196.1\t300725\t303071\r\n"
     ]
    }
   ],
   "source": [
    "reference_path = f'{PATH_VAMB_DATA}/data/airways/reference.tsv'\n",
    "\n",
    "!head $reference_path # show first 10 lines of reference file\n",
    "\n",
    "with open(reference_path) as reference_file:\n",
    "    REFERENCE = vamb.benchmark.Reference.from_file(reference_file)"
   ]
  },
  {
   "cell_type": "code",
   "execution_count": 165,
   "id": "cf2cbea9",
   "metadata": {},
   "outputs": [
    {
     "name": "stdout",
     "output_type": "stream",
     "text": [
      "OTU_97.39766.0\tCorynebacterium pseudotuberculosis\tCorynebacterium\r\n",
      "OTU_97.7195.0\tAcinetobacter baumannii\tAcinetobacter\r\n",
      "OTU_97.34725.0\tStaphylococcus aureus\tStaphylococcus\r\n",
      "OTU_97.1051.0\tCorynebacterium ulcerans\tCorynebacterium\r\n",
      "OTU_97.34663.0\tStaphylococcus aureus\tStaphylococcus\r\n",
      "OTU_97.8581.0\tCorynebacterium doosanense\tCorynebacterium\r\n",
      "OTU_97.8702.0\tFlavobacterium psychrophilum\tFlavobacterium\r\n",
      "OTU_97.31374.1\tCorynebacterium ulcerans\tCorynebacterium\r\n",
      "OTU_97.479.0\tFlavobacterium gilvum\tFlavobacterium\r\n",
      "OTU_97.37290.0\tStaphylococcus equorum\tStaphylococcus\r\n"
     ]
    }
   ],
   "source": [
    "taxonomy_path = '/Users/nmb127/Documents/vamb_data/data/airways/taxonomy.tsv'\n",
    "\n",
    "!head $taxonomy_path # show first 10 lines of reference file\n",
    "\n",
    "with open(taxonomy_path) as taxonomy_file:\n",
    "    reference.load_tax_file(taxonomy_file)"
   ]
  },
  {
   "cell_type": "code",
   "execution_count": 57,
   "id": "8d45b275",
   "metadata": {},
   "outputs": [],
   "source": [
    "def save_clusters(filepath, cluster_path, indices=None):\n",
    "    print(filepath)\n",
    "    latent_labels = np.load(f'{PATH_VAMB}/{filepath}')\n",
    "    if indices:\n",
    "        print(len(indices))\n",
    "        contignames, mask, lengths = \\\n",
    "            np.array(CONTIGNAMES)[indices], np.array(MASK)[indices], np.array(LENGTHS)[indices]\n",
    "    else:\n",
    "        contignames, mask, lengths = CONTIGNAMES, MASK, LENGTHS\n",
    "    filtered_labels = [n for (n,m) in zip(contignames, mask) if m]\n",
    "    cluster_iterator = vamb.cluster.cluster(latent_labels, labels=filtered_labels)\n",
    "    clusters = dict(cluster_iterator)\n",
    "\n",
    "    medoid, contigs = next(iter(clusters.items()))\n",
    "    print('First key:', medoid, '(of type:', type(medoid), ')')\n",
    "    print('Type of values:', type(contigs))\n",
    "    print('First element of value:', next(iter(contigs)), 'of type:', type(next(iter(contigs))))\n",
    "\n",
    "    lengthof = dict(zip(contignames, lengths))\n",
    "    filtered_bins = filterclusters(vamb.vambtools.binsplit(clusters, 'C'), lengthof)\n",
    "    print('Number of bins before splitting and filtering:', len(clusters))\n",
    "    print('Number of bins after splitting and filtering:', len(filtered_bins))\n",
    "\n",
    "    with open(f'{PATH_VAMB}/{cluster_path}', 'w') as file:\n",
    "        vamb.vambtools.write_clusters(file, filtered_bins)\n",
    "\n",
    "\n",
    "def bin_saved_clusters(cluster_path):\n",
    "    with open(f'{PATH_VAMB}/{cluster_path}') as clusters_file:\n",
    "        vamb_clusters = vamb.vambtools.read_clusters(clusters_file)\n",
    "        vamb_clusters_clean = {k: [i.strip() for i in v] for k, v in vamb_clusters.items()}\n",
    "        vamb_bins = vamb.benchmark.Binning(vamb_clusters_clean, REFERENCE, minsize=200000)\n",
    "    return vamb_bins\n"
   ]
  },
  {
   "cell_type": "code",
   "execution_count": 93,
   "id": "888820a9",
   "metadata": {},
   "outputs": [],
   "source": [
    "def save_clusters_both(filepath_vamb, filepath_both, indices_vamb, indices_both, cluster_path):\n",
    "    latent_vamb = np.load(f'{PATH_VAMB}/{filepath_vamb}')\n",
    "    latent_both = np.load(f'{PATH_VAMB}/{filepath_both}')\n",
    "    new_indices = [np.argwhere(indices_vamb == i)[0][0] for i in indices_both]\n",
    "    print(latent_both.shape, len(new_indices), indices_both.shape)\n",
    "    latent_vamb[new_indices] = latent_both\n",
    "    contignames, mask, lengths = \\\n",
    "        np.array(CONTIGNAMES)[indices_vamb], np.array(MASK)[indices_vamb], np.array(LENGTHS)[indices_vamb]\n",
    "        \n",
    "    filtered_labels = [n for (n,m) in zip(contignames, mask) if m]\n",
    "    cluster_iterator = vamb.cluster.cluster(latent_vamb, labels=filtered_labels)\n",
    "    clusters = dict(cluster_iterator)\n",
    "\n",
    "    medoid, contigs = next(iter(clusters.items()))\n",
    "    print('First key:', medoid, '(of type:', type(medoid), ')')\n",
    "    print('Type of values:', type(contigs))\n",
    "    print('First element of value:', next(iter(contigs)), 'of type:', type(next(iter(contigs))))\n",
    "\n",
    "    lengthof = dict(zip(contignames, lengths))\n",
    "    filtered_bins = filterclusters(vamb.vambtools.binsplit(clusters, 'C'), lengthof)\n",
    "    print('Number of bins before splitting and filtering:', len(clusters))\n",
    "    print('Number of bins after splitting and filtering:', len(filtered_bins))\n",
    "\n",
    "    with open(f'{PATH_VAMB}/{cluster_path}', 'w') as file:\n",
    "        vamb.vambtools.write_clusters(file, filtered_bins)"
   ]
  },
  {
   "cell_type": "code",
   "execution_count": 104,
   "id": "18cd3674",
   "metadata": {},
   "outputs": [],
   "source": [
    "filepaths = [\n",
    "    'latent_trained_semisupervised_1_both.npy',\n",
    "    'latent_trained_semisupervised_1_vamb.npy',\n",
    "    'latent_trained_semisupervised_1_labels.npy',\n",
    "    \n",
    "    'latent_trained_semisupervised_10_both.npy',\n",
    "    'latent_trained_semisupervised_10_vamb.npy',\n",
    "    'latent_trained_semisupervised_10_labels.npy',\n",
    "    \n",
    "    'latent_trained_semisupervised_50_both.npy',\n",
    "    'latent_trained_semisupervised_50_vamb.npy',\n",
    "    'latent_trained_semisupervised_50_labels.npy',\n",
    "]\n",
    "clusters = [\n",
    "    'clusters_1_both.tsv',\n",
    "    'clusters_1_vamb.tsv',\n",
    "    'clusters_1_labels.tsv',\n",
    "    \n",
    "    'clusters_10_both.tsv',\n",
    "    'clusters_10_vamb.tsv',\n",
    "    'clusters_10_labels.tsv',\n",
    "    \n",
    "    'clusters_50_both.npy',\n",
    "    'clusters_50_vamb.npy',\n",
    "    'clusters_50_labels.npy',\n",
    "]\n",
    "filepaths_100 = [\n",
    "    'latent_trained_semisupervised_100_both.npy',\n",
    "    'latent_trained_semisupervised_100_vamb.npy',\n",
    "    'latent_trained_semisupervised_100_labels.npy',\n",
    "]\n",
    "clusters_100 = [\n",
    "    'clusters_100_both.tsv',\n",
    "    'clusters_100_vamb.tsv',\n",
    "    'clusters_100_labels.tsv',\n",
    "]\n",
    "filepaths_one = [\n",
    "    'latent_trained_semisupervised.npy',\n",
    "    'latent_trained_labels.npy',\n",
    "    'latent_trained.npy',\n",
    "]\n",
    "clusters_one = [\n",
    "    'clusters_concat.tsv',\n",
    "    'clusters_labels.tsv',\n",
    "    'clusters_vamb.tsv',\n",
    "]\n",
    "clusters_mixed = [\n",
    "    'clusters_mixed1.tsv',\n",
    "    'clusters_mixed10.tsv',\n",
    "    'clusters_mixed50.tsv',\n",
    "    'clusters_mixed100.tsv',\n",
    "]\n",
    "clusters_fix = [\n",
    "    'clusters_mixed1_fix.tsv',\n",
    "    'clusters_mixed10_fix.tsv',\n",
    "    'clusters_mixed50_fix.tsv',\n",
    "    'clusters_mixed100_fix.tsv',\n",
    "]"
   ]
  },
  {
   "cell_type": "code",
   "execution_count": 108,
   "id": "2109dd3c",
   "metadata": {},
   "outputs": [],
   "source": [
    "filepaths_one_fix = [\n",
    "    'latent_trained_semisupervised_fix_1_both.npy',\n",
    "    'latent_trained_semisupervised_fix_1_vamb.npy',\n",
    "    'latent_trained_semisupervised_fix_1_labels.npy',\n",
    "    \n",
    "    'latent_trained_semisupervised_fix_10_both.npy',\n",
    "    'latent_trained_semisupervised_fix_10_vamb.npy',\n",
    "    'latent_trained_semisupervised_fix_10_labels.npy',\n",
    "    \n",
    "    'latent_trained_semisupervised_fix_50_both.npy',\n",
    "    'latent_trained_semisupervised_fix_50_vamb.npy',\n",
    "    'latent_trained_semisupervised_fix_50_labels.npy',\n",
    "    \n",
    "    'latent_trained_semisupervised_fix_100_both.npy',\n",
    "    'latent_trained_semisupervised_fix_100_vamb.npy',\n",
    "    'latent_trained_semisupervised_fix_100_labels.npy',\n",
    "]\n",
    "clusters_one_fix = [\n",
    "    'clusters_1_both_fix.tsv',\n",
    "    'clusters_1_vamb_fix.tsv',\n",
    "    'clusters_1_labels_fix.tsv',\n",
    "    \n",
    "    'clusters_10_both_fix.tsv',\n",
    "    'clusters_10_vamb_fix.tsv',\n",
    "    'clusters_10_labels_fix.tsv',\n",
    "    \n",
    "    'clusters_50_both_fix.npy',\n",
    "    'clusters_50_vamb_fix.npy',\n",
    "    'clusters_50_labels_fix.npy',\n",
    "    \n",
    "    'clusters_100_both_fix.tsv',\n",
    "    'clusters_100_vamb_fix.tsv',\n",
    "    'clusters_100_labels_fix.tsv',\n",
    "]"
   ]
  },
  {
   "cell_type": "code",
   "execution_count": 101,
   "id": "2255d5b0",
   "metadata": {},
   "outputs": [],
   "source": [
    "with open(f'{PATH_VAMB}/indices_1.pickle', 'rb') as fp:\n",
    "    indices1_x, indices1_y, indices1_sup = pickle.load(fp)\n",
    "with open(f'{PATH_VAMB}/indices_10.pickle', 'rb') as fp:\n",
    "    indices10_x, indices10_y, indices10_sup = pickle.load(fp)\n",
    "with open(f'{PATH_VAMB}/indices_50.pickle', 'rb') as fp:\n",
    "    indices50_x, indices50_y, indices50_sup = pickle.load(fp)\n",
    "with open(f'{PATH_VAMB}/indices_100.pickle', 'rb') as fp:\n",
    "    indices100_x, indices100_y, indices100_sup = pickle.load(fp)\n",
    "    \n",
    "with open(f'{PATH_VAMB}/indices_fix_1.pickle', 'rb') as fp:\n",
    "    indices1_fix_x, indices1_fix_y, indices1_fix_sup = pickle.load(fp)\n",
    "with open(f'{PATH_VAMB}/indices_fix_10.pickle', 'rb') as fp:\n",
    "    indices10_fix_x, indices10_fix_y, indices10_fix_sup = pickle.load(fp)\n",
    "with open(f'{PATH_VAMB}/indices_fix_50.pickle', 'rb') as fp:\n",
    "    indices50_fix_x, indices50_fix_y, indices50_fix_sup = pickle.load(fp)\n",
    "with open(f'{PATH_VAMB}/indices_fix_100.pickle', 'rb') as fp:\n",
    "    indices100_fix_x, indices100_fix_y, indices100_fix_sup = pickle.load(fp)"
   ]
  },
  {
   "cell_type": "code",
   "execution_count": 172,
   "id": "4bacd39a",
   "metadata": {},
   "outputs": [],
   "source": [
    "with open(f'{PATH_VAMB}/indices_mmseq.pickle', 'rb') as fp:\n",
    "    indices_mmseq = pickle.load(fp)"
   ]
  },
  {
   "cell_type": "code",
   "execution_count": 51,
   "id": "f83d7b8a",
   "metadata": {},
   "outputs": [],
   "source": [
    "indices = [\n",
    "    indices1_sup, indices1_x, indices1_y,\n",
    "    indices10_sup, indices10_x, indices10_y,\n",
    "    indices50_sup, indices50_x, indices50_y,\n",
    "]\n",
    "indices_100 = [\n",
    "    indices100_sup, indices100_x, indices100_y,\n",
    "]"
   ]
  },
  {
   "cell_type": "code",
   "execution_count": 109,
   "id": "8b706927",
   "metadata": {},
   "outputs": [],
   "source": [
    "indices_fix = [\n",
    "    indices1_fix_sup, indices1_fix_x, indices1_fix_y,\n",
    "    indices10_fix_sup, indices10_fix_x, indices10_fix_y,\n",
    "    indices50_fix_sup, indices50_fix_x, indices50_fix_y,\n",
    "    indices100_fix_sup, indices100_fix_x, indices100_fix_y,\n",
    "]"
   ]
  },
  {
   "cell_type": "code",
   "execution_count": 35,
   "id": "f8f955ec",
   "metadata": {
    "collapsed": true
   },
   "outputs": [
    {
     "name": "stdout",
     "output_type": "stream",
     "text": [
      "First key: S7C60636 (of type: <class 'numpy.str_'> )\n",
      "Type of values: <class 'set'>\n",
      "First element of value: S27C94017 of type: <class 'numpy.str_'>\n",
      "Number of bins before splitting and filtering: 1\n",
      "Number of bins after splitting and filtering: 10\n",
      "First key: S27C166967 (of type: <class 'numpy.str_'> )\n",
      "Type of values: <class 'set'>\n",
      "First element of value: S27C166967 of type: <class 'numpy.str_'>\n",
      "Number of bins before splitting and filtering: 36231\n",
      "Number of bins after splitting and filtering: 427\n",
      "First key: S27C8938 (of type: <class 'numpy.str_'> )\n",
      "Type of values: <class 'set'>\n",
      "First element of value: S27C6358 of type: <class 'numpy.str_'>\n",
      "Number of bins before splitting and filtering: 639\n",
      "Number of bins after splitting and filtering: 717\n",
      "First key: S7C280317 (of type: <class 'numpy.str_'> )\n",
      "Type of values: <class 'set'>\n",
      "First element of value: S7C280317 of type: <class 'numpy.str_'>\n",
      "Number of bins before splitting and filtering: 45\n",
      "Number of bins after splitting and filtering: 10\n",
      "First key: S27C148411 (of type: <class 'numpy.str_'> )\n",
      "Type of values: <class 'set'>\n",
      "First element of value: S27C148411 of type: <class 'numpy.str_'>\n",
      "Number of bins before splitting and filtering: 39156\n",
      "Number of bins after splitting and filtering: 421\n",
      "First key: S11C7086 (of type: <class 'numpy.str_'> )\n",
      "Type of values: <class 'set'>\n",
      "First element of value: S12C200206 of type: <class 'numpy.str_'>\n",
      "Number of bins before splitting and filtering: 639\n",
      "Number of bins after splitting and filtering: 717\n",
      "First key: S7C477616 (of type: <class 'numpy.str_'> )\n",
      "Type of values: <class 'set'>\n",
      "First element of value: S27C170954 of type: <class 'numpy.str_'>\n",
      "Number of bins before splitting and filtering: 2069\n",
      "Number of bins after splitting and filtering: 13\n",
      "First key: S26C238967 (of type: <class 'numpy.str_'> )\n",
      "Type of values: <class 'set'>\n",
      "First element of value: S26C238967 of type: <class 'numpy.str_'>\n",
      "Number of bins before splitting and filtering: 38082\n",
      "Number of bins after splitting and filtering: 424\n",
      "First key: S7C9606 (of type: <class 'numpy.str_'> )\n",
      "Type of values: <class 'set'>\n",
      "First element of value: S7C72951 of type: <class 'numpy.str_'>\n",
      "Number of bins before splitting and filtering: 639\n",
      "Number of bins after splitting and filtering: 717\n"
     ]
    }
   ],
   "source": [
    "for p1, p2, ii in zip(filepaths, clusters, indices):\n",
    "    save_clusters(p1, p2, indices=ii)"
   ]
  },
  {
   "cell_type": "code",
   "execution_count": 58,
   "id": "8a99293f",
   "metadata": {
    "collapsed": true
   },
   "outputs": [
    {
     "name": "stdout",
     "output_type": "stream",
     "text": [
      "latent_trained_semisupervised_100_both.npy\n",
      "187685\n",
      "First key: S27C141880 (of type: <class 'numpy.str_'> )\n",
      "Type of values: <class 'set'>\n",
      "First element of value: S27C141880 of type: <class 'numpy.str_'>\n",
      "Number of bins before splitting and filtering: 12725\n",
      "Number of bins after splitting and filtering: 20\n",
      "latent_trained_semisupervised_100_vamb.npy\n",
      "187685\n"
     ]
    },
    {
     "ename": "KeyboardInterrupt",
     "evalue": "",
     "output_type": "error",
     "traceback": [
      "\u001b[0;31m---------------------------------------------------------------------------\u001b[0m",
      "\u001b[0;31mKeyboardInterrupt\u001b[0m                         Traceback (most recent call last)",
      "\u001b[0;32m/var/folders/5b/1dk8bnws25l6w502hfdc8xw80000gn/T/ipykernel_12840/1266706125.py\u001b[0m in \u001b[0;36m<module>\u001b[0;34m\u001b[0m\n\u001b[1;32m      1\u001b[0m \u001b[0;32mfor\u001b[0m \u001b[0mp1\u001b[0m\u001b[0;34m,\u001b[0m \u001b[0mp2\u001b[0m\u001b[0;34m,\u001b[0m \u001b[0mii\u001b[0m \u001b[0;32min\u001b[0m \u001b[0mzip\u001b[0m\u001b[0;34m(\u001b[0m\u001b[0mfilepaths_100\u001b[0m\u001b[0;34m,\u001b[0m \u001b[0mclusters_100\u001b[0m\u001b[0;34m,\u001b[0m \u001b[0mindices_100\u001b[0m\u001b[0;34m)\u001b[0m\u001b[0;34m:\u001b[0m\u001b[0;34m\u001b[0m\u001b[0;34m\u001b[0m\u001b[0m\n\u001b[0;32m----> 2\u001b[0;31m     \u001b[0msave_clusters\u001b[0m\u001b[0;34m(\u001b[0m\u001b[0mp1\u001b[0m\u001b[0;34m,\u001b[0m \u001b[0mp2\u001b[0m\u001b[0;34m,\u001b[0m \u001b[0mindices\u001b[0m\u001b[0;34m=\u001b[0m\u001b[0mii\u001b[0m\u001b[0;34m)\u001b[0m\u001b[0;34m\u001b[0m\u001b[0;34m\u001b[0m\u001b[0m\n\u001b[0m",
      "\u001b[0;32m/var/folders/5b/1dk8bnws25l6w502hfdc8xw80000gn/T/ipykernel_12840/1872540695.py\u001b[0m in \u001b[0;36msave_clusters\u001b[0;34m(filepath, cluster_path, indices)\u001b[0m\n\u001b[1;32m     10\u001b[0m     \u001b[0mfiltered_labels\u001b[0m \u001b[0;34m=\u001b[0m \u001b[0;34m[\u001b[0m\u001b[0mn\u001b[0m \u001b[0;32mfor\u001b[0m \u001b[0;34m(\u001b[0m\u001b[0mn\u001b[0m\u001b[0;34m,\u001b[0m\u001b[0mm\u001b[0m\u001b[0;34m)\u001b[0m \u001b[0;32min\u001b[0m \u001b[0mzip\u001b[0m\u001b[0;34m(\u001b[0m\u001b[0mcontignames\u001b[0m\u001b[0;34m,\u001b[0m \u001b[0mmask\u001b[0m\u001b[0;34m)\u001b[0m \u001b[0;32mif\u001b[0m \u001b[0mm\u001b[0m\u001b[0;34m]\u001b[0m\u001b[0;34m\u001b[0m\u001b[0;34m\u001b[0m\u001b[0m\n\u001b[1;32m     11\u001b[0m     \u001b[0mcluster_iterator\u001b[0m \u001b[0;34m=\u001b[0m \u001b[0mvamb\u001b[0m\u001b[0;34m.\u001b[0m\u001b[0mcluster\u001b[0m\u001b[0;34m.\u001b[0m\u001b[0mcluster\u001b[0m\u001b[0;34m(\u001b[0m\u001b[0mlatent_labels\u001b[0m\u001b[0;34m,\u001b[0m \u001b[0mlabels\u001b[0m\u001b[0;34m=\u001b[0m\u001b[0mfiltered_labels\u001b[0m\u001b[0;34m)\u001b[0m\u001b[0;34m\u001b[0m\u001b[0;34m\u001b[0m\u001b[0m\n\u001b[0;32m---> 12\u001b[0;31m     \u001b[0mclusters\u001b[0m \u001b[0;34m=\u001b[0m \u001b[0mdict\u001b[0m\u001b[0;34m(\u001b[0m\u001b[0mcluster_iterator\u001b[0m\u001b[0;34m)\u001b[0m\u001b[0;34m\u001b[0m\u001b[0;34m\u001b[0m\u001b[0m\n\u001b[0m\u001b[1;32m     13\u001b[0m \u001b[0;34m\u001b[0m\u001b[0m\n\u001b[1;32m     14\u001b[0m     \u001b[0mmedoid\u001b[0m\u001b[0;34m,\u001b[0m \u001b[0mcontigs\u001b[0m \u001b[0;34m=\u001b[0m \u001b[0mnext\u001b[0m\u001b[0;34m(\u001b[0m\u001b[0miter\u001b[0m\u001b[0;34m(\u001b[0m\u001b[0mclusters\u001b[0m\u001b[0;34m.\u001b[0m\u001b[0mitems\u001b[0m\u001b[0;34m(\u001b[0m\u001b[0;34m)\u001b[0m\u001b[0;34m)\u001b[0m\u001b[0;34m)\u001b[0m\u001b[0;34m\u001b[0m\u001b[0;34m\u001b[0m\u001b[0m\n",
      "\u001b[0;32m~/Documents/vamb/vamb/cluster.py\u001b[0m in \u001b[0;36mcluster\u001b[0;34m(matrix, labels, maxsteps, windowsize, minsuccesses, destroy, normalized, cuda)\u001b[0m\n\u001b[1;32m    456\u001b[0m \u001b[0;34m\u001b[0m\u001b[0m\n\u001b[1;32m    457\u001b[0m     \u001b[0mit\u001b[0m \u001b[0;34m=\u001b[0m \u001b[0mClusterGenerator\u001b[0m\u001b[0;34m(\u001b[0m\u001b[0mmatrix\u001b[0m\u001b[0;34m,\u001b[0m \u001b[0mmaxsteps\u001b[0m\u001b[0;34m,\u001b[0m \u001b[0mwindowsize\u001b[0m\u001b[0;34m,\u001b[0m \u001b[0mminsuccesses\u001b[0m\u001b[0;34m,\u001b[0m \u001b[0mdestroy\u001b[0m\u001b[0;34m,\u001b[0m \u001b[0mnormalized\u001b[0m\u001b[0;34m,\u001b[0m \u001b[0mcuda\u001b[0m\u001b[0;34m)\u001b[0m\u001b[0;34m\u001b[0m\u001b[0;34m\u001b[0m\u001b[0m\n\u001b[0;32m--> 458\u001b[0;31m     \u001b[0;32mfor\u001b[0m \u001b[0mcluster\u001b[0m \u001b[0;32min\u001b[0m \u001b[0mit\u001b[0m\u001b[0;34m:\u001b[0m\u001b[0;34m\u001b[0m\u001b[0;34m\u001b[0m\u001b[0m\n\u001b[0m\u001b[1;32m    459\u001b[0m         \u001b[0;32myield\u001b[0m \u001b[0mcluster\u001b[0m\u001b[0;34m.\u001b[0m\u001b[0mas_tuple\u001b[0m\u001b[0;34m(\u001b[0m\u001b[0mlabels\u001b[0m\u001b[0;34m)\u001b[0m\u001b[0;34m\u001b[0m\u001b[0;34m\u001b[0m\u001b[0m\n\u001b[1;32m    460\u001b[0m \u001b[0;34m\u001b[0m\u001b[0m\n",
      "\u001b[0;32m~/Documents/vamb/vamb/cluster.py\u001b[0m in \u001b[0;36m__next__\u001b[0;34m(self)\u001b[0m\n\u001b[1;32m    195\u001b[0m             \u001b[0;32mraise\u001b[0m \u001b[0mStopIteration\u001b[0m\u001b[0;34m\u001b[0m\u001b[0;34m\u001b[0m\u001b[0m\n\u001b[1;32m    196\u001b[0m \u001b[0;34m\u001b[0m\u001b[0m\n\u001b[0;32m--> 197\u001b[0;31m         \u001b[0mcluster\u001b[0m\u001b[0;34m,\u001b[0m \u001b[0mmedoid\u001b[0m\u001b[0;34m,\u001b[0m \u001b[0mpoints\u001b[0m \u001b[0;34m=\u001b[0m \u001b[0mself\u001b[0m\u001b[0;34m.\u001b[0m\u001b[0m_findcluster\u001b[0m\u001b[0;34m(\u001b[0m\u001b[0;34m)\u001b[0m\u001b[0;34m\u001b[0m\u001b[0;34m\u001b[0m\u001b[0m\n\u001b[0m\u001b[1;32m    198\u001b[0m         \u001b[0mself\u001b[0m\u001b[0;34m.\u001b[0m\u001b[0mnclusters\u001b[0m \u001b[0;34m+=\u001b[0m \u001b[0;36m1\u001b[0m\u001b[0;34m\u001b[0m\u001b[0;34m\u001b[0m\u001b[0m\n\u001b[1;32m    199\u001b[0m \u001b[0;34m\u001b[0m\u001b[0m\n",
      "\u001b[0;32m~/Documents/vamb/vamb/cluster.py\u001b[0m in \u001b[0;36m_findcluster\u001b[0;34m(self)\u001b[0m\n\u001b[1;32m    226\u001b[0m                 \u001b[0mself\u001b[0m\u001b[0;34m.\u001b[0m\u001b[0mseed\u001b[0m \u001b[0;34m=\u001b[0m \u001b[0;34m(\u001b[0m\u001b[0mself\u001b[0m\u001b[0;34m.\u001b[0m\u001b[0mseed\u001b[0m \u001b[0;34m+\u001b[0m \u001b[0;36m1\u001b[0m\u001b[0;34m)\u001b[0m \u001b[0;34m%\u001b[0m \u001b[0mlen\u001b[0m\u001b[0;34m(\u001b[0m\u001b[0mself\u001b[0m\u001b[0;34m.\u001b[0m\u001b[0mmatrix\u001b[0m\u001b[0;34m)\u001b[0m\u001b[0;34m\u001b[0m\u001b[0;34m\u001b[0m\u001b[0m\n\u001b[1;32m    227\u001b[0m \u001b[0;34m\u001b[0m\u001b[0m\n\u001b[0;32m--> 228\u001b[0;31m             \u001b[0mmedoid\u001b[0m\u001b[0;34m,\u001b[0m \u001b[0mdistances\u001b[0m \u001b[0;34m=\u001b[0m \u001b[0m_wander_medoid\u001b[0m\u001b[0;34m(\u001b[0m\u001b[0mself\u001b[0m\u001b[0;34m.\u001b[0m\u001b[0mmatrix\u001b[0m\u001b[0;34m,\u001b[0m \u001b[0mself\u001b[0m\u001b[0;34m.\u001b[0m\u001b[0mkept_mask\u001b[0m\u001b[0;34m,\u001b[0m \u001b[0mself\u001b[0m\u001b[0;34m.\u001b[0m\u001b[0mseed\u001b[0m\u001b[0;34m,\u001b[0m \u001b[0mself\u001b[0m\u001b[0;34m.\u001b[0m\u001b[0mMAXSTEPS\u001b[0m\u001b[0;34m,\u001b[0m \u001b[0mself\u001b[0m\u001b[0;34m.\u001b[0m\u001b[0mRNG\u001b[0m\u001b[0;34m,\u001b[0m \u001b[0mself\u001b[0m\u001b[0;34m.\u001b[0m\u001b[0mCUDA\u001b[0m\u001b[0;34m)\u001b[0m\u001b[0;34m\u001b[0m\u001b[0;34m\u001b[0m\u001b[0m\n\u001b[0m\u001b[1;32m    229\u001b[0m \u001b[0;34m\u001b[0m\u001b[0m\n\u001b[1;32m    230\u001b[0m             \u001b[0;31m# We need to make a histogram of only the unclustered distances - when run on GPU\u001b[0m\u001b[0;34m\u001b[0m\u001b[0;34m\u001b[0m\u001b[0m\n",
      "\u001b[0;32m~/Documents/vamb/vamb/cluster.py\u001b[0m in \u001b[0;36m_wander_medoid\u001b[0;34m(matrix, kept_mask, medoid, max_attempts, rng, cuda)\u001b[0m\n\u001b[1;32m    407\u001b[0m     \u001b[0mfutile_attempts\u001b[0m \u001b[0;34m=\u001b[0m \u001b[0;36m0\u001b[0m\u001b[0;34m\u001b[0m\u001b[0;34m\u001b[0m\u001b[0m\n\u001b[1;32m    408\u001b[0m     \u001b[0mtried\u001b[0m \u001b[0;34m=\u001b[0m \u001b[0;34m{\u001b[0m\u001b[0mmedoid\u001b[0m\u001b[0;34m}\u001b[0m \u001b[0;31m# keep track of already-tried medoids\u001b[0m\u001b[0;34m\u001b[0m\u001b[0;34m\u001b[0m\u001b[0m\n\u001b[0;32m--> 409\u001b[0;31m     \u001b[0mcluster\u001b[0m\u001b[0;34m,\u001b[0m \u001b[0mdistances\u001b[0m\u001b[0;34m,\u001b[0m \u001b[0maverage_distance\u001b[0m \u001b[0;34m=\u001b[0m \u001b[0m_sample_medoid\u001b[0m\u001b[0;34m(\u001b[0m\u001b[0mmatrix\u001b[0m\u001b[0;34m,\u001b[0m \u001b[0mkept_mask\u001b[0m\u001b[0;34m,\u001b[0m \u001b[0mmedoid\u001b[0m\u001b[0;34m,\u001b[0m \u001b[0m_MEDOID_RADIUS\u001b[0m\u001b[0;34m,\u001b[0m \u001b[0mcuda\u001b[0m\u001b[0;34m)\u001b[0m\u001b[0;34m\u001b[0m\u001b[0;34m\u001b[0m\u001b[0m\n\u001b[0m\u001b[1;32m    410\u001b[0m \u001b[0;34m\u001b[0m\u001b[0m\n\u001b[1;32m    411\u001b[0m     \u001b[0;32mwhile\u001b[0m \u001b[0mlen\u001b[0m\u001b[0;34m(\u001b[0m\u001b[0mcluster\u001b[0m\u001b[0;34m)\u001b[0m \u001b[0;34m-\u001b[0m \u001b[0mlen\u001b[0m\u001b[0;34m(\u001b[0m\u001b[0mtried\u001b[0m\u001b[0;34m)\u001b[0m \u001b[0;34m>\u001b[0m \u001b[0;36m0\u001b[0m \u001b[0;32mand\u001b[0m \u001b[0mfutile_attempts\u001b[0m \u001b[0;34m<\u001b[0m \u001b[0mmax_attempts\u001b[0m\u001b[0;34m:\u001b[0m\u001b[0;34m\u001b[0m\u001b[0;34m\u001b[0m\u001b[0m\n",
      "\u001b[0;32m~/Documents/vamb/vamb/cluster.py\u001b[0m in \u001b[0;36m_sample_medoid\u001b[0;34m(matrix, kept_mask, medoid, threshold, cuda)\u001b[0m\n\u001b[1;32m    389\u001b[0m     \"\"\"\n\u001b[1;32m    390\u001b[0m \u001b[0;34m\u001b[0m\u001b[0m\n\u001b[0;32m--> 391\u001b[0;31m     \u001b[0mdistances\u001b[0m \u001b[0;34m=\u001b[0m \u001b[0m_calc_distances\u001b[0m\u001b[0;34m(\u001b[0m\u001b[0mmatrix\u001b[0m\u001b[0;34m,\u001b[0m \u001b[0mmedoid\u001b[0m\u001b[0;34m)\u001b[0m\u001b[0;34m\u001b[0m\u001b[0;34m\u001b[0m\u001b[0m\n\u001b[0m\u001b[1;32m    392\u001b[0m     \u001b[0mcluster\u001b[0m \u001b[0;34m=\u001b[0m \u001b[0m_smaller_indices\u001b[0m\u001b[0;34m(\u001b[0m\u001b[0mdistances\u001b[0m\u001b[0;34m,\u001b[0m \u001b[0mkept_mask\u001b[0m\u001b[0;34m,\u001b[0m \u001b[0mthreshold\u001b[0m\u001b[0;34m,\u001b[0m \u001b[0mcuda\u001b[0m\u001b[0;34m)\u001b[0m\u001b[0;34m\u001b[0m\u001b[0;34m\u001b[0m\u001b[0m\n\u001b[1;32m    393\u001b[0m \u001b[0;34m\u001b[0m\u001b[0m\n",
      "\u001b[0;32m~/Documents/vamb/vamb/cluster.py\u001b[0m in \u001b[0;36m_calc_distances\u001b[0;34m(matrix, index)\u001b[0m\n\u001b[1;32m    378\u001b[0m \u001b[0;32mdef\u001b[0m \u001b[0m_calc_distances\u001b[0m\u001b[0;34m(\u001b[0m\u001b[0mmatrix\u001b[0m\u001b[0;34m,\u001b[0m \u001b[0mindex\u001b[0m\u001b[0;34m)\u001b[0m\u001b[0;34m:\u001b[0m\u001b[0;34m\u001b[0m\u001b[0;34m\u001b[0m\u001b[0m\n\u001b[1;32m    379\u001b[0m     \u001b[0;34m\"Return vector of cosine distances from rows of normalized matrix to given row.\"\u001b[0m\u001b[0;34m\u001b[0m\u001b[0;34m\u001b[0m\u001b[0m\n\u001b[0;32m--> 380\u001b[0;31m     \u001b[0mdists\u001b[0m \u001b[0;34m=\u001b[0m \u001b[0;36m0.5\u001b[0m \u001b[0;34m-\u001b[0m \u001b[0mmatrix\u001b[0m\u001b[0;34m.\u001b[0m\u001b[0mmatmul\u001b[0m\u001b[0;34m(\u001b[0m\u001b[0mmatrix\u001b[0m\u001b[0;34m[\u001b[0m\u001b[0mindex\u001b[0m\u001b[0;34m]\u001b[0m\u001b[0;34m)\u001b[0m\u001b[0;34m\u001b[0m\u001b[0;34m\u001b[0m\u001b[0m\n\u001b[0m\u001b[1;32m    381\u001b[0m     \u001b[0mdists\u001b[0m\u001b[0;34m[\u001b[0m\u001b[0mindex\u001b[0m\u001b[0;34m]\u001b[0m \u001b[0;34m=\u001b[0m \u001b[0;36m0.0\u001b[0m \u001b[0;31m# avoid float rounding errors\u001b[0m\u001b[0;34m\u001b[0m\u001b[0;34m\u001b[0m\u001b[0m\n\u001b[1;32m    382\u001b[0m     \u001b[0;32mreturn\u001b[0m \u001b[0mdists\u001b[0m\u001b[0;34m\u001b[0m\u001b[0;34m\u001b[0m\u001b[0m\n",
      "\u001b[0;31mKeyboardInterrupt\u001b[0m: "
     ]
    }
   ],
   "source": [
    "for p1, p2, ii in zip(filepaths_100, clusters_100, indices_100):\n",
    "    save_clusters(p1, p2, indices=ii)"
   ]
  },
  {
   "cell_type": "code",
   "execution_count": 60,
   "id": "412717bd",
   "metadata": {
    "collapsed": true
   },
   "outputs": [
    {
     "name": "stdout",
     "output_type": "stream",
     "text": [
      "latent_trained_semisupervised.npy\n",
      "First key: S10C363912 (of type: <class 'str'> )\n",
      "Type of values: <class 'set'>\n",
      "First element of value: S9C283629 of type: <class 'str'>\n",
      "Number of bins before splitting and filtering: 3188\n",
      "Number of bins after splitting and filtering: 671\n",
      "latent_trained_labels.npy\n",
      "First key: S4C285569 (of type: <class 'str'> )\n",
      "Type of values: <class 'set'>\n",
      "First element of value: S27C39292 of type: <class 'str'>\n",
      "Number of bins before splitting and filtering: 639\n",
      "Number of bins after splitting and filtering: 717\n",
      "latent_trained.npy\n",
      "First key: S4C262502 (of type: <class 'str'> )\n",
      "Type of values: <class 'set'>\n",
      "First element of value: S4C262502 of type: <class 'str'>\n",
      "Number of bins before splitting and filtering: 36468\n",
      "Number of bins after splitting and filtering: 427\n"
     ]
    }
   ],
   "source": [
    "for p1, p2 in zip(filepaths_one, clusters_one):\n",
    "    save_clusters(p1, p2)"
   ]
  },
  {
   "cell_type": "code",
   "execution_count": 110,
   "id": "bead248d",
   "metadata": {},
   "outputs": [
    {
     "name": "stdout",
     "output_type": "stream",
     "text": [
      "latent_trained_semisupervised_fix_1_both.npy\n",
      "1877\n",
      "First key: S27C186599 (of type: <class 'numpy.str_'> )\n",
      "Type of values: <class 'set'>\n",
      "First element of value: S27C186599 of type: <class 'numpy.str_'>\n",
      "Number of bins before splitting and filtering: 1450\n",
      "Number of bins after splitting and filtering: 5\n",
      "latent_trained_semisupervised_fix_1_vamb.npy\n",
      "187685\n",
      "First key: S11C12549 (of type: <class 'numpy.str_'> )\n",
      "Type of values: <class 'set'>\n",
      "First element of value: S4C74390 of type: <class 'numpy.str_'>\n",
      "Number of bins before splitting and filtering: 14954\n",
      "Number of bins after splitting and filtering: 460\n",
      "latent_trained_semisupervised_fix_1_labels.npy\n",
      "187685\n",
      "First key: S27C106120 (of type: <class 'numpy.str_'> )\n",
      "Type of values: <class 'set'>\n",
      "First element of value: S27C187220 of type: <class 'numpy.str_'>\n",
      "Number of bins before splitting and filtering: 639\n",
      "Number of bins after splitting and filtering: 717\n",
      "latent_trained_semisupervised_fix_10_both.npy\n",
      "18769\n",
      "First key: S27C66417 (of type: <class 'numpy.str_'> )\n",
      "Type of values: <class 'set'>\n",
      "First element of value: S27C66417 of type: <class 'numpy.str_'>\n",
      "Number of bins before splitting and filtering: 1463\n",
      "Number of bins after splitting and filtering: 222\n",
      "latent_trained_semisupervised_fix_10_vamb.npy\n",
      "187685\n",
      "First key: S10C85904 (of type: <class 'numpy.str_'> )\n",
      "Type of values: <class 'set'>\n",
      "First element of value: S26C404184 of type: <class 'numpy.str_'>\n",
      "Number of bins before splitting and filtering: 10672\n",
      "Number of bins after splitting and filtering: 463\n",
      "latent_trained_semisupervised_fix_10_labels.npy\n",
      "187685\n",
      "First key: S4C195050 (of type: <class 'numpy.str_'> )\n",
      "Type of values: <class 'set'>\n",
      "First element of value: S10C232045 of type: <class 'numpy.str_'>\n",
      "Number of bins before splitting and filtering: 639\n",
      "Number of bins after splitting and filtering: 717\n",
      "latent_trained_semisupervised_fix_50_both.npy\n",
      "93843\n",
      "First key: S27C167200 (of type: <class 'numpy.str_'> )\n",
      "Type of values: <class 'set'>\n",
      "First element of value: S27C237710 of type: <class 'numpy.str_'>\n",
      "Number of bins before splitting and filtering: 2157\n",
      "Number of bins after splitting and filtering: 598\n",
      "latent_trained_semisupervised_fix_50_vamb.npy\n",
      "187685\n",
      "First key: S26C585269 (of type: <class 'numpy.str_'> )\n",
      "Type of values: <class 'set'>\n",
      "First element of value: S26C333159 of type: <class 'numpy.str_'>\n",
      "Number of bins before splitting and filtering: 10652\n",
      "Number of bins after splitting and filtering: 472\n",
      "latent_trained_semisupervised_fix_50_labels.npy\n",
      "187685\n",
      "First key: S27C34297 (of type: <class 'numpy.str_'> )\n",
      "Type of values: <class 'set'>\n",
      "First element of value: S27C254412 of type: <class 'numpy.str_'>\n",
      "Number of bins before splitting and filtering: 639\n",
      "Number of bins after splitting and filtering: 717\n",
      "latent_trained_semisupervised_fix_100_both.npy\n",
      "187685\n",
      "First key: S27C198645 (of type: <class 'numpy.str_'> )\n",
      "Type of values: <class 'set'>\n",
      "First element of value: S4C682911 of type: <class 'numpy.str_'>\n",
      "Number of bins before splitting and filtering: 2705\n",
      "Number of bins after splitting and filtering: 707\n",
      "latent_trained_semisupervised_fix_100_vamb.npy\n",
      "187685\n",
      "First key: S27C53728 (of type: <class 'numpy.str_'> )\n",
      "Type of values: <class 'set'>\n",
      "First element of value: S9C536705 of type: <class 'numpy.str_'>\n",
      "Number of bins before splitting and filtering: 10430\n",
      "Number of bins after splitting and filtering: 478\n",
      "latent_trained_semisupervised_fix_100_labels.npy\n",
      "187685\n",
      "First key: S11C15967 (of type: <class 'numpy.str_'> )\n",
      "Type of values: <class 'set'>\n",
      "First element of value: S11C1931 of type: <class 'numpy.str_'>\n",
      "Number of bins before splitting and filtering: 639\n",
      "Number of bins after splitting and filtering: 717\n"
     ]
    }
   ],
   "source": [
    "for p1, p2, ii in zip(filepaths_one_fix, clusters_one_fix, indices_fix):\n",
    "    save_clusters(p1, p2, indices=ii)"
   ]
  },
  {
   "cell_type": "code",
   "execution_count": 94,
   "id": "16ed6d32",
   "metadata": {},
   "outputs": [
    {
     "name": "stdout",
     "output_type": "stream",
     "text": [
      "(1877, 32) 1877 (1877,)\n",
      "First key: S27C166967 (of type: <class 'numpy.str_'> )\n",
      "Type of values: <class 'set'>\n",
      "First element of value: S27C166967 of type: <class 'numpy.str_'>\n",
      "Number of bins before splitting and filtering: 37226\n",
      "Number of bins after splitting and filtering: 417\n"
     ]
    }
   ],
   "source": [
    "save_clusters_both(\n",
    "    'latent_trained_semisupervised_1_vamb.npy',\n",
    "    'latent_trained_semisupervised_1_both.npy',\n",
    "    np.array(indices1_x),\n",
    "    np.array(indices1_sup),\n",
    "    'clusters_mixed1.tsv',\n",
    ")"
   ]
  },
  {
   "cell_type": "code",
   "execution_count": 95,
   "id": "faeeeb12",
   "metadata": {},
   "outputs": [
    {
     "name": "stdout",
     "output_type": "stream",
     "text": [
      "(18769, 32) 18769 (18769,)\n",
      "First key: S27C202265 (of type: <class 'numpy.str_'> )\n",
      "Type of values: <class 'set'>\n",
      "First element of value: S9C458996 of type: <class 'numpy.str_'>\n",
      "Number of bins before splitting and filtering: 37649\n",
      "Number of bins after splitting and filtering: 399\n",
      "(93843, 32) 93843 (93843,)\n",
      "First key: S26C238967 (of type: <class 'numpy.str_'> )\n",
      "Type of values: <class 'set'>\n",
      "First element of value: S26C238967 of type: <class 'numpy.str_'>\n",
      "Number of bins before splitting and filtering: 25639\n",
      "Number of bins after splitting and filtering: 323\n",
      "(187685, 32) 187685 (187685,)\n",
      "First key: S27C141880 (of type: <class 'numpy.str_'> )\n",
      "Type of values: <class 'set'>\n",
      "First element of value: S27C141880 of type: <class 'numpy.str_'>\n",
      "Number of bins before splitting and filtering: 12725\n",
      "Number of bins after splitting and filtering: 20\n"
     ]
    }
   ],
   "source": [
    "save_clusters_both(\n",
    "    'latent_trained_semisupervised_10_vamb.npy',\n",
    "    'latent_trained_semisupervised_10_both.npy',\n",
    "    np.array(indices10_x),\n",
    "    np.array(indices10_sup),\n",
    "    'clusters_mixed10.tsv',\n",
    ")\n",
    "\n",
    "save_clusters_both(\n",
    "    'latent_trained_semisupervised_50_vamb.npy',\n",
    "    'latent_trained_semisupervised_50_both.npy',\n",
    "    np.array(indices50_x),\n",
    "    np.array(indices50_sup),\n",
    "    'clusters_mixed50.tsv',\n",
    ")\n",
    "\n",
    "save_clusters_both(\n",
    "    'latent_trained_semisupervised_100_vamb.npy',\n",
    "    'latent_trained_semisupervised_100_both.npy',\n",
    "    np.array(indices100_x),\n",
    "    np.array(indices100_sup),\n",
    "    'clusters_mixed100.tsv',\n",
    ")"
   ]
  },
  {
   "cell_type": "code",
   "execution_count": 175,
   "id": "72c2cdf6",
   "metadata": {},
   "outputs": [
    {
     "name": "stdout",
     "output_type": "stream",
     "text": [
      "(64054, 32) 64054 (64054,)\n",
      "First key: S11C5957 (of type: <class 'numpy.str_'> )\n",
      "Type of values: <class 'set'>\n",
      "First element of value: S27C257423 of type: <class 'numpy.str_'>\n",
      "Number of bins before splitting and filtering: 22197\n",
      "Number of bins after splitting and filtering: 447\n"
     ]
    }
   ],
   "source": [
    "save_clusters_both(\n",
    "    'latent_trained_semisupervised_mmseq_vamb.npy',\n",
    "    'latent_trained_semisupervised_mmseq_both.npy',\n",
    "    np.array(range(len(indices50_fix_x))),\n",
    "    np.array(indices_mmseq),\n",
    "    'clusters_mmseq.tsv',\n",
    ")"
   ]
  },
  {
   "cell_type": "code",
   "execution_count": 102,
   "id": "53a96bc9",
   "metadata": {},
   "outputs": [
    {
     "name": "stdout",
     "output_type": "stream",
     "text": [
      "(93843, 32) 93843 (93843,)\n",
      "First key: S26C466014 (of type: <class 'numpy.str_'> )\n",
      "Type of values: <class 'set'>\n",
      "First element of value: S26C333159 of type: <class 'numpy.str_'>\n",
      "Number of bins before splitting and filtering: 11569\n",
      "Number of bins after splitting and filtering: 809\n"
     ]
    }
   ],
   "source": [
    "save_clusters_both(\n",
    "    'latent_trained_semisupervised_fix_50_vamb.npy',\n",
    "    'latent_trained_semisupervised_fix_50_both.npy',\n",
    "    np.array(indices50_fix_x),\n",
    "    np.array(indices50_fix_sup),\n",
    "    'clusters_mixed50_fix.tsv',\n",
    ")"
   ]
  },
  {
   "cell_type": "code",
   "execution_count": 103,
   "id": "1621d63b",
   "metadata": {},
   "outputs": [
    {
     "name": "stdout",
     "output_type": "stream",
     "text": [
      "(1877, 32) 1877 (1877,)\n",
      "First key: S10C447143 (of type: <class 'numpy.str_'> )\n",
      "Type of values: <class 'set'>\n",
      "First element of value: S10C447143 of type: <class 'numpy.str_'>\n",
      "Number of bins before splitting and filtering: 15501\n",
      "Number of bins after splitting and filtering: 446\n",
      "(18769, 32) 18769 (18769,)\n",
      "First key: S10C335461 (of type: <class 'numpy.str_'> )\n",
      "Type of values: <class 'set'>\n",
      "First element of value: S26C404184 of type: <class 'numpy.str_'>\n",
      "Number of bins before splitting and filtering: 12300\n",
      "Number of bins after splitting and filtering: 534\n",
      "(187685, 32) 187685 (187685,)\n",
      "First key: S27C198645 (of type: <class 'numpy.str_'> )\n",
      "Type of values: <class 'set'>\n",
      "First element of value: S4C682911 of type: <class 'numpy.str_'>\n",
      "Number of bins before splitting and filtering: 2705\n",
      "Number of bins after splitting and filtering: 707\n"
     ]
    }
   ],
   "source": [
    "save_clusters_both(\n",
    "    'latent_trained_semisupervised_fix_1_vamb.npy',\n",
    "    'latent_trained_semisupervised_fix_1_both.npy',\n",
    "    np.array(indices1_fix_x),\n",
    "    np.array(indices1_fix_sup),\n",
    "    'clusters_mixed1_fix.tsv',\n",
    ")\n",
    "\n",
    "save_clusters_both(\n",
    "    'latent_trained_semisupervised_fix_10_vamb.npy',\n",
    "    'latent_trained_semisupervised_fix_10_both.npy',\n",
    "    np.array(indices10_fix_x),\n",
    "    np.array(indices10_fix_sup),\n",
    "    'clusters_mixed10_fix.tsv',\n",
    ")\n",
    "\n",
    "save_clusters_both(\n",
    "    'latent_trained_semisupervised_fix_100_vamb.npy',\n",
    "    'latent_trained_semisupervised_fix_100_both.npy',\n",
    "    np.array(indices100_fix_x),\n",
    "    np.array(indices100_fix_sup),\n",
    "    'clusters_mixed100_fix.tsv',\n",
    ")"
   ]
  },
  {
   "cell_type": "code",
   "execution_count": 176,
   "id": "de4e2ac8",
   "metadata": {},
   "outputs": [],
   "source": [
    "clusters_mmseq = [\n",
    "    'clusters_mmseq.tsv',\n",
    "]"
   ]
  },
  {
   "cell_type": "code",
   "execution_count": 38,
   "id": "223a3232",
   "metadata": {},
   "outputs": [],
   "source": [
    "bins_all = [bin_saved_clusters(c) for c in clusters]"
   ]
  },
  {
   "cell_type": "code",
   "execution_count": 53,
   "id": "c1a3ee66",
   "metadata": {},
   "outputs": [],
   "source": [
    "bins_100 = [bin_saved_clusters(c) for c in clusters_100]"
   ]
  },
  {
   "cell_type": "code",
   "execution_count": 61,
   "id": "bffc8d02",
   "metadata": {},
   "outputs": [],
   "source": [
    "bins_one = [bin_saved_clusters(c) for c in clusters_one]"
   ]
  },
  {
   "cell_type": "code",
   "execution_count": 97,
   "id": "938ec17c",
   "metadata": {},
   "outputs": [],
   "source": [
    "bins_mixed = [bin_saved_clusters(c) for c in clusters_mixed]"
   ]
  },
  {
   "cell_type": "code",
   "execution_count": 105,
   "id": "084b4b13",
   "metadata": {},
   "outputs": [],
   "source": [
    "bins_fix = [bin_saved_clusters(c) for c in clusters_fix]"
   ]
  },
  {
   "cell_type": "code",
   "execution_count": 111,
   "id": "33332771",
   "metadata": {},
   "outputs": [],
   "source": [
    "bins_one_fix = [bin_saved_clusters(c) for c in clusters_one_fix]"
   ]
  },
  {
   "cell_type": "code",
   "execution_count": 112,
   "id": "ee06be94",
   "metadata": {},
   "outputs": [],
   "source": [
    "all_clusters = clusters_one_fix + clusters_one + clusters_fix\n",
    "all_bins = bins_one_fix + bins_one + bins_fix"
   ]
  },
  {
   "cell_type": "code",
   "execution_count": 115,
   "id": "72ba64a6",
   "metadata": {},
   "outputs": [
    {
     "data": {
      "image/png": "[encoded data removed]",
      "text/plain": [
       "<Figure size 720x576 with 1 Axes>"
      ]
     },
     "metadata": {
      "needs_background": "light"
     },
     "output_type": "display_data"
    }
   ],
   "source": [
    "for precision in [0.9]:\n",
    "    plt.figure(figsize=(10, 8))\n",
    "    colors = ['#DDDDDD', '#AAAAAA', '#777777', '#444444', '#000000']\n",
    "    recalls = [0.5, 0.6, 0.7, 0.8, 0.9]\n",
    "    for y, bins in zip(range(len(all_clusters)), all_bins):\n",
    "        for color, recall in zip(colors, recalls):\n",
    "            plt.barh(y, bins.counters[0][(recall, precision)], color=color)\n",
    "\n",
    "    plt.title(str(precision), fontsize=18)\n",
    "    plt.yticks(list(range(len(all_clusters))), all_clusters, fontsize=16)\n",
    "    plt.xticks([i*25 for i in range(20)], fontsize=13)\n",
    "    plt.legend([str(i) for i in recalls], bbox_to_anchor=(1, 1.1), title='Recall', fontsize=12)\n",
    "    \n",
    "    if precision == 0.9:\n",
    "        plt.xlabel('# of Genomes Identified', fontsize=16)\n",
    "    plt.gca().set_axisbelow(True)\n",
    "    plt.grid()"
   ]
  },
  {
   "cell_type": "code",
   "execution_count": 137,
   "id": "fac3e0fb",
   "metadata": {},
   "outputs": [],
   "source": [
    "bins_concat, bins_labels, bins_vamb = bins_one\n",
    "sup_levels = [1, 10, 50, 100]\n",
    "bins_vamb_sup = [bins_one_fix[1], bins_one_fix[4], bins_one_fix[7], bins_one_fix[10]]\n",
    "bins_labels_sup = [bins_one_fix[2], bins_one_fix[5], bins_one_fix[8], bins_one_fix[11]]"
   ]
  },
  {
   "cell_type": "code",
   "execution_count": 177,
   "id": "c5d55e15",
   "metadata": {},
   "outputs": [],
   "source": [
    "bins_mmseq = [bin_saved_clusters(c) for c in clusters_mmseq]"
   ]
  },
  {
   "cell_type": "code",
   "execution_count": 212,
   "id": "e798ef96",
   "metadata": {},
   "outputs": [
    {
     "data": {
      "image/png": "[encoded data removed]",
      "text/plain": [
       "<Figure size 576x432 with 1 Axes>"
      ]
     },
     "metadata": {
      "needs_background": "light"
     },
     "output_type": "display_data"
    }
   ],
   "source": [
    "plt.figure(figsize=(8, 6))\n",
    "rec, prec = 0.9, 0.9\n",
    "\n",
    "plt.axhline(y=bins_labels.counters[0][(rec, prec)], color='navy', label='Labels')\n",
    "plt.axhline(y=bins_concat.counters[0][(rec, prec)], color='purple', label='Vamb+Labels')\n",
    "plt.axhline(y=bins_vamb.counters[0][(rec, prec)], color='crimson', label='Vamb')\n",
    "\n",
    "plt.plot(sup_levels, [b.counters[0][(rec, prec)] for b in bins_fix], 'o--', label='Semisupervised, input Vamb+Labels')\n",
    "plt.plot(sup_levels, [b.counters[0][(rec, prec)] for b in bins_vamb_sup], 'o--', label='Semisupervised, input Vamb')\n",
    "plt.plot(sup_levels, [b.counters[0][(rec, prec)] for b in bins_labels_sup], 'o--', label='Semisupervised, input Labels')\n",
    "\n",
    "plt.plot([64054.0*100 / 187685], [b.counters[0][(rec, prec)] for b in bins_mmseq], 'x--', label='mmseq')\n",
    "\n",
    "# plt.ylim((0, 100))\n",
    "# plt.xlim((0, 60))\n",
    "plt.ylabel('# of NC genomes (recall > 0.9, precision > 0.9)')\n",
    "plt.xlabel('Supervision level, %')\n",
    "plt.legend()\n",
    "plt.show()\n"
   ]
  },
  {
   "cell_type": "code",
   "execution_count": 191,
   "id": "ab22a5c7",
   "metadata": {},
   "outputs": [
    {
     "data": {
      "text/plain": [
       "57"
      ]
     },
     "execution_count": 191,
     "metadata": {},
     "output_type": "execute_result"
    }
   ],
   "source": [
    "bins_vamb.counters[0][(rec, prec)]"
   ]
  },
  {
   "cell_type": "code",
   "execution_count": 192,
   "id": "d141d812",
   "metadata": {},
   "outputs": [
    {
     "data": {
      "text/plain": [
       "1.1754385964912282"
      ]
     },
     "execution_count": 192,
     "metadata": {},
     "output_type": "execute_result"
    }
   ],
   "source": [
    "67.0 / 57.0"
   ]
  },
  {
   "cell_type": "markdown",
   "id": "7129dbea",
   "metadata": {},
   "source": [
    "## mmseq2 experiment"
   ]
  },
  {
   "cell_type": "code",
   "execution_count": 143,
   "id": "3fee19ab",
   "metadata": {},
   "outputs": [],
   "source": [
    "df_mmseq = pd.read_csv(f'{PATH_VAMB}/airways_taxonomy_clean_new.tsv', delimiter='\\t', header=None)"
   ]
  },
  {
   "cell_type": "code",
   "execution_count": 145,
   "id": "da20189c",
   "metadata": {},
   "outputs": [
    {
     "data": {
      "text/plain": [
       "array(['genus', 'species', 'family', 'class', 'superkingdom', 'order',\n",
       "       'phylum', 'no rank'], dtype=object)"
      ]
     },
     "execution_count": 145,
     "metadata": {},
     "output_type": "execute_result"
    }
   ],
   "source": [
    "df_mmseq[2].unique()"
   ]
  },
  {
   "cell_type": "code",
   "execution_count": 147,
   "id": "402f3cc5",
   "metadata": {},
   "outputs": [],
   "source": [
    "df_mmseq_species = df_mmseq[df_mmseq[2] == 'species']"
   ]
  },
  {
   "cell_type": "code",
   "execution_count": 149,
   "id": "b87cd2ea",
   "metadata": {},
   "outputs": [
    {
     "data": {
      "text/plain": [
       "727"
      ]
     },
     "execution_count": 149,
     "metadata": {},
     "output_type": "execute_result"
    }
   ],
   "source": [
    "len(df_mmseq_species[3].unique())"
   ]
  },
  {
   "cell_type": "code",
   "execution_count": 159,
   "id": "2bd07c0e",
   "metadata": {},
   "outputs": [],
   "source": [
    "contigs = np.array(CONTIGNAMES)\n",
    "indices_mmseq = [np.argwhere(contigs == c)[0][0] for c in df_mmseq_species[0]]"
   ]
  },
  {
   "cell_type": "code",
   "execution_count": 163,
   "id": "4bd2611b",
   "metadata": {},
   "outputs": [
    {
     "data": {
      "text/plain": [
       "2                      Staphylococcus aureus\n",
       "3         Corynebacterium pseudotuberculosis\n",
       "4                      Staphylococcus aureus\n",
       "5                        Bacillus velezensis\n",
       "6                      Staphylococcus aureus\n",
       "                         ...                \n",
       "187593                 Corynebacterium casei\n",
       "187594    Corynebacterium pseudotuberculosis\n",
       "187595            Corynebacterium glutamicum\n",
       "187601                  Sphingomonas panacis\n",
       "187603                 Staphylococcus aureus\n",
       "Name: 3, Length: 64054, dtype: object"
      ]
     },
     "execution_count": 163,
     "metadata": {},
     "output_type": "execute_result"
    }
   ],
   "source": [
    "df_mmseq_species[3]"
   ]
  },
  {
   "cell_type": "code",
   "execution_count": 161,
   "id": "327e5b11",
   "metadata": {},
   "outputs": [
    {
     "data": {
      "text/plain": [
       "array(['S7C321733', 'S7C322592', 'S7C323616', ..., 'S27C165633',\n",
       "       'S11C16500', 'S11C16707'], dtype='<U10')"
      ]
     },
     "execution_count": 161,
     "metadata": {},
     "output_type": "execute_result"
    }
   ],
   "source": [
    "contigs[indices_mmseq]"
   ]
  },
  {
   "cell_type": "code",
   "execution_count": 166,
   "id": "99c274cf",
   "metadata": {},
   "outputs": [
    {
     "data": {
      "text/html": [
       "<div>\n",
       "<style scoped>\n",
       "    .dataframe tbody tr th:only-of-type {\n",
       "        vertical-align: middle;\n",
       "    }\n",
       "\n",
       "    .dataframe tbody tr th {\n",
       "        vertical-align: top;\n",
       "    }\n",
       "\n",
       "    .dataframe thead th {\n",
       "        text-align: right;\n",
       "    }\n",
       "</style>\n",
       "<table border=\"1\" class=\"dataframe\">\n",
       "  <thead>\n",
       "    <tr style=\"text-align: right;\">\n",
       "      <th></th>\n",
       "      <th>0</th>\n",
       "      <th>1</th>\n",
       "      <th>2</th>\n",
       "      <th>3</th>\n",
       "      <th>4</th>\n",
       "      <th>5</th>\n",
       "      <th>6</th>\n",
       "      <th>7</th>\n",
       "      <th>8</th>\n",
       "    </tr>\n",
       "  </thead>\n",
       "  <tbody>\n",
       "    <tr>\n",
       "      <th>0</th>\n",
       "      <td>S7C319745</td>\n",
       "      <td>13420</td>\n",
       "      <td>genus</td>\n",
       "      <td>Pedobacter heparinus</td>\n",
       "      <td>12</td>\n",
       "      <td>11</td>\n",
       "      <td>5</td>\n",
       "      <td>0.61</td>\n",
       "      <td>d_Bacteria;p_Bacteroidota;c_Bacteroidia;o_Sphi...</td>\n",
       "    </tr>\n",
       "    <tr>\n",
       "      <th>1</th>\n",
       "      <td>S7C320794</td>\n",
       "      <td>35</td>\n",
       "      <td>genus</td>\n",
       "      <td>Acinetobacter baumannii</td>\n",
       "      <td>34</td>\n",
       "      <td>29</td>\n",
       "      <td>19</td>\n",
       "      <td>0.78</td>\n",
       "      <td>d_Bacteria;p_Proteobacteria;c_Gammaproteobacte...</td>\n",
       "    </tr>\n",
       "    <tr>\n",
       "      <th>2</th>\n",
       "      <td>S7C321733</td>\n",
       "      <td>14</td>\n",
       "      <td>species</td>\n",
       "      <td>Staphylococcus aureus</td>\n",
       "      <td>4</td>\n",
       "      <td>4</td>\n",
       "      <td>3</td>\n",
       "      <td>0.98</td>\n",
       "      <td>d_Bacteria;p_Firmicutes;c_Bacilli;o_Staphyloco...</td>\n",
       "    </tr>\n",
       "    <tr>\n",
       "      <th>3</th>\n",
       "      <td>S7C322592</td>\n",
       "      <td>271</td>\n",
       "      <td>species</td>\n",
       "      <td>Corynebacterium pseudotuberculosis</td>\n",
       "      <td>3</td>\n",
       "      <td>2</td>\n",
       "      <td>2</td>\n",
       "      <td>1.00</td>\n",
       "      <td>d_Bacteria;p_Actinobacteriota;c_Actinomycetia;...</td>\n",
       "    </tr>\n",
       "    <tr>\n",
       "      <th>4</th>\n",
       "      <td>S7C323616</td>\n",
       "      <td>14</td>\n",
       "      <td>species</td>\n",
       "      <td>Staphylococcus aureus</td>\n",
       "      <td>5</td>\n",
       "      <td>4</td>\n",
       "      <td>4</td>\n",
       "      <td>1.00</td>\n",
       "      <td>d_Bacteria;p_Firmicutes;c_Bacilli;o_Staphyloco...</td>\n",
       "    </tr>\n",
       "    <tr>\n",
       "      <th>...</th>\n",
       "      <td>...</td>\n",
       "      <td>...</td>\n",
       "      <td>...</td>\n",
       "      <td>...</td>\n",
       "      <td>...</td>\n",
       "      <td>...</td>\n",
       "      <td>...</td>\n",
       "      <td>...</td>\n",
       "      <td>...</td>\n",
       "    </tr>\n",
       "    <tr>\n",
       "      <th>187601</th>\n",
       "      <td>S11C16500</td>\n",
       "      <td>30360</td>\n",
       "      <td>species</td>\n",
       "      <td>Sphingomonas panacis</td>\n",
       "      <td>16</td>\n",
       "      <td>15</td>\n",
       "      <td>14</td>\n",
       "      <td>0.99</td>\n",
       "      <td>d_Bacteria;p_Proteobacteria;c_Alphaproteobacte...</td>\n",
       "    </tr>\n",
       "    <tr>\n",
       "      <th>187602</th>\n",
       "      <td>S11C16616</td>\n",
       "      <td>271</td>\n",
       "      <td>genus</td>\n",
       "      <td>Corynebacterium pseudotuberculosis</td>\n",
       "      <td>7</td>\n",
       "      <td>6</td>\n",
       "      <td>3</td>\n",
       "      <td>0.50</td>\n",
       "      <td>d_Bacteria;p_Actinobacteriota;c_Actinomycetia;...</td>\n",
       "    </tr>\n",
       "    <tr>\n",
       "      <th>187603</th>\n",
       "      <td>S11C16707</td>\n",
       "      <td>14</td>\n",
       "      <td>species</td>\n",
       "      <td>Staphylococcus aureus</td>\n",
       "      <td>12</td>\n",
       "      <td>12</td>\n",
       "      <td>12</td>\n",
       "      <td>1.00</td>\n",
       "      <td>d_Bacteria;p_Firmicutes;c_Bacilli;o_Staphyloco...</td>\n",
       "    </tr>\n",
       "    <tr>\n",
       "      <th>187604</th>\n",
       "      <td>S11C16787</td>\n",
       "      <td>13</td>\n",
       "      <td>genus</td>\n",
       "      <td>Staphylococcus</td>\n",
       "      <td>5</td>\n",
       "      <td>4</td>\n",
       "      <td>4</td>\n",
       "      <td>1.00</td>\n",
       "      <td>d_Bacteria;p_Firmicutes;c_Bacilli;o_Staphyloco...</td>\n",
       "    </tr>\n",
       "    <tr>\n",
       "      <th>187605</th>\n",
       "      <td>S11C16894</td>\n",
       "      <td>30360</td>\n",
       "      <td>genus</td>\n",
       "      <td>Sphingomonas panacis</td>\n",
       "      <td>9</td>\n",
       "      <td>7</td>\n",
       "      <td>6</td>\n",
       "      <td>0.86</td>\n",
       "      <td>d_Bacteria;p_Proteobacteria;c_Alphaproteobacte...</td>\n",
       "    </tr>\n",
       "  </tbody>\n",
       "</table>\n",
       "<p>187606 rows × 9 columns</p>\n",
       "</div>"
      ],
      "text/plain": [
       "                0      1        2                                   3   4   5  \\\n",
       "0       S7C319745  13420    genus                Pedobacter heparinus  12  11   \n",
       "1       S7C320794     35    genus             Acinetobacter baumannii  34  29   \n",
       "2       S7C321733     14  species               Staphylococcus aureus   4   4   \n",
       "3       S7C322592    271  species  Corynebacterium pseudotuberculosis   3   2   \n",
       "4       S7C323616     14  species               Staphylococcus aureus   5   4   \n",
       "...           ...    ...      ...                                 ...  ..  ..   \n",
       "187601  S11C16500  30360  species                Sphingomonas panacis  16  15   \n",
       "187602  S11C16616    271    genus  Corynebacterium pseudotuberculosis   7   6   \n",
       "187603  S11C16707     14  species               Staphylococcus aureus  12  12   \n",
       "187604  S11C16787     13    genus                      Staphylococcus   5   4   \n",
       "187605  S11C16894  30360    genus                Sphingomonas panacis   9   7   \n",
       "\n",
       "         6     7                                                  8  \n",
       "0        5  0.61  d_Bacteria;p_Bacteroidota;c_Bacteroidia;o_Sphi...  \n",
       "1       19  0.78  d_Bacteria;p_Proteobacteria;c_Gammaproteobacte...  \n",
       "2        3  0.98  d_Bacteria;p_Firmicutes;c_Bacilli;o_Staphyloco...  \n",
       "3        2  1.00  d_Bacteria;p_Actinobacteriota;c_Actinomycetia;...  \n",
       "4        4  1.00  d_Bacteria;p_Firmicutes;c_Bacilli;o_Staphyloco...  \n",
       "...     ..   ...                                                ...  \n",
       "187601  14  0.99  d_Bacteria;p_Proteobacteria;c_Alphaproteobacte...  \n",
       "187602   3  0.50  d_Bacteria;p_Actinobacteriota;c_Actinomycetia;...  \n",
       "187603  12  1.00  d_Bacteria;p_Firmicutes;c_Bacilli;o_Staphyloco...  \n",
       "187604   4  1.00  d_Bacteria;p_Firmicutes;c_Bacilli;o_Staphyloco...  \n",
       "187605   6  0.86  d_Bacteria;p_Proteobacteria;c_Alphaproteobacte...  \n",
       "\n",
       "[187606 rows x 9 columns]"
      ]
     },
     "execution_count": 166,
     "metadata": {},
     "output_type": "execute_result"
    }
   ],
   "source": [
    "df_mmseq"
   ]
  },
  {
   "cell_type": "code",
   "execution_count": 193,
   "id": "03231d62",
   "metadata": {},
   "outputs": [],
   "source": [
    "df_mmseq_genus = df_mmseq[(df_mmseq[2] == 'genus') | (df_mmseq[2] == 'species')]"
   ]
  },
  {
   "cell_type": "code",
   "execution_count": 194,
   "id": "4cfd5c91",
   "metadata": {},
   "outputs": [
    {
     "data": {
      "text/html": [
       "<div>\n",
       "<style scoped>\n",
       "    .dataframe tbody tr th:only-of-type {\n",
       "        vertical-align: middle;\n",
       "    }\n",
       "\n",
       "    .dataframe tbody tr th {\n",
       "        vertical-align: top;\n",
       "    }\n",
       "\n",
       "    .dataframe thead th {\n",
       "        text-align: right;\n",
       "    }\n",
       "</style>\n",
       "<table border=\"1\" class=\"dataframe\">\n",
       "  <thead>\n",
       "    <tr style=\"text-align: right;\">\n",
       "      <th></th>\n",
       "      <th>0</th>\n",
       "      <th>1</th>\n",
       "      <th>2</th>\n",
       "      <th>3</th>\n",
       "      <th>4</th>\n",
       "      <th>5</th>\n",
       "      <th>6</th>\n",
       "      <th>7</th>\n",
       "      <th>8</th>\n",
       "    </tr>\n",
       "  </thead>\n",
       "  <tbody>\n",
       "    <tr>\n",
       "      <th>0</th>\n",
       "      <td>S7C319745</td>\n",
       "      <td>13420</td>\n",
       "      <td>genus</td>\n",
       "      <td>Pedobacter heparinus</td>\n",
       "      <td>12</td>\n",
       "      <td>11</td>\n",
       "      <td>5</td>\n",
       "      <td>0.61</td>\n",
       "      <td>d_Bacteria;p_Bacteroidota;c_Bacteroidia;o_Sphi...</td>\n",
       "    </tr>\n",
       "    <tr>\n",
       "      <th>1</th>\n",
       "      <td>S7C320794</td>\n",
       "      <td>35</td>\n",
       "      <td>genus</td>\n",
       "      <td>Acinetobacter baumannii</td>\n",
       "      <td>34</td>\n",
       "      <td>29</td>\n",
       "      <td>19</td>\n",
       "      <td>0.78</td>\n",
       "      <td>d_Bacteria;p_Proteobacteria;c_Gammaproteobacte...</td>\n",
       "    </tr>\n",
       "    <tr>\n",
       "      <th>2</th>\n",
       "      <td>S7C321733</td>\n",
       "      <td>14</td>\n",
       "      <td>species</td>\n",
       "      <td>Staphylococcus aureus</td>\n",
       "      <td>4</td>\n",
       "      <td>4</td>\n",
       "      <td>3</td>\n",
       "      <td>0.98</td>\n",
       "      <td>d_Bacteria;p_Firmicutes;c_Bacilli;o_Staphyloco...</td>\n",
       "    </tr>\n",
       "    <tr>\n",
       "      <th>3</th>\n",
       "      <td>S7C322592</td>\n",
       "      <td>271</td>\n",
       "      <td>species</td>\n",
       "      <td>Corynebacterium pseudotuberculosis</td>\n",
       "      <td>3</td>\n",
       "      <td>2</td>\n",
       "      <td>2</td>\n",
       "      <td>1.00</td>\n",
       "      <td>d_Bacteria;p_Actinobacteriota;c_Actinomycetia;...</td>\n",
       "    </tr>\n",
       "    <tr>\n",
       "      <th>4</th>\n",
       "      <td>S7C323616</td>\n",
       "      <td>14</td>\n",
       "      <td>species</td>\n",
       "      <td>Staphylococcus aureus</td>\n",
       "      <td>5</td>\n",
       "      <td>4</td>\n",
       "      <td>4</td>\n",
       "      <td>1.00</td>\n",
       "      <td>d_Bacteria;p_Firmicutes;c_Bacilli;o_Staphyloco...</td>\n",
       "    </tr>\n",
       "    <tr>\n",
       "      <th>...</th>\n",
       "      <td>...</td>\n",
       "      <td>...</td>\n",
       "      <td>...</td>\n",
       "      <td>...</td>\n",
       "      <td>...</td>\n",
       "      <td>...</td>\n",
       "      <td>...</td>\n",
       "      <td>...</td>\n",
       "      <td>...</td>\n",
       "    </tr>\n",
       "    <tr>\n",
       "      <th>187601</th>\n",
       "      <td>S11C16500</td>\n",
       "      <td>30360</td>\n",
       "      <td>species</td>\n",
       "      <td>Sphingomonas panacis</td>\n",
       "      <td>16</td>\n",
       "      <td>15</td>\n",
       "      <td>14</td>\n",
       "      <td>0.99</td>\n",
       "      <td>d_Bacteria;p_Proteobacteria;c_Alphaproteobacte...</td>\n",
       "    </tr>\n",
       "    <tr>\n",
       "      <th>187602</th>\n",
       "      <td>S11C16616</td>\n",
       "      <td>271</td>\n",
       "      <td>genus</td>\n",
       "      <td>Corynebacterium pseudotuberculosis</td>\n",
       "      <td>7</td>\n",
       "      <td>6</td>\n",
       "      <td>3</td>\n",
       "      <td>0.50</td>\n",
       "      <td>d_Bacteria;p_Actinobacteriota;c_Actinomycetia;...</td>\n",
       "    </tr>\n",
       "    <tr>\n",
       "      <th>187603</th>\n",
       "      <td>S11C16707</td>\n",
       "      <td>14</td>\n",
       "      <td>species</td>\n",
       "      <td>Staphylococcus aureus</td>\n",
       "      <td>12</td>\n",
       "      <td>12</td>\n",
       "      <td>12</td>\n",
       "      <td>1.00</td>\n",
       "      <td>d_Bacteria;p_Firmicutes;c_Bacilli;o_Staphyloco...</td>\n",
       "    </tr>\n",
       "    <tr>\n",
       "      <th>187604</th>\n",
       "      <td>S11C16787</td>\n",
       "      <td>13</td>\n",
       "      <td>genus</td>\n",
       "      <td>Staphylococcus</td>\n",
       "      <td>5</td>\n",
       "      <td>4</td>\n",
       "      <td>4</td>\n",
       "      <td>1.00</td>\n",
       "      <td>d_Bacteria;p_Firmicutes;c_Bacilli;o_Staphyloco...</td>\n",
       "    </tr>\n",
       "    <tr>\n",
       "      <th>187605</th>\n",
       "      <td>S11C16894</td>\n",
       "      <td>30360</td>\n",
       "      <td>genus</td>\n",
       "      <td>Sphingomonas panacis</td>\n",
       "      <td>9</td>\n",
       "      <td>7</td>\n",
       "      <td>6</td>\n",
       "      <td>0.86</td>\n",
       "      <td>d_Bacteria;p_Proteobacteria;c_Alphaproteobacte...</td>\n",
       "    </tr>\n",
       "  </tbody>\n",
       "</table>\n",
       "<p>161719 rows × 9 columns</p>\n",
       "</div>"
      ],
      "text/plain": [
       "                0      1        2                                   3   4   5  \\\n",
       "0       S7C319745  13420    genus                Pedobacter heparinus  12  11   \n",
       "1       S7C320794     35    genus             Acinetobacter baumannii  34  29   \n",
       "2       S7C321733     14  species               Staphylococcus aureus   4   4   \n",
       "3       S7C322592    271  species  Corynebacterium pseudotuberculosis   3   2   \n",
       "4       S7C323616     14  species               Staphylococcus aureus   5   4   \n",
       "...           ...    ...      ...                                 ...  ..  ..   \n",
       "187601  S11C16500  30360  species                Sphingomonas panacis  16  15   \n",
       "187602  S11C16616    271    genus  Corynebacterium pseudotuberculosis   7   6   \n",
       "187603  S11C16707     14  species               Staphylococcus aureus  12  12   \n",
       "187604  S11C16787     13    genus                      Staphylococcus   5   4   \n",
       "187605  S11C16894  30360    genus                Sphingomonas panacis   9   7   \n",
       "\n",
       "         6     7                                                  8  \n",
       "0        5  0.61  d_Bacteria;p_Bacteroidota;c_Bacteroidia;o_Sphi...  \n",
       "1       19  0.78  d_Bacteria;p_Proteobacteria;c_Gammaproteobacte...  \n",
       "2        3  0.98  d_Bacteria;p_Firmicutes;c_Bacilli;o_Staphyloco...  \n",
       "3        2  1.00  d_Bacteria;p_Actinobacteriota;c_Actinomycetia;...  \n",
       "4        4  1.00  d_Bacteria;p_Firmicutes;c_Bacilli;o_Staphyloco...  \n",
       "...     ..   ...                                                ...  \n",
       "187601  14  0.99  d_Bacteria;p_Proteobacteria;c_Alphaproteobacte...  \n",
       "187602   3  0.50  d_Bacteria;p_Actinobacteriota;c_Actinomycetia;...  \n",
       "187603  12  1.00  d_Bacteria;p_Firmicutes;c_Bacilli;o_Staphyloco...  \n",
       "187604   4  1.00  d_Bacteria;p_Firmicutes;c_Bacilli;o_Staphyloco...  \n",
       "187605   6  0.86  d_Bacteria;p_Proteobacteria;c_Alphaproteobacte...  \n",
       "\n",
       "[161719 rows x 9 columns]"
      ]
     },
     "execution_count": 194,
     "metadata": {},
     "output_type": "execute_result"
    }
   ],
   "source": [
    "df_mmseq_genus"
   ]
  },
  {
   "cell_type": "code",
   "execution_count": 206,
   "id": "72c73756",
   "metadata": {},
   "outputs": [
    {
     "name": "stderr",
     "output_type": "stream",
     "text": [
      "/var/folders/5b/1dk8bnws25l6w502hfdc8xw80000gn/T/ipykernel_12840/1367947976.py:1: SettingWithCopyWarning: \n",
      "A value is trying to be set on a copy of a slice from a DataFrame.\n",
      "Try using .loc[row_indexer,col_indexer] = value instead\n",
      "\n",
      "See the caveats in the documentation: https://pandas.pydata.org/pandas-docs/stable/user_guide/indexing.html#returning-a-view-versus-a-copy\n",
      "  df_mmseq_genus['genus'] = df_mmseq_genus[8].str.split(';').str[5]\n"
     ]
    }
   ],
   "source": [
    "df_mmseq_genus['genus'] = df_mmseq_genus[8].str.split(';').str[5]"
   ]
  },
  {
   "cell_type": "code",
   "execution_count": 208,
   "id": "70865747",
   "metadata": {},
   "outputs": [
    {
     "data": {
      "text/plain": [
       "500"
      ]
     },
     "execution_count": 208,
     "metadata": {},
     "output_type": "execute_result"
    }
   ],
   "source": [
    "len(df_mmseq_genus['genus'].unique())"
   ]
  },
  {
   "cell_type": "code",
   "execution_count": 209,
   "id": "166d9358",
   "metadata": {},
   "outputs": [
    {
     "data": {
      "text/plain": [
       "0.8616511708447665"
      ]
     },
     "execution_count": 209,
     "metadata": {},
     "output_type": "execute_result"
    }
   ],
   "source": [
    "161719.0 / 187685"
   ]
  },
  {
   "cell_type": "code",
   "execution_count": 213,
   "id": "4b8db23f",
   "metadata": {},
   "outputs": [],
   "source": [
    "df_tax = pd.read_csv(taxonomy_path, delimiter='\\t', header=None)\n",
    "df_ref = pd.read_csv(reference_path, delimiter='\\t', header=None)"
   ]
  },
  {
   "cell_type": "code",
   "execution_count": 228,
   "id": "dd43fc7d",
   "metadata": {},
   "outputs": [],
   "source": [
    "genus_dict = {r[0]: r[2] for _, r in df_tax.iterrows()}\n",
    "species_dict = {r[0]: r[1] for _, r in df_tax.iterrows()}"
   ]
  },
  {
   "cell_type": "code",
   "execution_count": 229,
   "id": "6f720f81",
   "metadata": {},
   "outputs": [],
   "source": [
    "df_ref['genus'] = df_ref[1].map(genus_dict)\n",
    "df_ref['species'] = df_ref[1].map(species_dict)"
   ]
  },
  {
   "cell_type": "code",
   "execution_count": 230,
   "id": "499d57c3",
   "metadata": {},
   "outputs": [
    {
     "data": {
      "text/plain": [
       "(828, 828)"
      ]
     },
     "execution_count": 230,
     "metadata": {},
     "output_type": "execute_result"
    }
   ],
   "source": [
    "len(genus_dict), len(species_dict)"
   ]
  },
  {
   "cell_type": "code",
   "execution_count": 231,
   "id": "f2342ed1",
   "metadata": {},
   "outputs": [
    {
     "data": {
      "text/plain": [
       "Staphylococcus aureus                 41754\n",
       "Corynebacterium pseudotuberculosis    13779\n",
       "Escherichia coli                       6254\n",
       "Corynebacterium glutamicum             5294\n",
       "Neisseria meningitidis                 4922\n",
       "                                      ...  \n",
       "Streptococcus pantholopis                 1\n",
       "Aerococcus urinaehominis                  1\n",
       "Brevibacterium linens                     1\n",
       "Corynebacterium doosanense                1\n",
       "Paucibacter sp. KCTC 42545                1\n",
       "Name: species, Length: 266, dtype: int64"
      ]
     },
     "execution_count": 231,
     "metadata": {},
     "output_type": "execute_result"
    }
   ],
   "source": [
    "df_ref.species.value_counts(dropna=False)"
   ]
  },
  {
   "cell_type": "code",
   "execution_count": 232,
   "id": "be8ab59a",
   "metadata": {},
   "outputs": [
    {
     "data": {
      "text/html": [
       "<div>\n",
       "<style scoped>\n",
       "    .dataframe tbody tr th:only-of-type {\n",
       "        vertical-align: middle;\n",
       "    }\n",
       "\n",
       "    .dataframe tbody tr th {\n",
       "        vertical-align: top;\n",
       "    }\n",
       "\n",
       "    .dataframe thead th {\n",
       "        text-align: right;\n",
       "    }\n",
       "</style>\n",
       "<table border=\"1\" class=\"dataframe\">\n",
       "  <thead>\n",
       "    <tr style=\"text-align: right;\">\n",
       "      <th></th>\n",
       "      <th>0</th>\n",
       "      <th>1</th>\n",
       "      <th>2</th>\n",
       "      <th>3</th>\n",
       "      <th>4</th>\n",
       "      <th>genus</th>\n",
       "      <th>species</th>\n",
       "    </tr>\n",
       "  </thead>\n",
       "  <tbody>\n",
       "    <tr>\n",
       "      <th>0</th>\n",
       "      <td>S23C236194</td>\n",
       "      <td>OTU_97.38699.0</td>\n",
       "      <td>CP013953.1</td>\n",
       "      <td>405835</td>\n",
       "      <td>408637</td>\n",
       "      <td>Staphylococcus</td>\n",
       "      <td>Staphylococcus aureus</td>\n",
       "    </tr>\n",
       "    <tr>\n",
       "      <th>1</th>\n",
       "      <td>S23C27593</td>\n",
       "      <td>OTU_97.44406.0</td>\n",
       "      <td>CP015430.1</td>\n",
       "      <td>1591817</td>\n",
       "      <td>1594726</td>\n",
       "      <td>Haemophilus</td>\n",
       "      <td>[Haemophilus] ducreyi</td>\n",
       "    </tr>\n",
       "    <tr>\n",
       "      <th>2</th>\n",
       "      <td>S23C53437</td>\n",
       "      <td>OTU_97.35057.0</td>\n",
       "      <td>CP012974.1</td>\n",
       "      <td>260542</td>\n",
       "      <td>266700</td>\n",
       "      <td>Staphylococcus</td>\n",
       "      <td>Staphylococcus aureus</td>\n",
       "    </tr>\n",
       "    <tr>\n",
       "      <th>3</th>\n",
       "      <td>S23C191539</td>\n",
       "      <td>OTU_97.16597.0</td>\n",
       "      <td>CP010116.1</td>\n",
       "      <td>1675948</td>\n",
       "      <td>1678686</td>\n",
       "      <td>Escherichia</td>\n",
       "      <td>Escherichia coli</td>\n",
       "    </tr>\n",
       "    <tr>\n",
       "      <th>4</th>\n",
       "      <td>S23C111210</td>\n",
       "      <td>OTU_97.20680.0</td>\n",
       "      <td>CP013619.1</td>\n",
       "      <td>408162</td>\n",
       "      <td>411064</td>\n",
       "      <td>Staphylococcus</td>\n",
       "      <td>Staphylococcus aureus</td>\n",
       "    </tr>\n",
       "    <tr>\n",
       "      <th>...</th>\n",
       "      <td>...</td>\n",
       "      <td>...</td>\n",
       "      <td>...</td>\n",
       "      <td>...</td>\n",
       "      <td>...</td>\n",
       "      <td>...</td>\n",
       "      <td>...</td>\n",
       "    </tr>\n",
       "    <tr>\n",
       "      <th>187680</th>\n",
       "      <td>S10C452544</td>\n",
       "      <td>OTU_97.11086.0</td>\n",
       "      <td>CP015831.1</td>\n",
       "      <td>849612</td>\n",
       "      <td>854660</td>\n",
       "      <td>Escherichia</td>\n",
       "      <td>Escherichia coli</td>\n",
       "    </tr>\n",
       "    <tr>\n",
       "      <th>187681</th>\n",
       "      <td>S10C406459</td>\n",
       "      <td>OTU_97.36530.0</td>\n",
       "      <td>CP012013.1</td>\n",
       "      <td>2217103</td>\n",
       "      <td>2221049</td>\n",
       "      <td>Staphylococcus</td>\n",
       "      <td>Staphylococcus aureus</td>\n",
       "    </tr>\n",
       "    <tr>\n",
       "      <th>187682</th>\n",
       "      <td>S10C287317</td>\n",
       "      <td>OTU_97.34832.0</td>\n",
       "      <td>CP001781.1</td>\n",
       "      <td>959338</td>\n",
       "      <td>962517</td>\n",
       "      <td>Staphylococcus</td>\n",
       "      <td>Staphylococcus aureus</td>\n",
       "    </tr>\n",
       "    <tr>\n",
       "      <th>187683</th>\n",
       "      <td>S10C136350</td>\n",
       "      <td>OTU_97.35501.0</td>\n",
       "      <td>CP014022.1</td>\n",
       "      <td>2434269</td>\n",
       "      <td>2437523</td>\n",
       "      <td>Staphylococcus</td>\n",
       "      <td>Staphylococcus lugdunensis</td>\n",
       "    </tr>\n",
       "    <tr>\n",
       "      <th>187684</th>\n",
       "      <td>S10C130803</td>\n",
       "      <td>OTU_97.24948.0</td>\n",
       "      <td>CP011311.1</td>\n",
       "      <td>1505893</td>\n",
       "      <td>1514425</td>\n",
       "      <td>Corynebacterium</td>\n",
       "      <td>Corynebacterium camporealensis</td>\n",
       "    </tr>\n",
       "  </tbody>\n",
       "</table>\n",
       "<p>187685 rows × 7 columns</p>\n",
       "</div>"
      ],
      "text/plain": [
       "                 0               1           2        3        4  \\\n",
       "0       S23C236194  OTU_97.38699.0  CP013953.1   405835   408637   \n",
       "1        S23C27593  OTU_97.44406.0  CP015430.1  1591817  1594726   \n",
       "2        S23C53437  OTU_97.35057.0  CP012974.1   260542   266700   \n",
       "3       S23C191539  OTU_97.16597.0  CP010116.1  1675948  1678686   \n",
       "4       S23C111210  OTU_97.20680.0  CP013619.1   408162   411064   \n",
       "...            ...             ...         ...      ...      ...   \n",
       "187680  S10C452544  OTU_97.11086.0  CP015831.1   849612   854660   \n",
       "187681  S10C406459  OTU_97.36530.0  CP012013.1  2217103  2221049   \n",
       "187682  S10C287317  OTU_97.34832.0  CP001781.1   959338   962517   \n",
       "187683  S10C136350  OTU_97.35501.0  CP014022.1  2434269  2437523   \n",
       "187684  S10C130803  OTU_97.24948.0  CP011311.1  1505893  1514425   \n",
       "\n",
       "                  genus                         species  \n",
       "0        Staphylococcus           Staphylococcus aureus  \n",
       "1           Haemophilus           [Haemophilus] ducreyi  \n",
       "2        Staphylococcus           Staphylococcus aureus  \n",
       "3           Escherichia                Escherichia coli  \n",
       "4        Staphylococcus           Staphylococcus aureus  \n",
       "...                 ...                             ...  \n",
       "187680      Escherichia                Escherichia coli  \n",
       "187681   Staphylococcus           Staphylococcus aureus  \n",
       "187682   Staphylococcus           Staphylococcus aureus  \n",
       "187683   Staphylococcus      Staphylococcus lugdunensis  \n",
       "187684  Corynebacterium  Corynebacterium camporealensis  \n",
       "\n",
       "[187685 rows x 7 columns]"
      ]
     },
     "execution_count": 232,
     "metadata": {},
     "output_type": "execute_result"
    }
   ],
   "source": [
    "df_ref"
   ]
  },
  {
   "cell_type": "code",
   "execution_count": 234,
   "id": "82c53dd5",
   "metadata": {},
   "outputs": [
    {
     "name": "stdout",
     "output_type": "stream",
     "text": [
      "qsub -d `pwd` -l nodes=1:ppn=4:gpus=1,mem=20gb,walltime=1:00:00:00 -r y -N species_100 -e Out/species_100.err -o Out/species_100.out -A cpr_10006 -W group_list=cpr_10006 computerome_semisupervised_species_100.sh\n",
      "qsub -d `pwd` -l nodes=1:ppn=4:gpus=1,mem=20gb,walltime=1:00:00:00 -r y -N genus_100 -e Out/genus_100.err -o Out/genus_100.out -A cpr_10006 -W group_list=cpr_10006 computerome_semisupervised_genus_100.sh\n",
      "qsub -d `pwd` -l nodes=1:ppn=4:gpus=1,mem=20gb,walltime=1:00:00:00 -r y -N species_50 -e Out/species_50.err -o Out/species_50.out -A cpr_10006 -W group_list=cpr_10006 computerome_semisupervised_species_50.sh\n",
      "qsub -d `pwd` -l nodes=1:ppn=4:gpus=1,mem=20gb,walltime=1:00:00:00 -r y -N genus_50 -e Out/genus_50.err -o Out/genus_50.out -A cpr_10006 -W group_list=cpr_10006 computerome_semisupervised_genus_50.sh\n",
      "qsub -d `pwd` -l nodes=1:ppn=4:gpus=1,mem=20gb,walltime=1:00:00:00 -r y -N species_10 -e Out/species_10.err -o Out/species_10.out -A cpr_10006 -W group_list=cpr_10006 computerome_semisupervised_species_10.sh\n",
      "qsub -d `pwd` -l nodes=1:ppn=4:gpus=1,mem=20gb,walltime=1:00:00:00 -r y -N genus_10 -e Out/genus_10.err -o Out/genus_10.out -A cpr_10006 -W group_list=cpr_10006 computerome_semisupervised_genus_10.sh\n",
      "qsub -d `pwd` -l nodes=1:ppn=4:gpus=1,mem=20gb,walltime=1:00:00:00 -r y -N species_1 -e Out/species_1.err -o Out/species_1.out -A cpr_10006 -W group_list=cpr_10006 computerome_semisupervised_species_1.sh\n",
      "qsub -d `pwd` -l nodes=1:ppn=4:gpus=1,mem=20gb,walltime=1:00:00:00 -r y -N genus_1 -e Out/genus_1.err -o Out/genus_1.out -A cpr_10006 -W group_list=cpr_10006 computerome_semisupervised_genus_1.sh\n"
     ]
    }
   ],
   "source": [
    "for n in [100, 50, 10, 1]:\n",
    "    for s in ['species', 'genus']:\n",
    "        print(f'qsub -d `pwd` -l nodes=1:ppn=4:gpus=1,mem=20gb,walltime=1:00:00:00 -r y -N {s}_{n} -e Out/{s}_{n}.err -o Out/{s}_{n}.out -A cpr_10006 -W group_list=cpr_10006 computerome_semisupervised_{s}_{n}.sh')\n",
    "                            \n",
    "                            "
   ]
  },
  {
   "cell_type": "code",
   "execution_count": null,
   "id": "f356d033",
   "metadata": {},
   "outputs": [],
   "source": []
  }
 ],
 "metadata": {
  "kernelspec": {
   "display_name": "Python 3 (ipykernel)",
   "language": "python",
   "name": "python3"
  },
  "language_info": {
   "codemirror_mode": {
    "name": "ipython",
    "version": 3
   },
   "file_extension": ".py",
   "mimetype": "text/x-python",
   "name": "python",
   "nbconvert_exporter": "python",
   "pygments_lexer": "ipython3",
   "version": "3.9.7"
  }
 },
 "nbformat": 4,
 "nbformat_minor": 5
}
