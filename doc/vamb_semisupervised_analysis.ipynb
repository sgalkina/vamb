{
 "cells": [
  {
   "cell_type": "code",
   "execution_count": 22,
   "id": "ad3f07c4",
   "metadata": {},
   "outputs": [],
   "source": [
    "import sys\n",
    "import os\n",
    "import vamb\n",
    "import torch\n",
    "import pickle\n",
    "import numpy as np\n",
    "import pandas as pd\n",
    "import matplotlib.pyplot as plt\n",
    "from collections import defaultdict"
   ]
  },
  {
   "cell_type": "code",
   "execution_count": 10,
   "id": "89fff8f3",
   "metadata": {},
   "outputs": [],
   "source": [
    "PATH_VAMB = '/Users/nmb127/Documents/vamb'\n",
    "PATH_VAMB_DATA = '/Users/nmb127/Documents/vamb_data'"
   ]
  },
  {
   "cell_type": "code",
   "execution_count": 11,
   "id": "b5f84da0",
   "metadata": {},
   "outputs": [],
   "source": [
    "def parse_logfile(filepath):\n",
    "    results = defaultdict(list)\n",
    "    with open(f'{PATH_VAMB}/{filepath}') as f:\n",
    "        for line in f:\n",
    "            if line.startswith('loss_vamb'):\n",
    "                for metric in line.split(', '):\n",
    "                    k, v = metric.split(' ')\n",
    "                    results[k].append(float(v))\n",
    "    return results"
   ]
  },
  {
   "cell_type": "code",
   "execution_count": 33,
   "id": "aecefc0f",
   "metadata": {},
   "outputs": [],
   "source": [
    "def filterclusters(clusters, lengthof):\n",
    "    filtered_bins = dict()\n",
    "    for medoid, contigs in clusters.items():\n",
    "        binsize = sum(lengthof[contig] for contig in contigs)\n",
    "    \n",
    "        if binsize >= 200000:\n",
    "            filtered_bins[medoid] = contigs\n",
    "    \n",
    "    return filtered_bins"
   ]
  },
  {
   "cell_type": "code",
   "execution_count": 30,
   "id": "c9559fdc",
   "metadata": {},
   "outputs": [],
   "source": [
    "contig_path = f'{PATH_VAMB_DATA}/data/airways/contigs.fna'\n",
    "with vamb.vambtools.Reader(contig_path, 'rb') as filehandle:\n",
    "    tnfs, CONTIGNAMES, LENGTHS = vamb.parsecontigs.read_contigs(filehandle)\n",
    "rpkms = vamb.vambtools.read_npz(f'{PATH_VAMB_DATA}/data/airways/abundance.npz')\n",
    "vae = vamb.encode.VAE(nsamples=rpkms.shape[1])\n",
    "_, MASK = vamb.encode.make_dataloader(rpkms, tnfs)"
   ]
  },
  {
   "cell_type": "code",
   "execution_count": 17,
   "id": "ee540b38",
   "metadata": {},
   "outputs": [
    {
     "name": "stdout",
     "output_type": "stream",
     "text": [
      "S23C236194\tOTU_97.38699.0\tCP013953.1\t405835\t408637\r\n",
      "S23C27593\tOTU_97.44406.0\tCP015430.1\t1591817\t1594726\r\n",
      "S23C53437\tOTU_97.35057.0\tCP012974.1\t260542\t266700\r\n",
      "S23C191539\tOTU_97.16597.0\tCP010116.1\t1675948\t1678686\r\n",
      "S23C111210\tOTU_97.20680.0\tCP013619.1\t408162\t411064\r\n",
      "S23C216129\tOTU_97.409.0\tCP013957.1\t103779\t106015\r\n",
      "S23C2782\tOTU_97.45246.0\tCP007573.1\t1941619\t1956892\r\n",
      "S23C9729\tOTU_97.44851.0\tCP015426.1\t1099587\t1121671\r\n",
      "S23C36165\tOTU_97.409.0\tCP013957.1\t427732\t429801\r\n",
      "S23C90379\tOTU_97.2104.0\tCP019196.1\t300725\t303071\r\n"
     ]
    }
   ],
   "source": [
    "reference_path = f'{PATH_VAMB_DATA}/data/airways/reference.tsv'\n",
    "\n",
    "!head $reference_path # show first 10 lines of reference file\n",
    "\n",
    "with open(reference_path) as reference_file:\n",
    "    REFERENCE = vamb.benchmark.Reference.from_file(reference_file)"
   ]
  },
  {
   "cell_type": "code",
   "execution_count": 57,
   "id": "f93c3384",
   "metadata": {},
   "outputs": [],
   "source": [
    "def save_clusters(filepath, cluster_path, indices=None):\n",
    "    print(filepath)\n",
    "    latent_labels = np.load(f'{PATH_VAMB}/{filepath}')\n",
    "    if indices:\n",
    "        print(len(indices))\n",
    "        contignames, mask, lengths = \\\n",
    "            np.array(CONTIGNAMES)[indices], np.array(MASK)[indices], np.array(LENGTHS)[indices]\n",
    "    else:\n",
    "        contignames, mask, lengths = CONTIGNAMES, MASK, LENGTHS\n",
    "    filtered_labels = [n for (n,m) in zip(contignames, mask) if m]\n",
    "    cluster_iterator = vamb.cluster.cluster(latent_labels, labels=filtered_labels)\n",
    "    clusters = dict(cluster_iterator)\n",
    "\n",
    "    medoid, contigs = next(iter(clusters.items()))\n",
    "    print('First key:', medoid, '(of type:', type(medoid), ')')\n",
    "    print('Type of values:', type(contigs))\n",
    "    print('First element of value:', next(iter(contigs)), 'of type:', type(next(iter(contigs))))\n",
    "\n",
    "    lengthof = dict(zip(contignames, lengths))\n",
    "    filtered_bins = filterclusters(vamb.vambtools.binsplit(clusters, 'C'), lengthof)\n",
    "    print('Number of bins before splitting and filtering:', len(clusters))\n",
    "    print('Number of bins after splitting and filtering:', len(filtered_bins))\n",
    "\n",
    "    with open(f'{PATH_VAMB}/{cluster_path}', 'w') as file:\n",
    "        vamb.vambtools.write_clusters(file, filtered_bins)\n",
    "\n",
    "\n",
    "def bin_saved_clusters(cluster_path):\n",
    "    with open(f'{PATH_VAMB}/{cluster_path}') as clusters_file:\n",
    "        vamb_clusters = vamb.vambtools.read_clusters(clusters_file)\n",
    "        vamb_clusters_clean = {k: [i.strip() for i in v] for k, v in vamb_clusters.items()}\n",
    "        vamb_bins = vamb.benchmark.Binning(vamb_clusters_clean, REFERENCE, minsize=200000)\n",
    "    return vamb_bins\n"
   ]
  },
  {
   "cell_type": "code",
   "execution_count": 93,
   "id": "33275f0d",
   "metadata": {},
   "outputs": [],
   "source": [
    "def save_clusters_both(filepath_vamb, filepath_both, indices_vamb, indices_both, cluster_path):\n",
    "    latent_vamb = np.load(f'{PATH_VAMB}/{filepath_vamb}')\n",
    "    latent_both = np.load(f'{PATH_VAMB}/{filepath_both}')\n",
    "    new_indices = [np.argwhere(indices_vamb == i)[0][0] for i in indices_both]\n",
    "    print(latent_both.shape, len(new_indices), indices_both.shape)\n",
    "    latent_vamb[new_indices] = latent_both\n",
    "    contignames, mask, lengths = \\\n",
    "        np.array(CONTIGNAMES)[indices_vamb], np.array(MASK)[indices_vamb], np.array(LENGTHS)[indices_vamb]\n",
    "        \n",
    "    filtered_labels = [n for (n,m) in zip(contignames, mask) if m]\n",
    "    cluster_iterator = vamb.cluster.cluster(latent_vamb, labels=filtered_labels)\n",
    "    clusters = dict(cluster_iterator)\n",
    "\n",
    "    medoid, contigs = next(iter(clusters.items()))\n",
    "    print('First key:', medoid, '(of type:', type(medoid), ')')\n",
    "    print('Type of values:', type(contigs))\n",
    "    print('First element of value:', next(iter(contigs)), 'of type:', type(next(iter(contigs))))\n",
    "\n",
    "    lengthof = dict(zip(contignames, lengths))\n",
    "    filtered_bins = filterclusters(vamb.vambtools.binsplit(clusters, 'C'), lengthof)\n",
    "    print('Number of bins before splitting and filtering:', len(clusters))\n",
    "    print('Number of bins after splitting and filtering:', len(filtered_bins))\n",
    "\n",
    "    with open(f'{PATH_VAMB}/{cluster_path}', 'w') as file:\n",
    "        vamb.vambtools.write_clusters(file, filtered_bins)"
   ]
  },
  {
   "cell_type": "code",
   "execution_count": 96,
   "id": "6ab685d2",
   "metadata": {},
   "outputs": [],
   "source": [
    "filepaths = [\n",
    "    'latent_trained_semisupervised_1_both.npy',\n",
    "    'latent_trained_semisupervised_1_vamb.npy',\n",
    "    'latent_trained_semisupervised_1_labels.npy',\n",
    "    \n",
    "    'latent_trained_semisupervised_10_both.npy',\n",
    "    'latent_trained_semisupervised_10_vamb.npy',\n",
    "    'latent_trained_semisupervised_10_labels.npy',\n",
    "    \n",
    "    'latent_trained_semisupervised_50_both.npy',\n",
    "    'latent_trained_semisupervised_50_vamb.npy',\n",
    "    'latent_trained_semisupervised_50_labels.npy',\n",
    "]\n",
    "clusters = [\n",
    "    'clusters_1_both.tsv',\n",
    "    'clusters_1_vamb.tsv',\n",
    "    'clusters_1_labels.tsv',\n",
    "    \n",
    "    'clusters_10_both.tsv',\n",
    "    'clusters_10_vamb.tsv',\n",
    "    'clusters_10_labels.tsv',\n",
    "    \n",
    "    'clusters_50_both.npy',\n",
    "    'clusters_50_vamb.npy',\n",
    "    'clusters_50_labels.npy',\n",
    "]\n",
    "filepaths_100 = [\n",
    "    'latent_trained_semisupervised_100_both.npy',\n",
    "    'latent_trained_semisupervised_100_vamb.npy',\n",
    "    'latent_trained_semisupervised_100_labels.npy',\n",
    "]\n",
    "clusters_100 = [\n",
    "    'clusters_100_both.tsv',\n",
    "    'clusters_100_vamb.tsv',\n",
    "    'clusters_100_labels.tsv',\n",
    "]\n",
    "filepaths_one = [\n",
    "    'latent_trained_semisupervised.npy',\n",
    "    'latent_trained_labels.npy',\n",
    "    'latent_trained.npy',\n",
    "]\n",
    "clusters_one = [\n",
    "    'clusters_concat.tsv',\n",
    "    'clusters_labels.tsv',\n",
    "    'clusters_vamb.tsv',\n",
    "]\n",
    "clusters_mixed = [\n",
    "    'clusters_mixed1.tsv',\n",
    "    'clusters_mixed10.tsv',\n",
    "    'clusters_mixed50.tsv',\n",
    "    'clusters_mixed100.tsv',\n",
    "]"
   ]
  },
  {
   "cell_type": "code",
   "execution_count": 49,
   "id": "5a6b6598",
   "metadata": {},
   "outputs": [],
   "source": [
    "with open(f'{PATH_VAMB}/indices_1.pickle', 'rb') as fp:\n",
    "    indices1_x, indices1_y, indices1_sup = pickle.load(fp)\n",
    "with open(f'{PATH_VAMB}/indices_10.pickle', 'rb') as fp:\n",
    "    indices10_x, indices10_y, indices10_sup = pickle.load(fp)\n",
    "with open(f'{PATH_VAMB}/indices_50.pickle', 'rb') as fp:\n",
    "    indices50_x, indices50_y, indices50_sup = pickle.load(fp)\n",
    "with open(f'{PATH_VAMB}/indices_100.pickle', 'rb') as fp:\n",
    "    indices100_x, indices100_y, indices100_sup = pickle.load(fp)"
   ]
  },
  {
   "cell_type": "code",
   "execution_count": 51,
   "id": "91311500",
   "metadata": {},
   "outputs": [],
   "source": [
    "indices = [\n",
    "    indices1_sup, indices1_x, indices1_y,\n",
    "    indices10_sup, indices10_x, indices10_y,\n",
    "    indices50_sup, indices50_x, indices50_y,\n",
    "]\n",
    "indices_100 = [\n",
    "    indices100_sup, indices100_x, indices100_y,\n",
    "]"
   ]
  },
  {
   "cell_type": "code",
   "execution_count": 35,
   "id": "f6468d7b",
   "metadata": {
    "collapsed": true
   },
   "outputs": [
    {
     "name": "stdout",
     "output_type": "stream",
     "text": [
      "First key: S7C60636 (of type: <class 'numpy.str_'> )\n",
      "Type of values: <class 'set'>\n",
      "First element of value: S27C94017 of type: <class 'numpy.str_'>\n",
      "Number of bins before splitting and filtering: 1\n",
      "Number of bins after splitting and filtering: 10\n",
      "First key: S27C166967 (of type: <class 'numpy.str_'> )\n",
      "Type of values: <class 'set'>\n",
      "First element of value: S27C166967 of type: <class 'numpy.str_'>\n",
      "Number of bins before splitting and filtering: 36231\n",
      "Number of bins after splitting and filtering: 427\n",
      "First key: S27C8938 (of type: <class 'numpy.str_'> )\n",
      "Type of values: <class 'set'>\n",
      "First element of value: S27C6358 of type: <class 'numpy.str_'>\n",
      "Number of bins before splitting and filtering: 639\n",
      "Number of bins after splitting and filtering: 717\n",
      "First key: S7C280317 (of type: <class 'numpy.str_'> )\n",
      "Type of values: <class 'set'>\n",
      "First element of value: S7C280317 of type: <class 'numpy.str_'>\n",
      "Number of bins before splitting and filtering: 45\n",
      "Number of bins after splitting and filtering: 10\n",
      "First key: S27C148411 (of type: <class 'numpy.str_'> )\n",
      "Type of values: <class 'set'>\n",
      "First element of value: S27C148411 of type: <class 'numpy.str_'>\n",
      "Number of bins before splitting and filtering: 39156\n",
      "Number of bins after splitting and filtering: 421\n",
      "First key: S11C7086 (of type: <class 'numpy.str_'> )\n",
      "Type of values: <class 'set'>\n",
      "First element of value: S12C200206 of type: <class 'numpy.str_'>\n",
      "Number of bins before splitting and filtering: 639\n",
      "Number of bins after splitting and filtering: 717\n",
      "First key: S7C477616 (of type: <class 'numpy.str_'> )\n",
      "Type of values: <class 'set'>\n",
      "First element of value: S27C170954 of type: <class 'numpy.str_'>\n",
      "Number of bins before splitting and filtering: 2069\n",
      "Number of bins after splitting and filtering: 13\n",
      "First key: S26C238967 (of type: <class 'numpy.str_'> )\n",
      "Type of values: <class 'set'>\n",
      "First element of value: S26C238967 of type: <class 'numpy.str_'>\n",
      "Number of bins before splitting and filtering: 38082\n",
      "Number of bins after splitting and filtering: 424\n",
      "First key: S7C9606 (of type: <class 'numpy.str_'> )\n",
      "Type of values: <class 'set'>\n",
      "First element of value: S7C72951 of type: <class 'numpy.str_'>\n",
      "Number of bins before splitting and filtering: 639\n",
      "Number of bins after splitting and filtering: 717\n"
     ]
    }
   ],
   "source": [
    "for p1, p2, ii in zip(filepaths, clusters, indices):\n",
    "    save_clusters(p1, p2, indices=ii)"
   ]
  },
  {
   "cell_type": "code",
   "execution_count": 58,
   "id": "29c49e57",
   "metadata": {
    "collapsed": true
   },
   "outputs": [
    {
     "name": "stdout",
     "output_type": "stream",
     "text": [
      "latent_trained_semisupervised_100_both.npy\n",
      "187685\n",
      "First key: S27C141880 (of type: <class 'numpy.str_'> )\n",
      "Type of values: <class 'set'>\n",
      "First element of value: S27C141880 of type: <class 'numpy.str_'>\n",
      "Number of bins before splitting and filtering: 12725\n",
      "Number of bins after splitting and filtering: 20\n",
      "latent_trained_semisupervised_100_vamb.npy\n",
      "187685\n"
     ]
    },
    {
     "ename": "KeyboardInterrupt",
     "evalue": "",
     "output_type": "error",
     "traceback": [
      "\u001b[0;31m---------------------------------------------------------------------------\u001b[0m",
      "\u001b[0;31mKeyboardInterrupt\u001b[0m                         Traceback (most recent call last)",
      "\u001b[0;32m/var/folders/5b/1dk8bnws25l6w502hfdc8xw80000gn/T/ipykernel_12840/1266706125.py\u001b[0m in \u001b[0;36m<module>\u001b[0;34m\u001b[0m\n\u001b[1;32m      1\u001b[0m \u001b[0;32mfor\u001b[0m \u001b[0mp1\u001b[0m\u001b[0;34m,\u001b[0m \u001b[0mp2\u001b[0m\u001b[0;34m,\u001b[0m \u001b[0mii\u001b[0m \u001b[0;32min\u001b[0m \u001b[0mzip\u001b[0m\u001b[0;34m(\u001b[0m\u001b[0mfilepaths_100\u001b[0m\u001b[0;34m,\u001b[0m \u001b[0mclusters_100\u001b[0m\u001b[0;34m,\u001b[0m \u001b[0mindices_100\u001b[0m\u001b[0;34m)\u001b[0m\u001b[0;34m:\u001b[0m\u001b[0;34m\u001b[0m\u001b[0;34m\u001b[0m\u001b[0m\n\u001b[0;32m----> 2\u001b[0;31m     \u001b[0msave_clusters\u001b[0m\u001b[0;34m(\u001b[0m\u001b[0mp1\u001b[0m\u001b[0;34m,\u001b[0m \u001b[0mp2\u001b[0m\u001b[0;34m,\u001b[0m \u001b[0mindices\u001b[0m\u001b[0;34m=\u001b[0m\u001b[0mii\u001b[0m\u001b[0;34m)\u001b[0m\u001b[0;34m\u001b[0m\u001b[0;34m\u001b[0m\u001b[0m\n\u001b[0m",
      "\u001b[0;32m/var/folders/5b/1dk8bnws25l6w502hfdc8xw80000gn/T/ipykernel_12840/1872540695.py\u001b[0m in \u001b[0;36msave_clusters\u001b[0;34m(filepath, cluster_path, indices)\u001b[0m\n\u001b[1;32m     10\u001b[0m     \u001b[0mfiltered_labels\u001b[0m \u001b[0;34m=\u001b[0m \u001b[0;34m[\u001b[0m\u001b[0mn\u001b[0m \u001b[0;32mfor\u001b[0m \u001b[0;34m(\u001b[0m\u001b[0mn\u001b[0m\u001b[0;34m,\u001b[0m\u001b[0mm\u001b[0m\u001b[0;34m)\u001b[0m \u001b[0;32min\u001b[0m \u001b[0mzip\u001b[0m\u001b[0;34m(\u001b[0m\u001b[0mcontignames\u001b[0m\u001b[0;34m,\u001b[0m \u001b[0mmask\u001b[0m\u001b[0;34m)\u001b[0m \u001b[0;32mif\u001b[0m \u001b[0mm\u001b[0m\u001b[0;34m]\u001b[0m\u001b[0;34m\u001b[0m\u001b[0;34m\u001b[0m\u001b[0m\n\u001b[1;32m     11\u001b[0m     \u001b[0mcluster_iterator\u001b[0m \u001b[0;34m=\u001b[0m \u001b[0mvamb\u001b[0m\u001b[0;34m.\u001b[0m\u001b[0mcluster\u001b[0m\u001b[0;34m.\u001b[0m\u001b[0mcluster\u001b[0m\u001b[0;34m(\u001b[0m\u001b[0mlatent_labels\u001b[0m\u001b[0;34m,\u001b[0m \u001b[0mlabels\u001b[0m\u001b[0;34m=\u001b[0m\u001b[0mfiltered_labels\u001b[0m\u001b[0;34m)\u001b[0m\u001b[0;34m\u001b[0m\u001b[0;34m\u001b[0m\u001b[0m\n\u001b[0;32m---> 12\u001b[0;31m     \u001b[0mclusters\u001b[0m \u001b[0;34m=\u001b[0m \u001b[0mdict\u001b[0m\u001b[0;34m(\u001b[0m\u001b[0mcluster_iterator\u001b[0m\u001b[0;34m)\u001b[0m\u001b[0;34m\u001b[0m\u001b[0;34m\u001b[0m\u001b[0m\n\u001b[0m\u001b[1;32m     13\u001b[0m \u001b[0;34m\u001b[0m\u001b[0m\n\u001b[1;32m     14\u001b[0m     \u001b[0mmedoid\u001b[0m\u001b[0;34m,\u001b[0m \u001b[0mcontigs\u001b[0m \u001b[0;34m=\u001b[0m \u001b[0mnext\u001b[0m\u001b[0;34m(\u001b[0m\u001b[0miter\u001b[0m\u001b[0;34m(\u001b[0m\u001b[0mclusters\u001b[0m\u001b[0;34m.\u001b[0m\u001b[0mitems\u001b[0m\u001b[0;34m(\u001b[0m\u001b[0;34m)\u001b[0m\u001b[0;34m)\u001b[0m\u001b[0;34m)\u001b[0m\u001b[0;34m\u001b[0m\u001b[0;34m\u001b[0m\u001b[0m\n",
      "\u001b[0;32m~/Documents/vamb/vamb/cluster.py\u001b[0m in \u001b[0;36mcluster\u001b[0;34m(matrix, labels, maxsteps, windowsize, minsuccesses, destroy, normalized, cuda)\u001b[0m\n\u001b[1;32m    456\u001b[0m \u001b[0;34m\u001b[0m\u001b[0m\n\u001b[1;32m    457\u001b[0m     \u001b[0mit\u001b[0m \u001b[0;34m=\u001b[0m \u001b[0mClusterGenerator\u001b[0m\u001b[0;34m(\u001b[0m\u001b[0mmatrix\u001b[0m\u001b[0;34m,\u001b[0m \u001b[0mmaxsteps\u001b[0m\u001b[0;34m,\u001b[0m \u001b[0mwindowsize\u001b[0m\u001b[0;34m,\u001b[0m \u001b[0mminsuccesses\u001b[0m\u001b[0;34m,\u001b[0m \u001b[0mdestroy\u001b[0m\u001b[0;34m,\u001b[0m \u001b[0mnormalized\u001b[0m\u001b[0;34m,\u001b[0m \u001b[0mcuda\u001b[0m\u001b[0;34m)\u001b[0m\u001b[0;34m\u001b[0m\u001b[0;34m\u001b[0m\u001b[0m\n\u001b[0;32m--> 458\u001b[0;31m     \u001b[0;32mfor\u001b[0m \u001b[0mcluster\u001b[0m \u001b[0;32min\u001b[0m \u001b[0mit\u001b[0m\u001b[0;34m:\u001b[0m\u001b[0;34m\u001b[0m\u001b[0;34m\u001b[0m\u001b[0m\n\u001b[0m\u001b[1;32m    459\u001b[0m         \u001b[0;32myield\u001b[0m \u001b[0mcluster\u001b[0m\u001b[0;34m.\u001b[0m\u001b[0mas_tuple\u001b[0m\u001b[0;34m(\u001b[0m\u001b[0mlabels\u001b[0m\u001b[0;34m)\u001b[0m\u001b[0;34m\u001b[0m\u001b[0;34m\u001b[0m\u001b[0m\n\u001b[1;32m    460\u001b[0m \u001b[0;34m\u001b[0m\u001b[0m\n",
      "\u001b[0;32m~/Documents/vamb/vamb/cluster.py\u001b[0m in \u001b[0;36m__next__\u001b[0;34m(self)\u001b[0m\n\u001b[1;32m    195\u001b[0m             \u001b[0;32mraise\u001b[0m \u001b[0mStopIteration\u001b[0m\u001b[0;34m\u001b[0m\u001b[0;34m\u001b[0m\u001b[0m\n\u001b[1;32m    196\u001b[0m \u001b[0;34m\u001b[0m\u001b[0m\n\u001b[0;32m--> 197\u001b[0;31m         \u001b[0mcluster\u001b[0m\u001b[0;34m,\u001b[0m \u001b[0mmedoid\u001b[0m\u001b[0;34m,\u001b[0m \u001b[0mpoints\u001b[0m \u001b[0;34m=\u001b[0m \u001b[0mself\u001b[0m\u001b[0;34m.\u001b[0m\u001b[0m_findcluster\u001b[0m\u001b[0;34m(\u001b[0m\u001b[0;34m)\u001b[0m\u001b[0;34m\u001b[0m\u001b[0;34m\u001b[0m\u001b[0m\n\u001b[0m\u001b[1;32m    198\u001b[0m         \u001b[0mself\u001b[0m\u001b[0;34m.\u001b[0m\u001b[0mnclusters\u001b[0m \u001b[0;34m+=\u001b[0m \u001b[0;36m1\u001b[0m\u001b[0;34m\u001b[0m\u001b[0;34m\u001b[0m\u001b[0m\n\u001b[1;32m    199\u001b[0m \u001b[0;34m\u001b[0m\u001b[0m\n",
      "\u001b[0;32m~/Documents/vamb/vamb/cluster.py\u001b[0m in \u001b[0;36m_findcluster\u001b[0;34m(self)\u001b[0m\n\u001b[1;32m    226\u001b[0m                 \u001b[0mself\u001b[0m\u001b[0;34m.\u001b[0m\u001b[0mseed\u001b[0m \u001b[0;34m=\u001b[0m \u001b[0;34m(\u001b[0m\u001b[0mself\u001b[0m\u001b[0;34m.\u001b[0m\u001b[0mseed\u001b[0m \u001b[0;34m+\u001b[0m \u001b[0;36m1\u001b[0m\u001b[0;34m)\u001b[0m \u001b[0;34m%\u001b[0m \u001b[0mlen\u001b[0m\u001b[0;34m(\u001b[0m\u001b[0mself\u001b[0m\u001b[0;34m.\u001b[0m\u001b[0mmatrix\u001b[0m\u001b[0;34m)\u001b[0m\u001b[0;34m\u001b[0m\u001b[0;34m\u001b[0m\u001b[0m\n\u001b[1;32m    227\u001b[0m \u001b[0;34m\u001b[0m\u001b[0m\n\u001b[0;32m--> 228\u001b[0;31m             \u001b[0mmedoid\u001b[0m\u001b[0;34m,\u001b[0m \u001b[0mdistances\u001b[0m \u001b[0;34m=\u001b[0m \u001b[0m_wander_medoid\u001b[0m\u001b[0;34m(\u001b[0m\u001b[0mself\u001b[0m\u001b[0;34m.\u001b[0m\u001b[0mmatrix\u001b[0m\u001b[0;34m,\u001b[0m \u001b[0mself\u001b[0m\u001b[0;34m.\u001b[0m\u001b[0mkept_mask\u001b[0m\u001b[0;34m,\u001b[0m \u001b[0mself\u001b[0m\u001b[0;34m.\u001b[0m\u001b[0mseed\u001b[0m\u001b[0;34m,\u001b[0m \u001b[0mself\u001b[0m\u001b[0;34m.\u001b[0m\u001b[0mMAXSTEPS\u001b[0m\u001b[0;34m,\u001b[0m \u001b[0mself\u001b[0m\u001b[0;34m.\u001b[0m\u001b[0mRNG\u001b[0m\u001b[0;34m,\u001b[0m \u001b[0mself\u001b[0m\u001b[0;34m.\u001b[0m\u001b[0mCUDA\u001b[0m\u001b[0;34m)\u001b[0m\u001b[0;34m\u001b[0m\u001b[0;34m\u001b[0m\u001b[0m\n\u001b[0m\u001b[1;32m    229\u001b[0m \u001b[0;34m\u001b[0m\u001b[0m\n\u001b[1;32m    230\u001b[0m             \u001b[0;31m# We need to make a histogram of only the unclustered distances - when run on GPU\u001b[0m\u001b[0;34m\u001b[0m\u001b[0;34m\u001b[0m\u001b[0m\n",
      "\u001b[0;32m~/Documents/vamb/vamb/cluster.py\u001b[0m in \u001b[0;36m_wander_medoid\u001b[0;34m(matrix, kept_mask, medoid, max_attempts, rng, cuda)\u001b[0m\n\u001b[1;32m    407\u001b[0m     \u001b[0mfutile_attempts\u001b[0m \u001b[0;34m=\u001b[0m \u001b[0;36m0\u001b[0m\u001b[0;34m\u001b[0m\u001b[0;34m\u001b[0m\u001b[0m\n\u001b[1;32m    408\u001b[0m     \u001b[0mtried\u001b[0m \u001b[0;34m=\u001b[0m \u001b[0;34m{\u001b[0m\u001b[0mmedoid\u001b[0m\u001b[0;34m}\u001b[0m \u001b[0;31m# keep track of already-tried medoids\u001b[0m\u001b[0;34m\u001b[0m\u001b[0;34m\u001b[0m\u001b[0m\n\u001b[0;32m--> 409\u001b[0;31m     \u001b[0mcluster\u001b[0m\u001b[0;34m,\u001b[0m \u001b[0mdistances\u001b[0m\u001b[0;34m,\u001b[0m \u001b[0maverage_distance\u001b[0m \u001b[0;34m=\u001b[0m \u001b[0m_sample_medoid\u001b[0m\u001b[0;34m(\u001b[0m\u001b[0mmatrix\u001b[0m\u001b[0;34m,\u001b[0m \u001b[0mkept_mask\u001b[0m\u001b[0;34m,\u001b[0m \u001b[0mmedoid\u001b[0m\u001b[0;34m,\u001b[0m \u001b[0m_MEDOID_RADIUS\u001b[0m\u001b[0;34m,\u001b[0m \u001b[0mcuda\u001b[0m\u001b[0;34m)\u001b[0m\u001b[0;34m\u001b[0m\u001b[0;34m\u001b[0m\u001b[0m\n\u001b[0m\u001b[1;32m    410\u001b[0m \u001b[0;34m\u001b[0m\u001b[0m\n\u001b[1;32m    411\u001b[0m     \u001b[0;32mwhile\u001b[0m \u001b[0mlen\u001b[0m\u001b[0;34m(\u001b[0m\u001b[0mcluster\u001b[0m\u001b[0;34m)\u001b[0m \u001b[0;34m-\u001b[0m \u001b[0mlen\u001b[0m\u001b[0;34m(\u001b[0m\u001b[0mtried\u001b[0m\u001b[0;34m)\u001b[0m \u001b[0;34m>\u001b[0m \u001b[0;36m0\u001b[0m \u001b[0;32mand\u001b[0m \u001b[0mfutile_attempts\u001b[0m \u001b[0;34m<\u001b[0m \u001b[0mmax_attempts\u001b[0m\u001b[0;34m:\u001b[0m\u001b[0;34m\u001b[0m\u001b[0;34m\u001b[0m\u001b[0m\n",
      "\u001b[0;32m~/Documents/vamb/vamb/cluster.py\u001b[0m in \u001b[0;36m_sample_medoid\u001b[0;34m(matrix, kept_mask, medoid, threshold, cuda)\u001b[0m\n\u001b[1;32m    389\u001b[0m     \"\"\"\n\u001b[1;32m    390\u001b[0m \u001b[0;34m\u001b[0m\u001b[0m\n\u001b[0;32m--> 391\u001b[0;31m     \u001b[0mdistances\u001b[0m \u001b[0;34m=\u001b[0m \u001b[0m_calc_distances\u001b[0m\u001b[0;34m(\u001b[0m\u001b[0mmatrix\u001b[0m\u001b[0;34m,\u001b[0m \u001b[0mmedoid\u001b[0m\u001b[0;34m)\u001b[0m\u001b[0;34m\u001b[0m\u001b[0;34m\u001b[0m\u001b[0m\n\u001b[0m\u001b[1;32m    392\u001b[0m     \u001b[0mcluster\u001b[0m \u001b[0;34m=\u001b[0m \u001b[0m_smaller_indices\u001b[0m\u001b[0;34m(\u001b[0m\u001b[0mdistances\u001b[0m\u001b[0;34m,\u001b[0m \u001b[0mkept_mask\u001b[0m\u001b[0;34m,\u001b[0m \u001b[0mthreshold\u001b[0m\u001b[0;34m,\u001b[0m \u001b[0mcuda\u001b[0m\u001b[0;34m)\u001b[0m\u001b[0;34m\u001b[0m\u001b[0;34m\u001b[0m\u001b[0m\n\u001b[1;32m    393\u001b[0m \u001b[0;34m\u001b[0m\u001b[0m\n",
      "\u001b[0;32m~/Documents/vamb/vamb/cluster.py\u001b[0m in \u001b[0;36m_calc_distances\u001b[0;34m(matrix, index)\u001b[0m\n\u001b[1;32m    378\u001b[0m \u001b[0;32mdef\u001b[0m \u001b[0m_calc_distances\u001b[0m\u001b[0;34m(\u001b[0m\u001b[0mmatrix\u001b[0m\u001b[0;34m,\u001b[0m \u001b[0mindex\u001b[0m\u001b[0;34m)\u001b[0m\u001b[0;34m:\u001b[0m\u001b[0;34m\u001b[0m\u001b[0;34m\u001b[0m\u001b[0m\n\u001b[1;32m    379\u001b[0m     \u001b[0;34m\"Return vector of cosine distances from rows of normalized matrix to given row.\"\u001b[0m\u001b[0;34m\u001b[0m\u001b[0;34m\u001b[0m\u001b[0m\n\u001b[0;32m--> 380\u001b[0;31m     \u001b[0mdists\u001b[0m \u001b[0;34m=\u001b[0m \u001b[0;36m0.5\u001b[0m \u001b[0;34m-\u001b[0m \u001b[0mmatrix\u001b[0m\u001b[0;34m.\u001b[0m\u001b[0mmatmul\u001b[0m\u001b[0;34m(\u001b[0m\u001b[0mmatrix\u001b[0m\u001b[0;34m[\u001b[0m\u001b[0mindex\u001b[0m\u001b[0;34m]\u001b[0m\u001b[0;34m)\u001b[0m\u001b[0;34m\u001b[0m\u001b[0;34m\u001b[0m\u001b[0m\n\u001b[0m\u001b[1;32m    381\u001b[0m     \u001b[0mdists\u001b[0m\u001b[0;34m[\u001b[0m\u001b[0mindex\u001b[0m\u001b[0;34m]\u001b[0m \u001b[0;34m=\u001b[0m \u001b[0;36m0.0\u001b[0m \u001b[0;31m# avoid float rounding errors\u001b[0m\u001b[0;34m\u001b[0m\u001b[0;34m\u001b[0m\u001b[0m\n\u001b[1;32m    382\u001b[0m     \u001b[0;32mreturn\u001b[0m \u001b[0mdists\u001b[0m\u001b[0;34m\u001b[0m\u001b[0;34m\u001b[0m\u001b[0m\n",
      "\u001b[0;31mKeyboardInterrupt\u001b[0m: "
     ]
    }
   ],
   "source": [
    "for p1, p2, ii in zip(filepaths_100, clusters_100, indices_100):\n",
    "    save_clusters(p1, p2, indices=ii)"
   ]
  },
  {
   "cell_type": "code",
   "execution_count": 60,
   "id": "c71ec498",
   "metadata": {
    "collapsed": true
   },
   "outputs": [
    {
     "name": "stdout",
     "output_type": "stream",
     "text": [
      "latent_trained_semisupervised.npy\n",
      "First key: S10C363912 (of type: <class 'str'> )\n",
      "Type of values: <class 'set'>\n",
      "First element of value: S9C283629 of type: <class 'str'>\n",
      "Number of bins before splitting and filtering: 3188\n",
      "Number of bins after splitting and filtering: 671\n",
      "latent_trained_labels.npy\n",
      "First key: S4C285569 (of type: <class 'str'> )\n",
      "Type of values: <class 'set'>\n",
      "First element of value: S27C39292 of type: <class 'str'>\n",
      "Number of bins before splitting and filtering: 639\n",
      "Number of bins after splitting and filtering: 717\n",
      "latent_trained.npy\n",
      "First key: S4C262502 (of type: <class 'str'> )\n",
      "Type of values: <class 'set'>\n",
      "First element of value: S4C262502 of type: <class 'str'>\n",
      "Number of bins before splitting and filtering: 36468\n",
      "Number of bins after splitting and filtering: 427\n"
     ]
    }
   ],
   "source": [
    "for p1, p2 in zip(filepaths_one, clusters_one):\n",
    "    save_clusters(p1, p2)"
   ]
  },
  {
   "cell_type": "code",
   "execution_count": 94,
   "id": "d94e0afa",
   "metadata": {},
   "outputs": [
    {
     "name": "stdout",
     "output_type": "stream",
     "text": [
      "(1877, 32) 1877 (1877,)\n",
      "First key: S27C166967 (of type: <class 'numpy.str_'> )\n",
      "Type of values: <class 'set'>\n",
      "First element of value: S27C166967 of type: <class 'numpy.str_'>\n",
      "Number of bins before splitting and filtering: 37226\n",
      "Number of bins after splitting and filtering: 417\n"
     ]
    }
   ],
   "source": [
    "save_clusters_both(\n",
    "    'latent_trained_semisupervised_1_vamb.npy',\n",
    "    'latent_trained_semisupervised_1_both.npy',\n",
    "    np.array(indices1_x),\n",
    "    np.array(indices1_sup),\n",
    "    'clusters_mixed1.tsv',\n",
    ")"
   ]
  },
  {
   "cell_type": "code",
   "execution_count": 95,
   "id": "ece5db3f",
   "metadata": {},
   "outputs": [
    {
     "name": "stdout",
     "output_type": "stream",
     "text": [
      "(18769, 32) 18769 (18769,)\n",
      "First key: S27C202265 (of type: <class 'numpy.str_'> )\n",
      "Type of values: <class 'set'>\n",
      "First element of value: S9C458996 of type: <class 'numpy.str_'>\n",
      "Number of bins before splitting and filtering: 37649\n",
      "Number of bins after splitting and filtering: 399\n",
      "(93843, 32) 93843 (93843,)\n",
      "First key: S26C238967 (of type: <class 'numpy.str_'> )\n",
      "Type of values: <class 'set'>\n",
      "First element of value: S26C238967 of type: <class 'numpy.str_'>\n",
      "Number of bins before splitting and filtering: 25639\n",
      "Number of bins after splitting and filtering: 323\n",
      "(187685, 32) 187685 (187685,)\n",
      "First key: S27C141880 (of type: <class 'numpy.str_'> )\n",
      "Type of values: <class 'set'>\n",
      "First element of value: S27C141880 of type: <class 'numpy.str_'>\n",
      "Number of bins before splitting and filtering: 12725\n",
      "Number of bins after splitting and filtering: 20\n"
     ]
    }
   ],
   "source": [
    "save_clusters_both(\n",
    "    'latent_trained_semisupervised_10_vamb.npy',\n",
    "    'latent_trained_semisupervised_10_both.npy',\n",
    "    np.array(indices10_x),\n",
    "    np.array(indices10_sup),\n",
    "    'clusters_mixed10.tsv',\n",
    ")\n",
    "\n",
    "save_clusters_both(\n",
    "    'latent_trained_semisupervised_50_vamb.npy',\n",
    "    'latent_trained_semisupervised_50_both.npy',\n",
    "    np.array(indices50_x),\n",
    "    np.array(indices50_sup),\n",
    "    'clusters_mixed50.tsv',\n",
    ")\n",
    "\n",
    "save_clusters_both(\n",
    "    'latent_trained_semisupervised_100_vamb.npy',\n",
    "    'latent_trained_semisupervised_100_both.npy',\n",
    "    np.array(indices100_x),\n",
    "    np.array(indices100_sup),\n",
    "    'clusters_mixed100.tsv',\n",
    ")"
   ]
  },
  {
   "cell_type": "code",
   "execution_count": 38,
   "id": "e6818223",
   "metadata": {},
   "outputs": [],
   "source": [
    "bins_all = [bin_saved_clusters(c) for c in clusters]"
   ]
  },
  {
   "cell_type": "code",
   "execution_count": 53,
   "id": "4c1a2101",
   "metadata": {},
   "outputs": [],
   "source": [
    "bins_100 = [bin_saved_clusters(c) for c in clusters_100]"
   ]
  },
  {
   "cell_type": "code",
   "execution_count": 61,
   "id": "6f399c34",
   "metadata": {},
   "outputs": [],
   "source": [
    "bins_one = [bin_saved_clusters(c) for c in clusters_one]"
   ]
  },
  {
   "cell_type": "code",
   "execution_count": 97,
   "id": "98d206d2",
   "metadata": {},
   "outputs": [],
   "source": [
    "bins_mixed = [bin_saved_clusters(c) for c in clusters_mixed]"
   ]
  },
  {
   "cell_type": "code",
   "execution_count": 98,
   "id": "4a8804e9",
   "metadata": {},
   "outputs": [],
   "source": [
    "all_clusters = clusters + clusters_100 + clusters_one + clusters_mixed\n",
    "all_bins = bins_all + bins_100 + bins_one + bins_mixed"
   ]
  },
  {
   "cell_type": "code",
   "execution_count": 100,
   "id": "4712997e",
   "metadata": {},
   "outputs": [
    {
     "data": {
      "image/png": "[encoded data removed]",
      "text/plain": [
       "<Figure size 720x576 with 1 Axes>"
      ]
     },
     "metadata": {
      "needs_background": "light"
     },
     "output_type": "display_data"
    }
   ],
   "source": [
    "for precision in [0.9]:\n",
    "    plt.figure(figsize=(10, 8))\n",
    "    colors = ['#DDDDDD', '#AAAAAA', '#777777', '#444444', '#000000']\n",
    "    recalls = [0.5, 0.6, 0.7, 0.8, 0.9]\n",
    "    for y, bins in zip(range(len(all_clusters)), all_bins):\n",
    "        for color, recall in zip(colors, recalls):\n",
    "            plt.barh(y, bins.counters[0][(recall, precision)], color=color)\n",
    "\n",
    "    plt.title(str(precision), fontsize=18)\n",
    "    plt.yticks(list(range(len(all_clusters))), all_clusters, fontsize=16)\n",
    "    plt.xticks([i*25 for i in range(20)], fontsize=13)\n",
    "    plt.legend([str(i) for i in recalls], bbox_to_anchor=(1, 1.1), title='Recall', fontsize=12)\n",
    "    \n",
    "    if precision == 0.9:\n",
    "        plt.xlabel('# of Genomes Identified', fontsize=16)\n",
    "    plt.gca().set_axisbelow(True)\n",
    "    plt.grid()"
   ]
  },
  {
   "cell_type": "code",
   "execution_count": null,
   "id": "62aa2353",
   "metadata": {},
   "outputs": [],
   "source": []
  }
 ],
 "metadata": {
  "kernelspec": {
   "display_name": "Python 3 (ipykernel)",
   "language": "python",
   "name": "python3"
  },
  "language_info": {
   "codemirror_mode": {
    "name": "ipython",
    "version": 3
   },
   "file_extension": ".py",
   "mimetype": "text/x-python",
   "name": "python",
   "nbconvert_exporter": "python",
   "pygments_lexer": "ipython3",
   "version": "3.9.7"
  }
 },
 "nbformat": 4,
 "nbformat_minor": 5
}
